{
  "nbformat": 4,
  "nbformat_minor": 0,
  "metadata": {
    "colab": {
      "name": "Madhu MVMVEVA1 Assignment15A.ipynb",
      "provenance": [],
      "collapsed_sections": [],
      "include_colab_link": true
    },
    "kernelspec": {
      "name": "python3",
      "display_name": "Python 3"
    }
  },
  "cells": [
    {
      "cell_type": "markdown",
      "metadata": {
        "id": "view-in-github",
        "colab_type": "text"
      },
      "source": [
        "<a href=\"https://colab.research.google.com/github/vmadalasa/EVAConsolidated/blob/master/EVAS14/Madhu_MVMVEVA1_Assignment15A.ipynb\" target=\"_parent\"><img src=\"https://colab.research.google.com/assets/colab-badge.svg\" alt=\"Open In Colab\"/></a>"
      ]
    },
    {
      "cell_type": "code",
      "metadata": {
        "id": "h-fesHNsPKfe",
        "colab_type": "code",
        "colab": {
          "base_uri": "https://localhost:8080/",
          "height": 104
        },
        "outputId": "03100abb-f240-4fcb-df52-d2ac5bace773"
      },
      "source": [
        "import psutil\n",
        "def get_size(bytes, suffix=\"B\"):\n",
        "    factor = 1024\n",
        "    for unit in [\"\", \"K\", \"M\", \"G\", \"T\", \"P\"]:\n",
        "        if bytes < factor:\n",
        "            return f\"{bytes:.2f}{unit}{suffix}\"\n",
        "        bytes /= factor\n",
        "print(\"=\"*40, \"Memory Information\", \"=\"*40)\n",
        "svmem = psutil.virtual_memory()\n",
        "print(f\"Total: {get_size(svmem.total)}\") ; print(f\"Available: {get_size(svmem.available)}\")\n",
        "print(f\"Used: {get_size(svmem.used)}\") ; print(f\"Percentage: {svmem.percent}%\")"
      ],
      "execution_count": null,
      "outputs": [
        {
          "output_type": "stream",
          "text": [
            "======================================== Memory Information ========================================\n",
            "Total: 12.72GB\n",
            "Available: 11.91GB\n",
            "Used: 549.45MB\n",
            "Percentage: 6.3%\n"
          ],
          "name": "stdout"
        }
      ]
    },
    {
      "cell_type": "code",
      "metadata": {
        "id": "Dm2pvUNCzEY9",
        "colab_type": "code",
        "colab": {
          "base_uri": "https://localhost:8080/",
          "height": 124
        },
        "outputId": "4ba7b41b-5254-4a85-c7d6-dfe92d7399a0"
      },
      "source": [
        "from google.colab import drive\n",
        "drive.mount('/content/gdrive', force_remount=True)"
      ],
      "execution_count": null,
      "outputs": [
        {
          "output_type": "stream",
          "text": [
            "Go to this URL in a browser: https://accounts.google.com/o/oauth2/auth?client_id=947318989803-6bn6qk8qdgf4n4g3pfee6491hc0brc4i.apps.googleusercontent.com&redirect_uri=urn%3aietf%3awg%3aoauth%3a2.0%3aoob&response_type=code&scope=email%20https%3a%2f%2fwww.googleapis.com%2fauth%2fdocs.test%20https%3a%2f%2fwww.googleapis.com%2fauth%2fdrive%20https%3a%2f%2fwww.googleapis.com%2fauth%2fdrive.photos.readonly%20https%3a%2f%2fwww.googleapis.com%2fauth%2fpeopleapi.readonly\n",
            "\n",
            "Enter your authorization code:\n",
            "··········\n",
            "Mounted at /content/gdrive\n"
          ],
          "name": "stdout"
        }
      ]
    },
    {
      "cell_type": "code",
      "metadata": {
        "id": "E9ZZQkA2Xnsv",
        "colab_type": "code",
        "colab": {}
      },
      "source": [
        "import sys\n",
        "sys.path.append('/content/gdrive/My Drive/assignment15/')\n",
        "\n",
        "\n",
        "from overlay import overlay"
      ],
      "execution_count": null,
      "outputs": []
    },
    {
      "cell_type": "code",
      "metadata": {
        "id": "oJWPCDSv0gw3",
        "colab_type": "code",
        "colab": {}
      },
      "source": [
        "import time\n",
        "import glob\n",
        "import torch\n",
        "import os\n",
        "import cv2\n",
        "import numpy as np\n",
        "from google.colab.patches import cv2_imshow\n",
        "\n"
      ],
      "execution_count": null,
      "outputs": []
    },
    {
      "cell_type": "code",
      "metadata": {
        "id": "oO-bRxda_m5t",
        "colab_type": "code",
        "colab": {
          "base_uri": "https://localhost:8080/",
          "height": 104
        },
        "outputId": "148c3160-fc25-4160-b673-7c729ab1b123"
      },
      "source": [
        ""
      ],
      "execution_count": null,
      "outputs": [
        {
          "output_type": "stream",
          "text": [
            "======================================== Memory Information ========================================\n",
            "Total: 12.72GB\n",
            "Available: 11.82GB\n",
            "Used: 645.33MB\n",
            "Percentage: 7.1%\n"
          ],
          "name": "stdout"
        }
      ]
    },
    {
      "cell_type": "code",
      "metadata": {
        "id": "T5w1CphSO-uh",
        "colab_type": "code",
        "colab": {}
      },
      "source": [
        "#DO NOT RUN\n",
        "!mkdir fg_images_flip\n",
        "!mkdir mask_images_flip\n",
        "\n",
        "!mkdir fg_bg_images\n",
        "!mkdir mask_bg_images\n",
        "!mkdir bg_images_all\n",
        "!mkdir mv_data"
      ],
      "execution_count": null,
      "outputs": []
    },
    {
      "cell_type": "markdown",
      "metadata": {
        "id": "tvrupS_P_tJI",
        "colab_type": "text"
      },
      "source": [
        "ADD FLIP IMAGES"
      ]
    },
    {
      "cell_type": "code",
      "metadata": {
        "id": "YuvHXFsxPTeM",
        "colab_type": "code",
        "colab": {}
      },
      "source": [
        "#DONE; DO NOT CHANGE\n",
        "#flip fg_first40\n",
        "#overlay.flip_image_alpha ('/content/gdrive/My Drive/Assignment15data/assignment15/ALL_BASE_IMAGES/fg_first40', '/content/gdrive/My Drive/Assignment15data/assignment15/ALL_FLIP_IMAGES/1FG_FLIP/')\n",
        "#flip second 37\n",
        "#overlay.flip_image_alpha ('/content/gdrive/My Drive/Assignment15data/assignment15/ALL_BASE_IMAGES/fg_second37', '/content/gdrive/My Drive/Assignment15data/assignment15/ALL_FLIP_IMAGES/2FG_FLIP/')\n",
        "\n",
        "#flip second 37\n",
        "#overlay.flip_image_alpha ('/content/gdrive/My Drive/Assignment15data/assignment15/ALL_BASE_IMAGES/fg_last23_96', '/content/gdrive/My Drive/Assignment15data/assignment15/ALL_FLIP_IMAGES/3FG_FLIP/')"
      ],
      "execution_count": null,
      "outputs": []
    },
    {
      "cell_type": "code",
      "metadata": {
        "id": "PIlRQ6D8AOSU",
        "colab_type": "code",
        "colab": {
          "base_uri": "https://localhost:8080/",
          "height": 225
        },
        "outputId": "f323ad5c-227e-4a56-f580-66a23030dd06"
      },
      "source": [
        "print('first set')\n",
        "!ls '/content/gdrive/My Drive/Assignment15data/assignment15/ALL_BASE_IMAGES/fg_first40' |wc -l\n",
        "print('first flip')\n",
        "!ls '/content/gdrive/My Drive/Assignment15data/assignment15/ALL_FLIP_IMAGES/1FG_FLIP' |wc -l\n",
        "print('second set')\n",
        "!ls '/content/gdrive/My Drive/Assignment15data/assignment15/ALL_BASE_IMAGES/fg_second37' |wc -l\n",
        "print('secondflip')\n",
        "!ls '/content/gdrive/My Drive/Assignment15data/assignment15/ALL_FLIP_IMAGES/2FG_FLIP' |wc -l\n",
        "print('third set')\n",
        "!ls '/content/gdrive/My Drive/Assignment15data/assignment15/ALL_BASE_IMAGES/fg_last23_96' |wc -l\n",
        "print('thirdflip')\n",
        "!ls '/content/gdrive/My Drive/Assignment15data/assignment15/ALL_FLIP_IMAGES/3FG_FLIP/' |wc -l"
      ],
      "execution_count": null,
      "outputs": [
        {
          "output_type": "stream",
          "text": [
            "first set\n",
            "39\n",
            "first flip\n",
            "39\n",
            "second set\n",
            "37\n",
            "secondflip\n",
            "37\n",
            "third set\n",
            "24\n",
            "thirdflip\n",
            "24\n"
          ],
          "name": "stdout"
        }
      ]
    },
    {
      "cell_type": "markdown",
      "metadata": {
        "id": "TPezfXJjAILZ",
        "colab_type": "text"
      },
      "source": [
        "FLIP MASK IMAGES"
      ]
    },
    {
      "cell_type": "code",
      "metadata": {
        "id": "YZdxJRiGhM9c",
        "colab_type": "code",
        "colab": {}
      },
      "source": [
        ""
      ],
      "execution_count": null,
      "outputs": []
    },
    {
      "cell_type": "code",
      "metadata": {
        "id": "KFIVvmZcLmpI",
        "colab_type": "code",
        "colab": {}
      },
      "source": [
        "#flip fg_first40\n",
        "#overlay.flip_image_wo_alpha ('/content/gdrive/My Drive/Assignment15data/assignment15/ALL_MASK_IMAGES/1FG_MASK', '/content/gdrive/My Drive/Assignment15data/assignment15/ALL_FLIP_IMAGES/1FG_FLIPMASK/')\n",
        "#flip second 37\n",
        "#overlay.flip_image_wo_alpha ('/content/gdrive/My Drive/Assignment15data/assignment15/ALL_MASK_IMAGES/2FG_MASK', '/content/gdrive/My Drive/Assignment15data/assignment15/ALL_FLIP_IMAGES/2FG_FLIPMASK/')\n",
        "#flip third 23\n",
        "#overlay.flip_image_wo_alpha ('/content/gdrive/My Drive/Assignment15data/assignment15/ALL_MASK_IMAGES/3FG_MASK96', '/content/gdrive/My Drive/Assignment15data/assignment15/ALL_FLIP_IMAGES/3FG_FLIPMASK/')\n"
      ],
      "execution_count": null,
      "outputs": []
    },
    {
      "cell_type": "code",
      "metadata": {
        "id": "cB2mgy2V9Rsk",
        "colab_type": "code",
        "colab": {
          "base_uri": "https://localhost:8080/",
          "height": 69
        },
        "outputId": "e3fe6199-5938-4b67-c9af-7c845b062f94"
      },
      "source": [
        "!ls '/content/gdrive/My Drive/Assignment15data/assignment15/ALL_MASK_IMAGES/1FG_MASK/' |wc -l\n",
        "!ls '/content/gdrive/My Drive/Assignment15data/assignment15/ALL_MASK_IMAGES/2FG_MASK/' |wc -l\n",
        "!ls '/content/gdrive/My Drive/Assignment15data/assignment15/ALL_MASK_IMAGES/3FG_MASK/' |wc -l"
      ],
      "execution_count": null,
      "outputs": [
        {
          "output_type": "stream",
          "text": [
            "39\n",
            "37\n",
            "24\n"
          ],
          "name": "stdout"
        }
      ]
    },
    {
      "cell_type": "code",
      "metadata": {
        "id": "A6wOo-7tNcTw",
        "colab_type": "code",
        "colab": {
          "base_uri": "https://localhost:8080/",
          "height": 121
        },
        "outputId": "eff5a4da-ce79-4e8c-fc40-413c356bebca"
      },
      "source": [
        "print('flipmaskfirst40')\n",
        "!ls '/content/gdrive/My Drive/Assignment15data/assignment15/ALL_FLIP_IMAGES/1FG_FLIPMASK/' | wc -l\n",
        "print('flipmasksecond37')\n",
        "!ls '/content/gdrive/My Drive/Assignment15data/assignment15/ALL_FLIP_IMAGES/2FG_FLIPMASK/' | wc -l\n",
        "print('flipmaskthird')\n",
        "!ls '/content/gdrive/My Drive/Assignment15data/assignment15/ALL_FLIP_IMAGES/3FG_FLIPMASK/' | wc -l"
      ],
      "execution_count": null,
      "outputs": [
        {
          "output_type": "stream",
          "text": [
            "flipmaskfirst40\n",
            "39\n",
            "flipmasksecond37\n",
            "37\n",
            "flipmaskthird\n",
            "24\n"
          ],
          "name": "stdout"
        }
      ]
    },
    {
      "cell_type": "markdown",
      "metadata": {
        "id": "939Wj12lAgq0",
        "colab_type": "text"
      },
      "source": [
        "SHOW SOME IMAGES"
      ]
    },
    {
      "cell_type": "code",
      "metadata": {
        "id": "4gXE22LRNi-q",
        "colab_type": "code",
        "colab": {}
      },
      "source": [
        "image = cv2.imread ('/content/gdrive/My Drive/Assignment15A/mv_data/EVA4_Custom_Data/fg_images/img001.png', cv2.IMREAD_UNCHANGED)\n",
        "cv2_imshow (image)"
      ],
      "execution_count": null,
      "outputs": []
    },
    {
      "cell_type": "code",
      "metadata": {
        "id": "evDKWNPAga5h",
        "colab_type": "code",
        "colab": {}
      },
      "source": [
        "from google.colab.patches import cv2_imshow\n",
        "fg_image = cv2.imread ('/content/gdrive/My Drive/Assignment15A/mv_data/EVA4_Custom_Data/fg_images_flip/fg_images_flip/img050.png',cv2.IMREAD_UNCHANGED)\n",
        "cv2_imshow (fg_image)"
      ],
      "execution_count": null,
      "outputs": []
    },
    {
      "cell_type": "markdown",
      "metadata": {
        "id": "S_7AuDwHAiti",
        "colab_type": "text"
      },
      "source": [
        "OVERLAY FG1 on BG"
      ]
    },
    {
      "cell_type": "code",
      "metadata": {
        "id": "f23qZ6StGCh5",
        "colab_type": "code",
        "colab": {
          "base_uri": "https://localhost:8080/",
          "height": 69
        },
        "outputId": "a30989ba-19f1-40e3-d2ab-3c15e3082896"
      },
      "source": [
        "!ls '/content/gdrive/My Drive/Assignment15data/assignment15/FG_BG_OVERLAY/1FG_BG_BASE_OVERLAY/' | wc -l\n",
        "!ls '/content/gdrive/My Drive/Assignment15data/assignment15/ALL_BASE_IMAGES/BG_JPEG/' | wc -l\n",
        "!ls '/content/gdrive/My Drive/Assignment15data/assignment15/ALL_BASE_IMAGES/fg_first40/' | wc -l"
      ],
      "execution_count": null,
      "outputs": [
        {
          "output_type": "stream",
          "text": [
            "0\n",
            "100\n",
            "39\n"
          ],
          "name": "stdout"
        }
      ]
    },
    {
      "cell_type": "code",
      "metadata": {
        "id": "3l52wzs9HaQH",
        "colab_type": "code",
        "colab": {
          "base_uri": "https://localhost:8080/",
          "height": 34
        },
        "outputId": "68ee196d-257e-4f0d-c860-32d496909340"
      },
      "source": [
        "!ls '/content/gdrive/My Drive/Assignment15data/assignment15/ALL_BASE_IMAGES/BG_JPEG/' |wc -l"
      ],
      "execution_count": null,
      "outputs": [
        {
          "output_type": "stream",
          "text": [
            "100\n"
          ],
          "name": "stdout"
        }
      ]
    },
    {
      "cell_type": "code",
      "metadata": {
        "id": "OKCgvEn-fxWE",
        "colab_type": "code",
        "colab": {}
      },
      "source": [
        "#fg_first40, bg first 100\n",
        "#total images 39*100*20 = 78000\n",
        "#overlay.overlay_images (bgpath = '/content/gdrive/My Drive/Assignment15data/assignment15/ALL_BASE_IMAGES/BG_JPEG', fgpath = '/content/gdrive/My Drive/Assignment15data/assignment15/ALL_BASE_IMAGES/fg_first40', newpath = '/content/gdrive/My Drive/Assignment15data/assignment15/FG_BG_OVERLAY/1FG_BG_BASE_OVERLAY', name_prefix = 'base', bg_img_size = 192, fg_img_size = 96)"
      ],
      "execution_count": null,
      "outputs": []
    },
    {
      "cell_type": "code",
      "metadata": {
        "id": "Dwp5eA-kCp2M",
        "colab_type": "code",
        "colab": {
          "base_uri": "https://localhost:8080/",
          "height": 34
        },
        "outputId": "b2aba817-d8cf-4d91-fe9f-f3ddb82d3765"
      },
      "source": [
        "!ls  '/content/gdrive/My Drive/Assignment15data/assignment15/FG_BG_OVERLAY/' |wc -l"
      ],
      "execution_count": null,
      "outputs": [
        {
          "output_type": "stream",
          "text": [
            "152002\n"
          ],
          "name": "stdout"
        }
      ]
    },
    {
      "cell_type": "code",
      "metadata": {
        "id": "IS8tSjtYHVS-",
        "colab_type": "code",
        "colab": {}
      },
      "source": [
        "#fg_second37, bg first 100\n",
        "#total images 37*100*20 = 74000\n",
        "#overlay.overlay_images (bgpath = '/content/gdrive/My Drive/Assignment15data/assignment15/ALL_BASE_IMAGES/BG_JPEG', fgpath = '/content/gdrive/My Drive/Assignment15data/assignment15/ALL_BASE_IMAGES/fg_second37/', newpath = '/content/gdrive/My Drive/Assignment15data/assignment15/FG_BG_OVERLAY/2FG_BG_BASE_OVERLAY', name_prefix = 'base', bg_img_size = 192, fg_img_size = 96)"
      ],
      "execution_count": null,
      "outputs": []
    },
    {
      "cell_type": "code",
      "metadata": {
        "id": "I1EpxRZTedgB",
        "colab_type": "code",
        "colab": {}
      },
      "source": [
        "#fg_last23 bg first 100\n",
        "#total images 24*100*20 = 48000\n",
        "#overlay.overlay_images (bgpath = '/content/gdrive/My Drive/Assignment15data/assignment15/ALL_BASE_IMAGES/BG_JPEG', fgpath = '/content/gdrive/My Drive/Assignment15data/assignment15/ALL_BASE_IMAGES/fg_last23_96/', newpath = '/content/gdrive/My Drive/Assignment15data/assignment15/3FG_ALL_OVERLAY/3FG_BG_OVERLAY/3FG_BG_OVERLAY', name_prefix = 'base', bg_img_size = 192, fg_img_size = 96)"
      ],
      "execution_count": null,
      "outputs": []
    },
    {
      "cell_type": "code",
      "metadata": {
        "id": "GOfHDbresRyU",
        "colab_type": "code",
        "colab": {
          "base_uri": "https://localhost:8080/",
          "height": 34
        },
        "outputId": "2077eed7-b262-4b46-e3e1-1ac5206fa1a7"
      },
      "source": [
        "!ls '/content/gdrive/My Drive/Assignment15data/assignment15/3FG_ALL_OVERLAY/3FG_BG_OVERLAY' |wc -l"
      ],
      "execution_count": null,
      "outputs": [
        {
          "output_type": "stream",
          "text": [
            "48000\n"
          ],
          "name": "stdout"
        }
      ]
    },
    {
      "cell_type": "markdown",
      "metadata": {
        "id": "hge9JmTsN8MI",
        "colab_type": "text"
      },
      "source": [
        "FLIP overlay\n",
        "FG1 and FG2"
      ]
    },
    {
      "cell_type": "code",
      "metadata": {
        "id": "xD2OCyJenNjJ",
        "colab_type": "code",
        "colab": {}
      },
      "source": [
        "#fg_flipfirst40, bg first 25\n",
        "#total images 39*25*20 = 19500\n",
        "#overlay.overlay_images (bgpath = '/content/gdrive/My Drive/Assignment15data/assignment15/ALL_BASE_IMAGES/BG_JPEG', fgpath = '/content/gdrive/My Drive/Assignment15data/assignment15/ALL_FLIP_IMAGES/1FG_FLIP/', newpath = '/content/gdrive/My Drive/Assignment15data/assignment15/FGFLIP_BG_OVERLAY/1FGFLIP_BG/1FGFLIP_BG', name_prefix = 'flip', bg_img_size = 192, fg_img_size = 96)"
      ],
      "execution_count": null,
      "outputs": []
    },
    {
      "cell_type": "code",
      "metadata": {
        "id": "kIvJWTtxnhwN",
        "colab_type": "code",
        "colab": {
          "base_uri": "https://localhost:8080/",
          "height": 72
        },
        "outputId": "1b28f648-508d-4755-b193-2783b173dfc7"
      },
      "source": [
        "!ls '/content/gdrive/My Drive/Assignment15data/assignment15/FGFLIP_BG_OVERLAY/1FGFLIP_BG/' |wc -l"
      ],
      "execution_count": null,
      "outputs": [
        {
          "output_type": "stream",
          "text": [
            "ls: cannot open directory '/content/gdrive/My Drive/Assignment15data/assignment15/FGFLIP_BG_OVERLAY/1FGFLIP_BG/': Input/output error\n",
            "0\n"
          ],
          "name": "stdout"
        }
      ]
    },
    {
      "cell_type": "code",
      "metadata": {
        "id": "siityrlOW542",
        "colab_type": "code",
        "colab": {}
      },
      "source": [
        "#fg_flipfirst40, bg second 25\n",
        "#total images 39*25*20 = 19500\n",
        "#overlay.overlay_images (bgpath = '/content/gdrive/My Drive/Assignment15data/assignment15/ALL_BASE_IMAGES/BG_JPEG', fgpath = '/content/gdrive/My Drive/Assignment15data/assignment15/ALL_FLIP_IMAGES/2FG_FLIP/', newpath = '/content/gdrive/My Drive/Assignment15data/assignment15/FGFLIP_BG_OVERLAY/2FGFLIP_BG/2FGFLIP_BG', name_prefix = 'flip', bg_img_size = 192, fg_img_size = 96)"
      ],
      "execution_count": null,
      "outputs": []
    },
    {
      "cell_type": "code",
      "metadata": {
        "id": "J4NNwjsW4KQP",
        "colab_type": "code",
        "colab": {
          "base_uri": "https://localhost:8080/",
          "height": 72
        },
        "outputId": "622525f7-ad05-479b-edc7-51dd717bdc3b"
      },
      "source": [
        "!ls '/content/gdrive/My Drive/Assignment15data/assignment15/FGFLIP_BG_OVERLAY/2FGFLIP_BG' |wc -l"
      ],
      "execution_count": null,
      "outputs": [
        {
          "output_type": "stream",
          "text": [
            "ls: cannot open directory '/content/gdrive/My Drive/Assignment15data/assignment15/FGFLIP_BG_OVERLAY/2FGFLIP_BG': Input/output error\n",
            "0\n"
          ],
          "name": "stdout"
        }
      ]
    },
    {
      "cell_type": "code",
      "metadata": {
        "id": "MU-kC3iPe8k6",
        "colab_type": "code",
        "colab": {}
      },
      "source": [
        "#fg_flipthird 24, bg 100\n",
        "#total images 48000\n",
        "#overlay.overlay_images (bgpath = '/content/gdrive/My Drive/Assignment15data/assignment15/ALL_BASE_IMAGES/BG_JPEG', fgpath = '/content/gdrive/My Drive/Assignment15data/assignment15/ALL_FLIP_IMAGES/3FG_FLIP/', newpath = '/content/gdrive/My Drive/Assignment15data/assignment15/FGFLIP_BG_OVERLAY/3FGFLIP_BG/3FGFLIP_BG', name_prefix = 'flip', bg_img_size = 192, fg_img_size = 96)"
      ],
      "execution_count": null,
      "outputs": []
    },
    {
      "cell_type": "code",
      "metadata": {
        "id": "WnQGxaGhtMx6",
        "colab_type": "code",
        "colab": {
          "base_uri": "https://localhost:8080/",
          "height": 72
        },
        "outputId": "6f1d6289-4670-4c5d-854a-9a220da89adf"
      },
      "source": [
        "!ls '/content/gdrive/My Drive/Assignment15data/assignment15/FGFLIP_BG_OVERLAY/3FGFLIP_BG/' |wc -l"
      ],
      "execution_count": null,
      "outputs": [
        {
          "output_type": "stream",
          "text": [
            "ls: cannot open directory '/content/gdrive/My Drive/Assignment15data/assignment15/FGFLIP_BG_OVERLAY/3FGFLIP_BG/': Input/output error\n",
            "0\n"
          ],
          "name": "stdout"
        }
      ]
    },
    {
      "cell_type": "markdown",
      "metadata": {
        "id": "UWbApjPXtAFU",
        "colab_type": "text"
      },
      "source": [
        "FG MASK  on BG overlay black "
      ]
    },
    {
      "cell_type": "code",
      "metadata": {
        "id": "uCpAN0gv2Ksw",
        "colab_type": "code",
        "colab": {
          "base_uri": "https://localhost:8080/",
          "height": 34
        },
        "outputId": "a2f02c08-23a2-4ba0-fe23-6ba5ae9f2c79"
      },
      "source": [
        " ls '/content/gdrive/My Drive/Assignment15data/assignment15/ALL_MASK_IMAGES/3FG_MASK96/' |wc -l"
      ],
      "execution_count": null,
      "outputs": [
        {
          "output_type": "stream",
          "text": [
            "24\n"
          ],
          "name": "stdout"
        }
      ]
    },
    {
      "cell_type": "code",
      "metadata": {
        "id": "tpEleTIotH0s",
        "colab_type": "code",
        "colab": {}
      },
      "source": [
        "#1fg_mask; 78000\n",
        "#overlay.overlay_mask_images (bgpath = '/content/gdrive/My Drive/Assignment15data/assignment15/ALL_BASE_IMAGES/black/', fgpath = '/content/gdrive/My Drive/Assignment15data/assignment15/ALL_MASK_IMAGES/1FG_MASK/', newpath = '/content/gdrive/My Drive/Assignment15data/assignment15/FGMASK_OVERLAY/1FGMASK_OVERLAY/1FG_MASK', name_prefix = 'base', bg_img_size = 192, fg_img_size = 96)"
      ],
      "execution_count": null,
      "outputs": []
    },
    {
      "cell_type": "code",
      "metadata": {
        "id": "hNM6lhZB1XI9",
        "colab_type": "code",
        "colab": {
          "base_uri": "https://localhost:8080/",
          "height": 34
        },
        "outputId": "20c01012-beae-4b18-efdc-32eac4f9ce7e"
      },
      "source": [
        "!ls '/content/gdrive/My Drive/Assignment15data/assignment15/FGMASK_OVERLAY/1FGMASK_OVERLAY/' | wc -l"
      ],
      "execution_count": null,
      "outputs": [
        {
          "output_type": "stream",
          "text": [
            "^C\n"
          ],
          "name": "stdout"
        }
      ]
    },
    {
      "cell_type": "code",
      "metadata": {
        "id": "cHlK47nctIqW",
        "colab_type": "code",
        "colab": {}
      },
      "source": [
        "#2fg_mask ; 74000\n",
        "#overlay.overlay_mask_images (bgpath = '/content/gdrive/My Drive/Assignment15data/assignment15/ALL_BASE_IMAGES/black/', fgpath = '/content/gdrive/My Drive/Assignment15data/assignment15/ALL_MASK_IMAGES/2FG_MASK/', newpath = '/content/gdrive/My Drive/Assignment15data/assignment15/FGMASK_OVERLAY/2FGMASK_OVERLAY/2FG_MASK', name_prefix = 'base', bg_img_size = 192, fg_img_size = 96)"
      ],
      "execution_count": null,
      "outputs": []
    },
    {
      "cell_type": "code",
      "metadata": {
        "id": "j00nRus699L0",
        "colab_type": "code",
        "colab": {
          "base_uri": "https://localhost:8080/",
          "height": 72
        },
        "outputId": "b88a126e-9219-4567-c674-aafceae8868a"
      },
      "source": [
        "#!cd '/content/gdrive/My Drive/Assignment15data/assignment15/'\n",
        "!ls '/content/gdrive/My Drive/Assignment15data/assignment15/FGMASK_OVERLAY/2FGMASK_OVERLAY/' |wc -l"
      ],
      "execution_count": null,
      "outputs": [
        {
          "output_type": "stream",
          "text": [
            "ls: cannot open directory '/content/gdrive/My Drive/Assignment15data/assignment15/FGMASK_OVERLAY/2FGMASK_OVERLAY/': Input/output error\n",
            "0\n"
          ],
          "name": "stdout"
        }
      ]
    },
    {
      "cell_type": "code",
      "metadata": {
        "id": "iqa0XEH5htEw",
        "colab_type": "code",
        "colab": {}
      },
      "source": [
        "#3fg_mask ; 48000\n",
        "#overlay.overlay_mask_images (bgpath = '/content/gdrive/My Drive/Assignment15data/assignment15/ALL_BASE_IMAGES/black/', fgpath = '/content/gdrive/My Drive/Assignment15data/assignment15/ALL_MASK_IMAGES/3FG_MASK96/', newpath = '/content/gdrive/My Drive/Assignment15data/assignment15/FGMASK_OVERLAY/3FGMASK_OVERLAY/3FG_MASK', name_prefix = 'base', bg_img_size = 192, fg_img_size = 96)"
      ],
      "execution_count": null,
      "outputs": []
    },
    {
      "cell_type": "code",
      "metadata": {
        "id": "oXZT74aTo6Lm",
        "colab_type": "code",
        "colab": {}
      },
      "source": [
        "!ls '/content/gdrive/My Drive/Assignment15data/assignment15/FGMASK_OVERLAY/3FGMASK_OVERLAY/' |wc -l"
      ],
      "execution_count": null,
      "outputs": []
    },
    {
      "cell_type": "code",
      "metadata": {
        "id": "xitArbHscgwq",
        "colab_type": "code",
        "colab": {
          "base_uri": "https://localhost:8080/",
          "height": 141
        },
        "outputId": "4e5971b7-5306-4bbc-a086-521ab837cb56"
      },
      "source": [
        "#ALL MASKS\n",
        "!ls '/content/gdrive/My Drive/Assignment15data/assignment15/FGMASK_OVERLAY/1FGMASK_OVERLAY/' | wc -l\n",
        "!ls '/content/gdrive/My Drive/Assignment15data/assignment15/FGMASK_OVERLAY/2FGMASK_OVERLAY/' |wc -l\n",
        "!ls '/content/gdrive/My Drive/Assignment15data/assignment15/FGMASK_OVERLAY/3FGMASK_OVERLAY/' |wc -l"
      ],
      "execution_count": null,
      "outputs": [
        {
          "output_type": "stream",
          "text": [
            "ls: cannot open directory '/content/gdrive/My Drive/Assignment15data/assignment15/FGMASK_OVERLAY/1FGMASK_OVERLAY/': Input/output error\n",
            "0\n",
            "ls: cannot open directory '/content/gdrive/My Drive/Assignment15data/assignment15/FGMASK_OVERLAY/2FGMASK_OVERLAY/': Input/output error\n",
            "0\n",
            "ls: cannot open directory '/content/gdrive/My Drive/Assignment15data/assignment15/FGMASK_OVERLAY/3FGMASK_OVERLAY/': Input/output error\n",
            "0\n"
          ],
          "name": "stdout"
        }
      ]
    },
    {
      "cell_type": "markdown",
      "metadata": {
        "id": "0k-5v-FQz-Gj",
        "colab_type": "text"
      },
      "source": [
        "FG MASK FLIP on BG OVERLAY"
      ]
    },
    {
      "cell_type": "code",
      "metadata": {
        "id": "jH9ZjVIaMSI1",
        "colab_type": "code",
        "colab": {}
      },
      "source": [
        "#fg_second37, bg first 25\n",
        "#total images 37*25*20 = 18500\n",
        "#overlay.overlay_mask_images (bgpath = '/content/gdrive/My Drive/Assignment15data/assignment15/ALL_BASE_IMAGES/black/', fgpath = '/content/gdrive/My Drive/Assignment15data/assignment15/ALL_FLIP_IMAGES/1FG_FLIPMASK/', newpath = '/content/gdrive/My Drive/Assignment15data/assignment15/FG_MASKFLIP_OVERLAY/1FG_MASKFLIP/1FGMF', name_prefix = 'flip', bg_img_size = 192, fg_img_size = 96)"
      ],
      "execution_count": null,
      "outputs": []
    },
    {
      "cell_type": "code",
      "metadata": {
        "id": "Gnf46oXlsveR",
        "colab_type": "code",
        "colab": {
          "base_uri": "https://localhost:8080/",
          "height": 34
        },
        "outputId": "093cfefb-2f62-46d1-ab83-5fd90f9e07e7"
      },
      "source": [
        "!ls '/content/gdrive/My Drive/Assignment15data/assignment15/FG_MASKFLIP_OVERLAY/1FG_MASKFLIP/'  |wc -l"
      ],
      "execution_count": null,
      "outputs": [
        {
          "output_type": "stream",
          "text": [
            "78000\n"
          ],
          "name": "stdout"
        }
      ]
    },
    {
      "cell_type": "code",
      "metadata": {
        "id": "s8fl-4eXMVaL",
        "colab_type": "code",
        "colab": {}
      },
      "source": [
        "#fg_second37, bg second 25\n",
        "#total images 37*25*20 = 18500\n",
        "#overlay.overlay_mask_images (bgpath = '/content/gdrive/My Drive/Assignment15data/assignment15/ALL_BASE_IMAGES/black/', fgpath = '/content/gdrive/My Drive/Assignment15data/assignment15/ALL_FLIP_IMAGES/2FG_FLIPMASK/', newpath = '/content/gdrive/My Drive/Assignment15data/assignment15/FG_MASKFLIP_OVERLAY/2FG_MASKFLIP/2FGMF', name_prefix = 'flip', bg_img_size = 192, fg_img_size = 96)"
      ],
      "execution_count": null,
      "outputs": []
    },
    {
      "cell_type": "code",
      "metadata": {
        "id": "C0bQlD2ts0Ie",
        "colab_type": "code",
        "colab": {
          "base_uri": "https://localhost:8080/",
          "height": 34
        },
        "outputId": "112afcb8-55b3-4d0c-8b26-d6e5cd585cd4"
      },
      "source": [
        "!ls '/content/gdrive/My Drive/Assignment15data/assignment15/FG_MASKFLIP_OVERLAY/2FG_MASKFLIP/'  |wc -l"
      ],
      "execution_count": null,
      "outputs": [
        {
          "output_type": "stream",
          "text": [
            "74000\n"
          ],
          "name": "stdout"
        }
      ]
    },
    {
      "cell_type": "code",
      "metadata": {
        "id": "jfpz5tPo-caO",
        "colab_type": "code",
        "colab": {}
      },
      "source": [
        "#fg_second37, bg second 25\n",
        "#total images 37*25*20 = 18500\n",
        "#overlay.overlay_mask_images (bgpath = '/content/gdrive/My Drive/Assignment15data/assignment15/ALL_BASE_IMAGES/black/', fgpath = '/content/gdrive/My Drive/Assignment15data/assignment15/ALL_FLIP_IMAGES/3FG_FLIPMASK/', newpath = '/content/gdrive/My Drive/Assignment15data/assignment15/FG_MASKFLIP_OVERLAY/3FG_MASKFLIP/3FGMF', name_prefix = 'flip', bg_img_size = 192, fg_img_size = 96)"
      ],
      "execution_count": null,
      "outputs": []
    },
    {
      "cell_type": "code",
      "metadata": {
        "id": "g9vagmNMcGSz",
        "colab_type": "code",
        "colab": {
          "base_uri": "https://localhost:8080/",
          "height": 34
        },
        "outputId": "15da9c03-4205-469f-c7ea-262950b5d0ae"
      },
      "source": [
        "!ls '/content/gdrive/My Drive/Assignment15data/assignment15/FG_MASKFLIP_OVERLAY/3FG_MASKFLIP/'  |wc -l"
      ],
      "execution_count": null,
      "outputs": [
        {
          "output_type": "stream",
          "text": [
            "48000\n"
          ],
          "name": "stdout"
        }
      ]
    },
    {
      "cell_type": "code",
      "metadata": {
        "id": "XzSALvwBVfvw",
        "colab_type": "code",
        "colab": {
          "base_uri": "https://localhost:8080/",
          "height": 69
        },
        "outputId": "ab6f28d9-fcd4-49ef-ba86-6d5f1cb84650"
      },
      "source": [
        "#ALL CHECKS\n",
        "\n",
        "\n",
        "#ALL FLIP MASKS\n",
        "!ls '/content/gdrive/My Drive/Assignment15data/assignment15/FG_MASKFLIP_OVERLAY/1FG_MASKFLIP/'  |wc -l\n",
        "!ls '/content/gdrive/My Drive/Assignment15data/assignment15/FG_MASKFLIP_OVERLAY/2FG_MASKFLIP/'  |wc -l\n",
        "!ls '/content/gdrive/My Drive/Assignment15data/assignment15/FG_MASKFLIP_OVERLAY/3FG_MASKFLIP/'  |wc -l\n"
      ],
      "execution_count": null,
      "outputs": [
        {
          "output_type": "stream",
          "text": [
            "78000\n",
            "74000\n",
            "48000\n"
          ],
          "name": "stdout"
        }
      ]
    },
    {
      "cell_type": "markdown",
      "metadata": {
        "id": "nf3JrvnCsX8e",
        "colab_type": "text"
      },
      "source": [
        "next section"
      ]
    },
    {
      "cell_type": "code",
      "metadata": {
        "id": "Ba_8naecBVIv",
        "colab_type": "code",
        "colab": {}
      },
      "source": [
        "overlay.overlay_mask_images (bgpath = '/content/EVA4_Custom_Data/addon_images/', fgpath = '/content/EVA4_Custom_Data/mask_images/', newpath = '/content/EVA4_Custom_Data/mask_bg_images/', name_prefix = 'base', bg_img_size = 224, fg_img_size = 112)"
      ],
      "execution_count": null,
      "outputs": []
    },
    {
      "cell_type": "code",
      "metadata": {
        "id": "Ccu8uOooDfG4",
        "colab_type": "code",
        "colab": {}
      },
      "source": [
        "overlay.overlay_mask_images (bgpath = '/content/EVA4_Custom_Data/addon_images/', fgpath = '/content/EVA4_Custom_Data/mask_images_flip/', newpath = '/content/EVA4_Custom_Data/mask_bg_images/', name_prefix = 'flip', bg_img_size = 224, fg_img_size = 112)"
      ],
      "execution_count": null,
      "outputs": []
    },
    {
      "cell_type": "code",
      "metadata": {
        "id": "rbZvSOn9LpSz",
        "colab_type": "code",
        "colab": {}
      },
      "source": [
        "overlay.load_all_images (bgpath = '/content/EVA4_Custom_Data/bg_images/', fgpath = '/content/EVA4_Custom_Data/fg_images', newpath = '/content/EVA4_Custom_Data/bg_images_all/', name_prefix = 'base', bg_img_size = 224, fg_img_size = 112)"
      ],
      "execution_count": null,
      "outputs": []
    },
    {
      "cell_type": "code",
      "metadata": {
        "id": "mzFoXBlRLpzQ",
        "colab_type": "code",
        "colab": {}
      },
      "source": [
        "overlay.load_all_images (bgpath = '/content/EVA4_Custom_Data/bg_images/', fgpath = '/content/EVA4_Custom_Data/fg_images_flip', newpath = '/content/EVA4_Custom_Data/bg_images_all/', name_prefix = 'flip', bg_img_size = 224, fg_img_size = 112)"
      ],
      "execution_count": null,
      "outputs": []
    },
    {
      "cell_type": "code",
      "metadata": {
        "id": "8cO_rT9jo7H_",
        "colab_type": "code",
        "colab": {
          "base_uri": "https://localhost:8080/",
          "height": 34
        },
        "outputId": "cfdfbb1a-f087-4bcd-9960-7813eba1482b"
      },
      "source": [
        "!wget https://s3-eu-west-1.amazonaws.com/densedepth/nyu.h5 -O /content/DenseDepth/nyu.h5"
      ],
      "execution_count": null,
      "outputs": [
        {
          "output_type": "stream",
          "text": [
            "/content/DenseDepth/nyu.h5: No such file or directory\n"
          ],
          "name": "stdout"
        }
      ]
    },
    {
      "cell_type": "code",
      "metadata": {
        "id": "MP0jmnNkv_WO",
        "colab_type": "code",
        "colab": {}
      },
      "source": [
        "!rm /content/DenseDepth/layers.py\n"
      ],
      "execution_count": null,
      "outputs": []
    },
    {
      "cell_type": "code",
      "metadata": {
        "id": "8DB1wTmQwaxt",
        "colab_type": "code",
        "colab": {
          "base_uri": "https://localhost:8080/",
          "height": 68
        },
        "outputId": "54dd7237-d60f-445e-b18e-c59b1f3120ba"
      },
      "source": [
        "!gsutil cp '/content/gdrive/My Drive/EVA4/Assignment_15/15A/files/densedepth/layers.py' /content/DenseDepth/"
      ],
      "execution_count": null,
      "outputs": [
        {
          "output_type": "stream",
          "text": [
            "Copying file:///content/gdrive/My Drive/EVA4/Assignment_15/15A/files/densedepth/layers.py...\n",
            "/ [1 files][  2.1 KiB/  2.1 KiB]                                                \n",
            "Operation completed over 1 objects/2.1 KiB.                                      \n"
          ],
          "name": "stdout"
        }
      ]
    },
    {
      "cell_type": "code",
      "metadata": {
        "id": "-j46CxI9pAo5",
        "colab_type": "code",
        "colab": {
          "base_uri": "https://localhost:8080/",
          "height": 136
        },
        "outputId": "0f18ca02-d24b-4725-d0f8-309b56ddc97f"
      },
      "source": [
        "!cd /content/DenseDepth; python test.py --input 'examples/*.png'"
      ],
      "execution_count": null,
      "outputs": [
        {
          "output_type": "stream",
          "text": [
            "Using TensorFlow backend.\n",
            "Loading model...\n",
            "\n",
            "Model loaded (nyu.h5).\n",
            "\n",
            "Loaded (12) images of size (480, 640, 3).\n",
            "<Figure size 1000x500 with 1 Axes>\n"
          ],
          "name": "stdout"
        }
      ]
    },
    {
      "cell_type": "code",
      "metadata": {
        "id": "kJ-cEcvw7y6e",
        "colab_type": "code",
        "colab": {
          "base_uri": "https://localhost:8080/",
          "height": 34
        },
        "outputId": "c1fc8130-9f5a-4b26-b4b2-8e7b95f1a018"
      },
      "source": [
        "from keras.engine.topology import Layer, InputSpec\n",
        "import keras.utils.conv_utils as conv_utils\n",
        "import tensorflow as tf\n",
        "import keras.backend as K"
      ],
      "execution_count": null,
      "outputs": [
        {
          "output_type": "stream",
          "text": [
            "Using TensorFlow backend.\n"
          ],
          "name": "stderr"
        }
      ]
    },
    {
      "cell_type": "code",
      "metadata": {
        "id": "hXBaUiFs4Dol",
        "colab_type": "code",
        "colab": {}
      },
      "source": [
        "import sys\n",
        "sys.path.append('/content/DenseDepth/')\n",
        "\n",
        "from layers import BilinearUpSampling2D\n",
        "from utils import predict, load_images, display_images"
      ],
      "execution_count": null,
      "outputs": []
    },
    {
      "cell_type": "code",
      "metadata": {
        "id": "qAcSjLw7LBMb",
        "colab_type": "code",
        "colab": {}
      },
      "source": [
        "import os\n",
        "import glob\n",
        "import argparse\n",
        "import matplotlib\n",
        "\n",
        "# Keras / TensorFlow\n",
        "os.environ['TF_CPP_MIN_LOG_LEVEL'] = '5'\n",
        "from keras.models import load_model\n",
        "from layers import BilinearUpSampling2D\n",
        "from utils import predict, load_images, display_images\n",
        "from matplotlib import pyplot as plt"
      ],
      "execution_count": null,
      "outputs": []
    },
    {
      "cell_type": "code",
      "metadata": {
        "id": "mOxX-eldLuib",
        "colab_type": "code",
        "colab": {}
      },
      "source": [
        "custom_objects = {'BilinearUpSampling2D': BilinearUpSampling2D, 'depth_loss_function': None}"
      ],
      "execution_count": null,
      "outputs": []
    },
    {
      "cell_type": "code",
      "metadata": {
        "id": "FrWSvBEkLzrN",
        "colab_type": "code",
        "colab": {
          "base_uri": "https://localhost:8080/",
          "height": 1000
        },
        "outputId": "24814b4e-de61-4dfd-f400-d7c1fb6c2421"
      },
      "source": [
        "!pip install 'tensorflow==1.15'\n",
        "model = load_model('/content/DenseDepth/nyu.h5', custom_objects=custom_objects, compile=False)"
      ],
      "execution_count": null,
      "outputs": [
        {
          "output_type": "stream",
          "text": [
            "Collecting tensorflow==1.15\n",
            "\u001b[?25l  Downloading https://files.pythonhosted.org/packages/3f/98/5a99af92fb911d7a88a0005ad55005f35b4c1ba8d75fba02df726cd936e6/tensorflow-1.15.0-cp36-cp36m-manylinux2010_x86_64.whl (412.3MB)\n",
            "\u001b[K     |████████████████████████████████| 412.3MB 39kB/s \n",
            "\u001b[?25hRequirement already satisfied: grpcio>=1.8.6 in /usr/local/lib/python3.6/dist-packages (from tensorflow==1.15) (1.30.0)\n",
            "\u001b[33mWARNING: Retrying (Retry(total=4, connect=None, read=None, redirect=None, status=None)) after connection broken by 'ProtocolError('Connection aborted.', ConnectionResetError(104, 'Connection reset by peer'))': /simple/gast/\u001b[0m\n",
            "Collecting gast==0.2.2\n",
            "\u001b[33m  WARNING: Retrying (Retry(total=4, connect=None, read=None, redirect=None, status=None)) after connection broken by 'ProtocolError('Connection aborted.', ConnectionResetError(104, 'Connection reset by peer'))': /packages/4e/35/11749bf99b2d4e3cceb4d55ca22590b0d7c2c62b9de38ac4a4a7f4687421/gast-0.2.2.tar.gz\u001b[0m\n",
            "  Downloading https://files.pythonhosted.org/packages/4e/35/11749bf99b2d4e3cceb4d55ca22590b0d7c2c62b9de38ac4a4a7f4687421/gast-0.2.2.tar.gz\n",
            "Requirement already satisfied: astor>=0.6.0 in /usr/local/lib/python3.6/dist-packages (from tensorflow==1.15) (0.8.1)\n",
            "Requirement already satisfied: six>=1.10.0 in /usr/local/lib/python3.6/dist-packages (from tensorflow==1.15) (1.12.0)\n",
            "Requirement already satisfied: wheel>=0.26 in /usr/local/lib/python3.6/dist-packages (from tensorflow==1.15) (0.34.2)\n",
            "Requirement already satisfied: wrapt>=1.11.1 in /usr/local/lib/python3.6/dist-packages (from tensorflow==1.15) (1.12.1)\n",
            "Requirement already satisfied: google-pasta>=0.1.6 in /usr/local/lib/python3.6/dist-packages (from tensorflow==1.15) (0.2.0)\n",
            "Requirement already satisfied: protobuf>=3.6.1 in /usr/local/lib/python3.6/dist-packages (from tensorflow==1.15) (3.12.2)\n",
            "Requirement already satisfied: keras-applications>=1.0.8 in /usr/local/lib/python3.6/dist-packages (from tensorflow==1.15) (1.0.8)\n",
            "Requirement already satisfied: keras-preprocessing>=1.0.5 in /usr/local/lib/python3.6/dist-packages (from tensorflow==1.15) (1.1.2)\n",
            "Requirement already satisfied: numpy<2.0,>=1.16.0 in /usr/local/lib/python3.6/dist-packages (from tensorflow==1.15) (1.18.5)\n",
            "Collecting tensorflow-estimator==1.15.1\n",
            "\u001b[?25l  Downloading https://files.pythonhosted.org/packages/de/62/2ee9cd74c9fa2fa450877847ba560b260f5d0fb70ee0595203082dafcc9d/tensorflow_estimator-1.15.1-py2.py3-none-any.whl (503kB)\n",
            "\u001b[K     |████████████████████████████████| 512kB 3.9MB/s \n",
            "\u001b[?25hCollecting tensorboard<1.16.0,>=1.15.0\n",
            "\u001b[?25l  Downloading https://files.pythonhosted.org/packages/1e/e9/d3d747a97f7188f48aa5eda486907f3b345cd409f0a0850468ba867db246/tensorboard-1.15.0-py3-none-any.whl (3.8MB)\n",
            "\u001b[K     |████████████████████████████████| 3.8MB 12.3MB/s \n",
            "\u001b[?25hRequirement already satisfied: opt-einsum>=2.3.2 in /usr/local/lib/python3.6/dist-packages (from tensorflow==1.15) (3.2.1)\n",
            "Requirement already satisfied: absl-py>=0.7.0 in /usr/local/lib/python3.6/dist-packages (from tensorflow==1.15) (0.9.0)\n",
            "Requirement already satisfied: termcolor>=1.1.0 in /usr/local/lib/python3.6/dist-packages (from tensorflow==1.15) (1.1.0)\n",
            "Requirement already satisfied: setuptools in /usr/local/lib/python3.6/dist-packages (from protobuf>=3.6.1->tensorflow==1.15) (49.1.0)\n",
            "Requirement already satisfied: h5py in /usr/local/lib/python3.6/dist-packages (from keras-applications>=1.0.8->tensorflow==1.15) (2.10.0)\n",
            "Requirement already satisfied: werkzeug>=0.11.15 in /usr/local/lib/python3.6/dist-packages (from tensorboard<1.16.0,>=1.15.0->tensorflow==1.15) (1.0.1)\n",
            "Requirement already satisfied: markdown>=2.6.8 in /usr/local/lib/python3.6/dist-packages (from tensorboard<1.16.0,>=1.15.0->tensorflow==1.15) (3.2.2)\n",
            "Requirement already satisfied: importlib-metadata; python_version < \"3.8\" in /usr/local/lib/python3.6/dist-packages (from markdown>=2.6.8->tensorboard<1.16.0,>=1.15.0->tensorflow==1.15) (1.7.0)\n",
            "Requirement already satisfied: zipp>=0.5 in /usr/local/lib/python3.6/dist-packages (from importlib-metadata; python_version < \"3.8\"->markdown>=2.6.8->tensorboard<1.16.0,>=1.15.0->tensorflow==1.15) (3.1.0)\n",
            "Building wheels for collected packages: gast\n",
            "  Building wheel for gast (setup.py) ... \u001b[?25l\u001b[?25hdone\n",
            "  Created wheel for gast: filename=gast-0.2.2-cp36-none-any.whl size=7540 sha256=7b10d16ca8e2b588f61334daf6f5674d76538565a82d19f57135f4a6bc1933f8\n",
            "  Stored in directory: /root/.cache/pip/wheels/5c/2e/7e/a1d4d4fcebe6c381f378ce7743a3ced3699feb89bcfbdadadd\n",
            "Successfully built gast\n",
            "\u001b[31mERROR: tensorflow-probability 0.10.0 has requirement gast>=0.3.2, but you'll have gast 0.2.2 which is incompatible.\u001b[0m\n",
            "Installing collected packages: gast, tensorflow-estimator, tensorboard, tensorflow\n",
            "  Found existing installation: gast 0.3.3\n",
            "    Uninstalling gast-0.3.3:\n",
            "      Successfully uninstalled gast-0.3.3\n",
            "  Found existing installation: tensorflow-estimator 2.2.0\n",
            "    Uninstalling tensorflow-estimator-2.2.0:\n",
            "      Successfully uninstalled tensorflow-estimator-2.2.0\n",
            "  Found existing installation: tensorboard 2.2.2\n",
            "    Uninstalling tensorboard-2.2.2:\n",
            "      Successfully uninstalled tensorboard-2.2.2\n",
            "  Found existing installation: tensorflow 2.2.0\n",
            "    Uninstalling tensorflow-2.2.0:\n",
            "      Successfully uninstalled tensorflow-2.2.0\n",
            "Successfully installed gast-0.2.2 tensorboard-1.15.0 tensorflow-1.15.0 tensorflow-estimator-1.15.1\n"
          ],
          "name": "stdout"
        },
        {
          "output_type": "display_data",
          "data": {
            "application/vnd.colab-display-data+json": {
              "pip_warning": {
                "packages": [
                  "gast",
                  "tensorboard",
                  "tensorflow"
                ]
              }
            }
          },
          "metadata": {
            "tags": []
          }
        },
        {
          "output_type": "error",
          "ename": "AttributeError",
          "evalue": "ignored",
          "traceback": [
            "\u001b[0;31m---------------------------------------------------------------------------\u001b[0m",
            "\u001b[0;31mAttributeError\u001b[0m                            Traceback (most recent call last)",
            "\u001b[0;32m<ipython-input-12-9a514801ac5b>\u001b[0m in \u001b[0;36m<module>\u001b[0;34m()\u001b[0m\n\u001b[1;32m      1\u001b[0m \u001b[0mget_ipython\u001b[0m\u001b[0;34m(\u001b[0m\u001b[0;34m)\u001b[0m\u001b[0;34m.\u001b[0m\u001b[0msystem\u001b[0m\u001b[0;34m(\u001b[0m\u001b[0;34m\"pip install 'tensorflow==1.15'\"\u001b[0m\u001b[0;34m)\u001b[0m\u001b[0;34m\u001b[0m\u001b[0;34m\u001b[0m\u001b[0m\n\u001b[0;32m----> 2\u001b[0;31m \u001b[0mmodel\u001b[0m \u001b[0;34m=\u001b[0m \u001b[0mload_model\u001b[0m\u001b[0;34m(\u001b[0m\u001b[0;34m'/content/DenseDepth/nyu.h5'\u001b[0m\u001b[0;34m,\u001b[0m \u001b[0mcustom_objects\u001b[0m\u001b[0;34m=\u001b[0m\u001b[0mcustom_objects\u001b[0m\u001b[0;34m,\u001b[0m \u001b[0mcompile\u001b[0m\u001b[0;34m=\u001b[0m\u001b[0;32mFalse\u001b[0m\u001b[0;34m)\u001b[0m\u001b[0;34m\u001b[0m\u001b[0;34m\u001b[0m\u001b[0m\n\u001b[0m",
            "\u001b[0;32m/usr/local/lib/python3.6/dist-packages/keras/engine/saving.py\u001b[0m in \u001b[0;36mload_wrapper\u001b[0;34m(*args, **kwargs)\u001b[0m\n\u001b[1;32m    490\u001b[0m                 \u001b[0mos\u001b[0m\u001b[0;34m.\u001b[0m\u001b[0mremove\u001b[0m\u001b[0;34m(\u001b[0m\u001b[0mtmp_filepath\u001b[0m\u001b[0;34m)\u001b[0m\u001b[0;34m\u001b[0m\u001b[0;34m\u001b[0m\u001b[0m\n\u001b[1;32m    491\u001b[0m             \u001b[0;32mreturn\u001b[0m \u001b[0mres\u001b[0m\u001b[0;34m\u001b[0m\u001b[0;34m\u001b[0m\u001b[0m\n\u001b[0;32m--> 492\u001b[0;31m         \u001b[0;32mreturn\u001b[0m \u001b[0mload_function\u001b[0m\u001b[0;34m(\u001b[0m\u001b[0;34m*\u001b[0m\u001b[0margs\u001b[0m\u001b[0;34m,\u001b[0m \u001b[0;34m**\u001b[0m\u001b[0mkwargs\u001b[0m\u001b[0;34m)\u001b[0m\u001b[0;34m\u001b[0m\u001b[0;34m\u001b[0m\u001b[0m\n\u001b[0m\u001b[1;32m    493\u001b[0m \u001b[0;34m\u001b[0m\u001b[0m\n\u001b[1;32m    494\u001b[0m     \u001b[0;32mreturn\u001b[0m \u001b[0mload_wrapper\u001b[0m\u001b[0;34m\u001b[0m\u001b[0;34m\u001b[0m\u001b[0m\n",
            "\u001b[0;32m/usr/local/lib/python3.6/dist-packages/keras/engine/saving.py\u001b[0m in \u001b[0;36mload_model\u001b[0;34m(filepath, custom_objects, compile)\u001b[0m\n\u001b[1;32m    582\u001b[0m     \u001b[0;32mif\u001b[0m \u001b[0mH5Dict\u001b[0m\u001b[0;34m.\u001b[0m\u001b[0mis_supported_type\u001b[0m\u001b[0;34m(\u001b[0m\u001b[0mfilepath\u001b[0m\u001b[0;34m)\u001b[0m\u001b[0;34m:\u001b[0m\u001b[0;34m\u001b[0m\u001b[0;34m\u001b[0m\u001b[0m\n\u001b[1;32m    583\u001b[0m         \u001b[0;32mwith\u001b[0m \u001b[0mH5Dict\u001b[0m\u001b[0;34m(\u001b[0m\u001b[0mfilepath\u001b[0m\u001b[0;34m,\u001b[0m \u001b[0mmode\u001b[0m\u001b[0;34m=\u001b[0m\u001b[0;34m'r'\u001b[0m\u001b[0;34m)\u001b[0m \u001b[0;32mas\u001b[0m \u001b[0mh5dict\u001b[0m\u001b[0;34m:\u001b[0m\u001b[0;34m\u001b[0m\u001b[0;34m\u001b[0m\u001b[0m\n\u001b[0;32m--> 584\u001b[0;31m             \u001b[0mmodel\u001b[0m \u001b[0;34m=\u001b[0m \u001b[0m_deserialize_model\u001b[0m\u001b[0;34m(\u001b[0m\u001b[0mh5dict\u001b[0m\u001b[0;34m,\u001b[0m \u001b[0mcustom_objects\u001b[0m\u001b[0;34m,\u001b[0m \u001b[0mcompile\u001b[0m\u001b[0;34m)\u001b[0m\u001b[0;34m\u001b[0m\u001b[0;34m\u001b[0m\u001b[0m\n\u001b[0m\u001b[1;32m    585\u001b[0m     \u001b[0;32melif\u001b[0m \u001b[0mhasattr\u001b[0m\u001b[0;34m(\u001b[0m\u001b[0mfilepath\u001b[0m\u001b[0;34m,\u001b[0m \u001b[0;34m'write'\u001b[0m\u001b[0;34m)\u001b[0m \u001b[0;32mand\u001b[0m \u001b[0mcallable\u001b[0m\u001b[0;34m(\u001b[0m\u001b[0mfilepath\u001b[0m\u001b[0;34m.\u001b[0m\u001b[0mwrite\u001b[0m\u001b[0;34m)\u001b[0m\u001b[0;34m:\u001b[0m\u001b[0;34m\u001b[0m\u001b[0;34m\u001b[0m\u001b[0m\n\u001b[1;32m    586\u001b[0m         \u001b[0;32mdef\u001b[0m \u001b[0mload_function\u001b[0m\u001b[0;34m(\u001b[0m\u001b[0mh5file\u001b[0m\u001b[0;34m)\u001b[0m\u001b[0;34m:\u001b[0m\u001b[0;34m\u001b[0m\u001b[0;34m\u001b[0m\u001b[0m\n",
            "\u001b[0;32m/usr/local/lib/python3.6/dist-packages/keras/engine/saving.py\u001b[0m in \u001b[0;36m_deserialize_model\u001b[0;34m(h5dict, custom_objects, compile)\u001b[0m\n\u001b[1;32m    272\u001b[0m         \u001b[0;32mraise\u001b[0m \u001b[0mValueError\u001b[0m\u001b[0;34m(\u001b[0m\u001b[0;34m'No model found in config.'\u001b[0m\u001b[0;34m)\u001b[0m\u001b[0;34m\u001b[0m\u001b[0;34m\u001b[0m\u001b[0m\n\u001b[1;32m    273\u001b[0m     \u001b[0mmodel_config\u001b[0m \u001b[0;34m=\u001b[0m \u001b[0mjson\u001b[0m\u001b[0;34m.\u001b[0m\u001b[0mloads\u001b[0m\u001b[0;34m(\u001b[0m\u001b[0mmodel_config\u001b[0m\u001b[0;34m.\u001b[0m\u001b[0mdecode\u001b[0m\u001b[0;34m(\u001b[0m\u001b[0;34m'utf-8'\u001b[0m\u001b[0;34m)\u001b[0m\u001b[0;34m)\u001b[0m\u001b[0;34m\u001b[0m\u001b[0;34m\u001b[0m\u001b[0m\n\u001b[0;32m--> 274\u001b[0;31m     \u001b[0mmodel\u001b[0m \u001b[0;34m=\u001b[0m \u001b[0mmodel_from_config\u001b[0m\u001b[0;34m(\u001b[0m\u001b[0mmodel_config\u001b[0m\u001b[0;34m,\u001b[0m \u001b[0mcustom_objects\u001b[0m\u001b[0;34m=\u001b[0m\u001b[0mcustom_objects\u001b[0m\u001b[0;34m)\u001b[0m\u001b[0;34m\u001b[0m\u001b[0;34m\u001b[0m\u001b[0m\n\u001b[0m\u001b[1;32m    275\u001b[0m     \u001b[0mmodel_weights_group\u001b[0m \u001b[0;34m=\u001b[0m \u001b[0mh5dict\u001b[0m\u001b[0;34m[\u001b[0m\u001b[0;34m'model_weights'\u001b[0m\u001b[0;34m]\u001b[0m\u001b[0;34m\u001b[0m\u001b[0;34m\u001b[0m\u001b[0m\n\u001b[1;32m    276\u001b[0m \u001b[0;34m\u001b[0m\u001b[0m\n",
            "\u001b[0;32m/usr/local/lib/python3.6/dist-packages/keras/engine/saving.py\u001b[0m in \u001b[0;36mmodel_from_config\u001b[0;34m(config, custom_objects)\u001b[0m\n\u001b[1;32m    625\u001b[0m                         '`Sequential.from_config(config)`?')\n\u001b[1;32m    626\u001b[0m     \u001b[0;32mfrom\u001b[0m \u001b[0;34m.\u001b[0m\u001b[0;34m.\u001b[0m\u001b[0mlayers\u001b[0m \u001b[0;32mimport\u001b[0m \u001b[0mdeserialize\u001b[0m\u001b[0;34m\u001b[0m\u001b[0;34m\u001b[0m\u001b[0m\n\u001b[0;32m--> 627\u001b[0;31m     \u001b[0;32mreturn\u001b[0m \u001b[0mdeserialize\u001b[0m\u001b[0;34m(\u001b[0m\u001b[0mconfig\u001b[0m\u001b[0;34m,\u001b[0m \u001b[0mcustom_objects\u001b[0m\u001b[0;34m=\u001b[0m\u001b[0mcustom_objects\u001b[0m\u001b[0;34m)\u001b[0m\u001b[0;34m\u001b[0m\u001b[0;34m\u001b[0m\u001b[0m\n\u001b[0m\u001b[1;32m    628\u001b[0m \u001b[0;34m\u001b[0m\u001b[0m\n\u001b[1;32m    629\u001b[0m \u001b[0;34m\u001b[0m\u001b[0m\n",
            "\u001b[0;32m/usr/local/lib/python3.6/dist-packages/keras/layers/__init__.py\u001b[0m in \u001b[0;36mdeserialize\u001b[0;34m(config, custom_objects)\u001b[0m\n\u001b[1;32m    166\u001b[0m                                     \u001b[0mmodule_objects\u001b[0m\u001b[0;34m=\u001b[0m\u001b[0mglobs\u001b[0m\u001b[0;34m,\u001b[0m\u001b[0;34m\u001b[0m\u001b[0;34m\u001b[0m\u001b[0m\n\u001b[1;32m    167\u001b[0m                                     \u001b[0mcustom_objects\u001b[0m\u001b[0;34m=\u001b[0m\u001b[0mcustom_objects\u001b[0m\u001b[0;34m,\u001b[0m\u001b[0;34m\u001b[0m\u001b[0;34m\u001b[0m\u001b[0m\n\u001b[0;32m--> 168\u001b[0;31m                                     printable_module_name='layer')\n\u001b[0m",
            "\u001b[0;32m/usr/local/lib/python3.6/dist-packages/keras/utils/generic_utils.py\u001b[0m in \u001b[0;36mdeserialize_keras_object\u001b[0;34m(identifier, module_objects, custom_objects, printable_module_name)\u001b[0m\n\u001b[1;32m    145\u001b[0m                     \u001b[0mconfig\u001b[0m\u001b[0;34m[\u001b[0m\u001b[0;34m'config'\u001b[0m\u001b[0;34m]\u001b[0m\u001b[0;34m,\u001b[0m\u001b[0;34m\u001b[0m\u001b[0;34m\u001b[0m\u001b[0m\n\u001b[1;32m    146\u001b[0m                     custom_objects=dict(list(_GLOBAL_CUSTOM_OBJECTS.items()) +\n\u001b[0;32m--> 147\u001b[0;31m                                         list(custom_objects.items())))\n\u001b[0m\u001b[1;32m    148\u001b[0m             \u001b[0;32mwith\u001b[0m \u001b[0mCustomObjectScope\u001b[0m\u001b[0;34m(\u001b[0m\u001b[0mcustom_objects\u001b[0m\u001b[0;34m)\u001b[0m\u001b[0;34m:\u001b[0m\u001b[0;34m\u001b[0m\u001b[0;34m\u001b[0m\u001b[0m\n\u001b[1;32m    149\u001b[0m                 \u001b[0;32mreturn\u001b[0m \u001b[0mcls\u001b[0m\u001b[0;34m.\u001b[0m\u001b[0mfrom_config\u001b[0m\u001b[0;34m(\u001b[0m\u001b[0mconfig\u001b[0m\u001b[0;34m[\u001b[0m\u001b[0;34m'config'\u001b[0m\u001b[0;34m]\u001b[0m\u001b[0;34m)\u001b[0m\u001b[0;34m\u001b[0m\u001b[0;34m\u001b[0m\u001b[0m\n",
            "\u001b[0;32m/usr/local/lib/python3.6/dist-packages/keras/engine/network.py\u001b[0m in \u001b[0;36mfrom_config\u001b[0;34m(cls, config, custom_objects)\u001b[0m\n\u001b[1;32m   1073\u001b[0m                         \u001b[0mnode_data\u001b[0m \u001b[0;34m=\u001b[0m \u001b[0mnode_data_list\u001b[0m\u001b[0;34m[\u001b[0m\u001b[0mnode_index\u001b[0m\u001b[0;34m]\u001b[0m\u001b[0;34m\u001b[0m\u001b[0;34m\u001b[0m\u001b[0m\n\u001b[1;32m   1074\u001b[0m                         \u001b[0;32mtry\u001b[0m\u001b[0;34m:\u001b[0m\u001b[0;34m\u001b[0m\u001b[0;34m\u001b[0m\u001b[0m\n\u001b[0;32m-> 1075\u001b[0;31m                             \u001b[0mprocess_node\u001b[0m\u001b[0;34m(\u001b[0m\u001b[0mlayer\u001b[0m\u001b[0;34m,\u001b[0m \u001b[0mnode_data\u001b[0m\u001b[0;34m)\u001b[0m\u001b[0;34m\u001b[0m\u001b[0;34m\u001b[0m\u001b[0m\n\u001b[0m\u001b[1;32m   1076\u001b[0m \u001b[0;34m\u001b[0m\u001b[0m\n\u001b[1;32m   1077\u001b[0m                         \u001b[0;31m# If the node does not have all inbound layers\u001b[0m\u001b[0;34m\u001b[0m\u001b[0;34m\u001b[0m\u001b[0;34m\u001b[0m\u001b[0m\n",
            "\u001b[0;32m/usr/local/lib/python3.6/dist-packages/keras/engine/network.py\u001b[0m in \u001b[0;36mprocess_node\u001b[0;34m(layer, node_data)\u001b[0m\n\u001b[1;32m   1023\u001b[0m             \u001b[0;31m# and building the layer if needed.\u001b[0m\u001b[0;34m\u001b[0m\u001b[0;34m\u001b[0m\u001b[0;34m\u001b[0m\u001b[0m\n\u001b[1;32m   1024\u001b[0m             \u001b[0;32mif\u001b[0m \u001b[0minput_tensors\u001b[0m\u001b[0;34m:\u001b[0m\u001b[0;34m\u001b[0m\u001b[0;34m\u001b[0m\u001b[0m\n\u001b[0;32m-> 1025\u001b[0;31m                 \u001b[0mlayer\u001b[0m\u001b[0;34m(\u001b[0m\u001b[0munpack_singleton\u001b[0m\u001b[0;34m(\u001b[0m\u001b[0minput_tensors\u001b[0m\u001b[0;34m)\u001b[0m\u001b[0;34m,\u001b[0m \u001b[0;34m**\u001b[0m\u001b[0mkwargs\u001b[0m\u001b[0;34m)\u001b[0m\u001b[0;34m\u001b[0m\u001b[0;34m\u001b[0m\u001b[0m\n\u001b[0m\u001b[1;32m   1026\u001b[0m \u001b[0;34m\u001b[0m\u001b[0m\n\u001b[1;32m   1027\u001b[0m         \u001b[0;32mdef\u001b[0m \u001b[0mprocess_layer\u001b[0m\u001b[0;34m(\u001b[0m\u001b[0mlayer_data\u001b[0m\u001b[0;34m)\u001b[0m\u001b[0;34m:\u001b[0m\u001b[0;34m\u001b[0m\u001b[0;34m\u001b[0m\u001b[0m\n",
            "\u001b[0;32m/usr/local/lib/python3.6/dist-packages/keras/backend/tensorflow_backend.py\u001b[0m in \u001b[0;36msymbolic_fn_wrapper\u001b[0;34m(*args, **kwargs)\u001b[0m\n\u001b[1;32m     73\u001b[0m         \u001b[0;32mif\u001b[0m \u001b[0m_SYMBOLIC_SCOPE\u001b[0m\u001b[0;34m.\u001b[0m\u001b[0mvalue\u001b[0m\u001b[0;34m:\u001b[0m\u001b[0;34m\u001b[0m\u001b[0;34m\u001b[0m\u001b[0m\n\u001b[1;32m     74\u001b[0m             \u001b[0;32mwith\u001b[0m \u001b[0mget_graph\u001b[0m\u001b[0;34m(\u001b[0m\u001b[0;34m)\u001b[0m\u001b[0;34m.\u001b[0m\u001b[0mas_default\u001b[0m\u001b[0;34m(\u001b[0m\u001b[0;34m)\u001b[0m\u001b[0;34m:\u001b[0m\u001b[0;34m\u001b[0m\u001b[0;34m\u001b[0m\u001b[0m\n\u001b[0;32m---> 75\u001b[0;31m                 \u001b[0;32mreturn\u001b[0m \u001b[0mfunc\u001b[0m\u001b[0;34m(\u001b[0m\u001b[0;34m*\u001b[0m\u001b[0margs\u001b[0m\u001b[0;34m,\u001b[0m \u001b[0;34m**\u001b[0m\u001b[0mkwargs\u001b[0m\u001b[0;34m)\u001b[0m\u001b[0;34m\u001b[0m\u001b[0;34m\u001b[0m\u001b[0m\n\u001b[0m\u001b[1;32m     76\u001b[0m         \u001b[0;32melse\u001b[0m\u001b[0;34m:\u001b[0m\u001b[0;34m\u001b[0m\u001b[0;34m\u001b[0m\u001b[0m\n\u001b[1;32m     77\u001b[0m             \u001b[0;32mreturn\u001b[0m \u001b[0mfunc\u001b[0m\u001b[0;34m(\u001b[0m\u001b[0;34m*\u001b[0m\u001b[0margs\u001b[0m\u001b[0;34m,\u001b[0m \u001b[0;34m**\u001b[0m\u001b[0mkwargs\u001b[0m\u001b[0;34m)\u001b[0m\u001b[0;34m\u001b[0m\u001b[0;34m\u001b[0m\u001b[0m\n",
            "\u001b[0;32m/usr/local/lib/python3.6/dist-packages/keras/engine/base_layer.py\u001b[0m in \u001b[0;36m__call__\u001b[0;34m(self, inputs, **kwargs)\u001b[0m\n\u001b[1;32m    487\u001b[0m             \u001b[0;31m# Actually call the layer,\u001b[0m\u001b[0;34m\u001b[0m\u001b[0;34m\u001b[0m\u001b[0;34m\u001b[0m\u001b[0m\n\u001b[1;32m    488\u001b[0m             \u001b[0;31m# collecting output(s), mask(s), and shape(s).\u001b[0m\u001b[0;34m\u001b[0m\u001b[0;34m\u001b[0m\u001b[0;34m\u001b[0m\u001b[0m\n\u001b[0;32m--> 489\u001b[0;31m             \u001b[0moutput\u001b[0m \u001b[0;34m=\u001b[0m \u001b[0mself\u001b[0m\u001b[0;34m.\u001b[0m\u001b[0mcall\u001b[0m\u001b[0;34m(\u001b[0m\u001b[0minputs\u001b[0m\u001b[0;34m,\u001b[0m \u001b[0;34m**\u001b[0m\u001b[0mkwargs\u001b[0m\u001b[0;34m)\u001b[0m\u001b[0;34m\u001b[0m\u001b[0;34m\u001b[0m\u001b[0m\n\u001b[0m\u001b[1;32m    490\u001b[0m             \u001b[0moutput_mask\u001b[0m \u001b[0;34m=\u001b[0m \u001b[0mself\u001b[0m\u001b[0;34m.\u001b[0m\u001b[0mcompute_mask\u001b[0m\u001b[0;34m(\u001b[0m\u001b[0minputs\u001b[0m\u001b[0;34m,\u001b[0m \u001b[0mprevious_mask\u001b[0m\u001b[0;34m)\u001b[0m\u001b[0;34m\u001b[0m\u001b[0;34m\u001b[0m\u001b[0m\n\u001b[1;32m    491\u001b[0m \u001b[0;34m\u001b[0m\u001b[0m\n",
            "\u001b[0;32m/content/DenseDepth/layers.py\u001b[0m in \u001b[0;36mcall\u001b[0;34m(self, inputs)\u001b[0m\n\u001b[1;32m     36\u001b[0m             \u001b[0mwidth\u001b[0m \u001b[0;34m=\u001b[0m \u001b[0mself\u001b[0m\u001b[0;34m.\u001b[0m\u001b[0msize\u001b[0m\u001b[0;34m[\u001b[0m\u001b[0;36m1\u001b[0m\u001b[0;34m]\u001b[0m \u001b[0;34m*\u001b[0m \u001b[0minput_shape\u001b[0m\u001b[0;34m[\u001b[0m\u001b[0;36m2\u001b[0m\u001b[0;34m]\u001b[0m \u001b[0;32mif\u001b[0m \u001b[0minput_shape\u001b[0m\u001b[0;34m[\u001b[0m\u001b[0;36m2\u001b[0m\u001b[0;34m]\u001b[0m \u001b[0;32mis\u001b[0m \u001b[0;32mnot\u001b[0m \u001b[0;32mNone\u001b[0m \u001b[0;32melse\u001b[0m \u001b[0;32mNone\u001b[0m\u001b[0;34m\u001b[0m\u001b[0;34m\u001b[0m\u001b[0m\n\u001b[1;32m     37\u001b[0m \u001b[0;34m\u001b[0m\u001b[0m\n\u001b[0;32m---> 38\u001b[0;31m         \u001b[0;32mreturn\u001b[0m \u001b[0mtf\u001b[0m\u001b[0;34m.\u001b[0m\u001b[0mimage\u001b[0m\u001b[0;34m.\u001b[0m\u001b[0mresize_images\u001b[0m\u001b[0;34m(\u001b[0m\u001b[0minputs\u001b[0m\u001b[0;34m,\u001b[0m \u001b[0;34m[\u001b[0m\u001b[0mheight\u001b[0m\u001b[0;34m,\u001b[0m \u001b[0mwidth\u001b[0m\u001b[0;34m]\u001b[0m\u001b[0;34m,\u001b[0m \u001b[0mmethod\u001b[0m\u001b[0;34m=\u001b[0m\u001b[0mtf\u001b[0m\u001b[0;34m.\u001b[0m\u001b[0mimage\u001b[0m\u001b[0;34m.\u001b[0m\u001b[0mResizeMethod\u001b[0m\u001b[0;34m.\u001b[0m\u001b[0mBILINEAR\u001b[0m\u001b[0;34m,\u001b[0m \u001b[0malign_corners\u001b[0m\u001b[0;34m=\u001b[0m\u001b[0;32mTrue\u001b[0m\u001b[0;34m)\u001b[0m\u001b[0;34m\u001b[0m\u001b[0;34m\u001b[0m\u001b[0m\n\u001b[0m\u001b[1;32m     39\u001b[0m \u001b[0;34m\u001b[0m\u001b[0m\n\u001b[1;32m     40\u001b[0m     \u001b[0;32mdef\u001b[0m \u001b[0mget_config\u001b[0m\u001b[0;34m(\u001b[0m\u001b[0mself\u001b[0m\u001b[0;34m)\u001b[0m\u001b[0;34m:\u001b[0m\u001b[0;34m\u001b[0m\u001b[0;34m\u001b[0m\u001b[0m\n",
            "\u001b[0;31mAttributeError\u001b[0m: module 'tensorflow._api.v2.image' has no attribute 'resize_images'"
          ]
        }
      ]
    },
    {
      "cell_type": "code",
      "metadata": {
        "id": "l-AkaJwgMB6T",
        "colab_type": "code",
        "colab": {}
      },
      "source": [
        "inputs = load_images( glob.glob('/content/EVA4_Custom_Data/bg_images/*.jpg') )"
      ],
      "execution_count": null,
      "outputs": []
    },
    {
      "cell_type": "code",
      "metadata": {
        "id": "UoXxU-Y1JDEO",
        "colab_type": "code",
        "colab": {}
      },
      "source": [
        "outputs = predict(model, inputs)"
      ],
      "execution_count": null,
      "outputs": []
    },
    {
      "cell_type": "code",
      "metadata": {
        "id": "yl-fpJy_LFzV",
        "colab_type": "code",
        "colab": {}
      },
      "source": [
        "!rm -rf /content/EVA4_Custom_Data/output_images\n",
        "!mkdir /content/EVA4_Custom_Data/output_images"
      ],
      "execution_count": null,
      "outputs": []
    },
    {
      "cell_type": "code",
      "metadata": {
        "id": "VCCzezaRnOkE",
        "colab_type": "code",
        "colab": {
          "base_uri": "https://localhost:8080/",
          "height": 104
        },
        "outputId": "58f6dc16-89ab-456d-85fc-eda54d4e51da"
      },
      "source": [
        "from google.colab import output\n",
        "\n",
        "basepath = '/content/EVA4_Custom_Data/bg_images'\n",
        "newpath = '/content/gdrive/My Drive/EVA4/Assignment_15/15A/data/'\n",
        "file_names = [entry for entry in os.scandir(basepath) if entry.is_file()]\n",
        "file_names = sorted (file_names, key=lambda file_name: file_name.path)\n",
        "\n",
        "for idx in range (5):\n",
        "  print (file_names[idx].path)"
      ],
      "execution_count": null,
      "outputs": [
        {
          "output_type": "stream",
          "text": [
            "/content/EVA4_Custom_Data/bg_images/img001.jpg\n",
            "/content/EVA4_Custom_Data/bg_images/img002.jpg\n",
            "/content/EVA4_Custom_Data/bg_images/img003.jpg\n",
            "/content/EVA4_Custom_Data/bg_images/img004.jpg\n",
            "/content/EVA4_Custom_Data/bg_images/img005.jpg\n"
          ],
          "name": "stdout"
        }
      ]
    },
    {
      "cell_type": "code",
      "metadata": {
        "id": "zDg2p3Zc1qGu",
        "colab_type": "code",
        "colab": {}
      },
      "source": [
        "from google.colab import output\n",
        "\n",
        "basepath = '/content/EVA4_Custom_Data/fg_bg_images'\n",
        "newpath = '/content/gdrive/My Drive/EVA4/Assignment_15/15A/data/'\n",
        "file_names = [entry for entry in os.scandir(basepath) if entry.is_file()]\n",
        "file_names = sorted (file_names, key=lambda file_name: file_name.path)\n",
        "\n",
        "print (len(file_names))\n",
        "for idx_out, file_name in enumerate (file_names):\n",
        "  inputs = load_images( glob.glob(file_names[idx_out].path) )\n",
        "  outputs = predict(model, inputs)\n",
        "  viz = display_images(outputs.copy(), is_colormap=False, is_rescale=False)\n",
        "\n",
        "  #plt.figure(figsize=(10,5))\n",
        "  plt.worksimshow(viz)\n",
        "  plt.savefig(newpath + file_names[idx_out].name)\n",
        "  \n",
        "  if idx_out == 10:\n",
        "    output.clear()\n"
      ],
      "execution_count": null,
      "outputs": []
    },
    {
      "cell_type": "code",
      "metadata": {
        "id": "XVscAyXeUQr5",
        "colab_type": "code",
        "colab": {
          "base_uri": "https://localhost:8080/",
          "height": 285
        },
        "outputId": "09c99aae-a9d5-4364-daf8-f8b607c2c786"
      },
      "source": [
        "from google.colab import output\n",
        "\n",
        "basepath = '/content/EVA4_Custom_Data/fg_bg_images'\n",
        "newpath = '/content/EVA4_Custom_Data/output_images/'\n",
        "file_names = [entry for entry in os.scandir(basepath) if entry.is_file()]\n",
        "file_names = sorted (file_names, key=lambda file_name: file_name.path)\n",
        "\n",
        "print (len(file_names))\n",
        "for idx_out, file_name in enumerate (file_names):\n",
        "  inputs = load_images( glob.glob(file_names[idx_out].path) )\n",
        "  outputs = predict(model, inputs)\n",
        "  viz = display_images(outputs.copy(), is_colormap=True, is_rescale=False)\n",
        "\n",
        "  #plt.figure(figsize=(10,5))\n",
        "  plt.imshow(viz)\n",
        "  plt.savefig(newpath + file_names[idx_out].name)\n",
        "  \n",
        "  if idx_out == 25:\n",
        "    break\n"
      ],
      "execution_count": null,
      "outputs": [
        {
          "output_type": "stream",
          "text": [
            "200000\n"
          ],
          "name": "stdout"
        },
        {
          "output_type": "display_data",
          "data": {
            "image/png": "[encoded data removed]",
            "text/plain": [
              "<Figure size 432x288 with 1 Axes>"
            ]
          },
          "metadata": {
            "tags": [],
            "needs_background": "light"
          }
        }
      ]
    },
    {
      "cell_type": "code",
      "metadata": {
        "id": "BKdYZJvg6h4T",
        "colab_type": "code",
        "colab": {
          "base_uri": "https://localhost:8080/",
          "height": 86
        },
        "outputId": "6aa72c56-f852-4ed3-a12d-1ea342cc954c"
      },
      "source": [
        "def show_images (path, num):\n",
        "  plt.figure(figsize=(20, 20))\n",
        "  file_names = [entry for entry in os.scandir(path) if entry.is_file()]\n",
        "\n",
        "  for idx in range (num):\n",
        "    img = plt.imread(file_names[idx].path)\n",
        "    plt.subplot(1, num, idx + 1)\n",
        "    plt.imshow(img)\n",
        "    plt.axis('off')\n",
        "\n",
        "  plt.show()\n",
        "\n",
        "show_images ('/content/EVA4_Custom_Data/fg_bg_images/', 15)"
      ],
      "execution_count": null,
      "outputs": [
        {
          "output_type": "display_data",
          "data": {
            "image/png": "[encoded data removed]",
            "text/plain": [
              "<Figure size 1440x1440 with 15 Axes>"
            ]
          },
          "metadata": {
            "tags": [],
            "needs_background": "light"
          }
        }
      ]
    },
    {
      "cell_type": "code",
      "metadata": {
        "id": "21iy2H9MsYBy",
        "colab_type": "code",
        "colab": {}
      },
      "source": [
        "import tqdm\n",
        "def create_fg_bg_dataset(bg_dir, fg_dir, fg_mask_dir, fg_bg_zipname, fg_bg_mask_zipname):\n",
        "\n",
        "    zf_fg_bg = zipfile.ZipFile(fg_bg_zipname, mode='a')\n",
        "    zf_fg_bg_mask = zipfile.ZipFile(fg_bg_mask_zipname, mode='a')\n",
        "    \n",
        "    #20 overlay images for each foreground on each background images [+ flip foreground]\n",
        "    numbers = [\"%02d\" % x for x in np.arange(1,21)] # numbers in 2 digit format(1 to 20) [20 images for each foreground and its flip image]\n",
        "\n",
        "    cnt = 0\n",
        "    fg_files = os.listdir(fg_dir)\n",
        "    for i, fg_filename in enumerate(fg_files):\n",
        "        \n",
        "        fg_num = fg_filename.split(\"-\")[1].split(\".\")[0] # all images are store with name as img_xxx.jpg\n",
        "        \n",
        "        print(\"Processing foreground images: {}/{}\".format(i+1, len(fg_files)))\n",
        "        \n",
        "        fg_file = os.path.join(fg_dir, fg_filename)\n",
        "        fg_img = cv2.imread(fg_file, cv2.IMREAD_COLOR)\n",
        "        fg_img_flip = cv2.flip(fg_img, 1)\n",
        "        \n",
        "        fg_mask_file = os.path.join(fg_mask_dir, fg_filename)\n",
        "        fg_mask = cv2.imread(fg_mask_file, cv2.IMREAD_COLOR)\n",
        "        fg_mask_flip = cv2.flip(fg_mask, 1)\n",
        "        \n",
        "        bg_files = os.listdir(bg_dir)\n",
        "        #bg_files = [entry for entry in os.scandir(bg_dir) if entry.is_file()]\n",
        "        bg_pbar = tqdm(bg_files)\n",
        "        for j, bg_filename in enumerate(bg_pbar):\n",
        "            \n",
        "            bg_num = bg_filename.split(\"-\")[1].split(\".\")[0] # all images are store with name as img_xxx.jpg\n",
        "            \n",
        "            bg_file = os.path.join(bg_dir, bg_filename)\n",
        "            bg_img = cv2.imread(bg_file, cv2.IMREAD_COLOR)\n",
        "            \n",
        "            # randomly create overlay images for 20 different mask positions\n",
        "            for k in numbers:\n",
        "                \n",
        "                # mask position randomly selected inside this function\n",
        "                fg_bg_img, fg_bg_mask_img = create_fg_bg_img(bg_img, fg_img, fg_mask) \n",
        "                \n",
        "                # save files\n",
        "                outname = \"fg{}_bg{}_{}.jpg\".format(fg_num,bg_num,k)                \n",
        "                cv2.imwrite(\"tmp_fg_bg.jpg\", fg_bg_img)\n",
        "                cv2.imwrite(\"tmp_fg_bg_mask.jpg\", fg_bg_mask_img)\n",
        "\n",
        "                zf_fg_bg.write(\"tmp_fg_bg.jpg\", outname)\n",
        "                zf_fg_bg_mask.write(\"tmp_fg_bg_mask.jpg\", outname)\n",
        "\n",
        "                del fg_bg_img\n",
        "                del fg_bg_mask_img\n",
        "                \n",
        "                # flipped foreground and overlay on background\n",
        "                fg_bg_img, fg_bg_mask_img = create_fg_bg_img(bg_img, fg_img_flip, fg_mask_flip)  \n",
        "                \n",
        "                # save files\n",
        "                outname = \"fg{}flip_bg{}_{}.jpg\".format(fg_num,bg_num,k)    \n",
        "                cv2.imwrite(\"tmp_fg_bg.jpg\", fg_bg_img)\n",
        "                cv2.imwrite(\"tmp_fg_bg_mask.jpg\", fg_bg_mask_img)\n",
        "\n",
        "                zf_fg_bg.write(\"tmp_fg_bg.jpg\", outname)\n",
        "                zf_fg_bg_mask.write(\"tmp_fg_bg_mask.jpg\", outname)\n",
        "\n",
        "                del fg_bg_img\n",
        "                del fg_bg_mask_img\n",
        "                \n",
        "            del bg_img\n",
        "\n",
        "            bg_pbar.set_description(desc= f'overlaying foreground on background images: {j+1}/{len(bg_files)}')\n",
        "    \n",
        "    print(f'\\n\\nnumber of fg_bg images created: {len(zf_fg_bg.namelist())}')\n",
        "    print(f'\\nnumber of fg_bg_mask images created: {len(zf_fg_bg_mask.namelist())}')\n",
        "\n",
        "    # close resources\n",
        "    zf_fg_bg.close()\n",
        "    zf_fg_bg_mask.close()"
      ],
      "execution_count": null,
      "outputs": []
    },
    {
      "cell_type": "code",
      "metadata": {
        "id": "FNWhosOK2Ioo",
        "colab_type": "code",
        "colab": {
          "base_uri": "https://localhost:8080/",
          "height": 34
        },
        "outputId": "8f71db1b-23e8-465a-b0e1-37de27eb2274"
      },
      "source": [
        "!ls '/content/gdrive/My Drive/asv2/fgmask1' |wc -l\n"
      ],
      "execution_count": null,
      "outputs": [
        {
          "output_type": "stream",
          "text": [
            "39\n"
          ],
          "name": "stdout"
        }
      ]
    },
    {
      "cell_type": "code",
      "metadata": {
        "id": "zOSx7qacsjhA",
        "colab_type": "code",
        "colab": {}
      },
      "source": [
        "bg_dir = '/content/gdrive/My Drive/asv2/bg' # input\n",
        "fg_dir = '/content/gdrive/My Drive/asv2/fg1' # input\n",
        "fg_mask_dir = '/content/gdrive/My Drive/asv2/fgmask1'  # input\n",
        "\n",
        "fg_bg_zip_name = '/content/gdrive/My Drive/Assignment15data/fg_bg_images.zip' # output\n",
        "fg_bg_mask_zip_name = '/content/gdrive/My Drive/Assignment15data/fg_bg_mask_images.zip' # output"
      ],
      "execution_count": null,
      "outputs": []
    },
    {
      "cell_type": "code",
      "metadata": {
        "id": "xw4jGz_ptlhS",
        "colab_type": "code",
        "colab": {}
      },
      "source": [
        "def create_fg_bg_img(bg_img, fg_img, fg_mask):\n",
        "\n",
        "    # size of fg images\n",
        "    h, w = fg_img.shape[:2]\n",
        "    \n",
        "    # get fg object only, rest mask it\n",
        "    fg_img_with_mask = cv2.bitwise_and(fg_img, fg_mask)\n",
        "\n",
        "    # choose and remember random locations for overlay\n",
        "    h_start = np.random.randint(0,bg_img.shape[0]-h)\n",
        "    w_start= np.random.randint(0,bg_img.shape[1]-w)\n",
        "\n",
        "    # create mask for fg and bg overlay images. this must be of size of background image\n",
        "    fg_bg_mask = np.zeros(bg_img.shape, bg_img.dtype)\n",
        "    fg_bg_mask.fill(0)\n",
        "    fg_bg_mask[h_start:h_start+h, w_start:w_start+w] = fg_mask[:,:]\n",
        "\n",
        "    # get inverted fg_bg mask and create temp img of size bg with fg object on it\n",
        "    fg_bg_mask_inv = cv2.bitwise_not(fg_bg_mask)\n",
        "    bg_overlay = cv2.bitwise_and(bg_img, fg_bg_mask_inv)\n",
        "\n",
        "    # get temp bg image with fg portion area masked\n",
        "    fg_overlay = np.zeros(bg_img.shape, bg_img.dtype)\n",
        "    fg_overlay.fill(0)\n",
        "    fg_overlay[h_start:h_start+h, w_start:w_start+w] = fg_img_with_mask[:,:]\n",
        "\n",
        "    # overlay fg on bg images\n",
        "    fg_bg = cv2.add(bg_overlay, fg_overlay) \n",
        "    \n",
        "    return fg_bg, fg_bg_mask"
      ],
      "execution_count": null,
      "outputs": []
    },
    {
      "cell_type": "code",
      "metadata": {
        "id": "UfmO82rbtp2k",
        "colab_type": "code",
        "colab": {
          "base_uri": "https://localhost:8080/",
          "height": 1000
        },
        "outputId": "6072dc9e-5f0b-4096-9e88-a6ae1ecc1bee"
      },
      "source": [
        "from PIL import Image\n",
        "from google.colab.patches import cv2_imshow\n",
        "import numpy as np\n",
        "import os\n",
        "import cv2\n",
        "import zipfile\n",
        "from io import BytesIO\n",
        "from tqdm import tqdm\n",
        "\n",
        "import matplotlib.pyplot as plt\n",
        "%matplotlib inline\n",
        "\n",
        "create_fg_bg_dataset(bg_dir, fg_dir, fg_mask_dir, fg_bg_zip_name, fg_bg_mask_zip_name)"
      ],
      "execution_count": null,
      "outputs": [
        {
          "output_type": "stream",
          "text": [
            "Processing foreground images: 1/39\n"
          ],
          "name": "stdout"
        },
        {
          "output_type": "stream",
          "text": [
            "overlaying foreground on background images: 100/100: 100%|██████████| 100/100 [00:54<00:00,  1.83it/s]\n"
          ],
          "name": "stderr"
        },
        {
          "output_type": "stream",
          "text": [
            "Processing foreground images: 2/39\n"
          ],
          "name": "stdout"
        },
        {
          "output_type": "stream",
          "text": [
            "overlaying foreground on background images: 100/100: 100%|██████████| 100/100 [00:17<00:00,  5.60it/s]\n"
          ],
          "name": "stderr"
        },
        {
          "output_type": "stream",
          "text": [
            "Processing foreground images: 3/39\n"
          ],
          "name": "stdout"
        },
        {
          "output_type": "stream",
          "text": [
            "overlaying foreground on background images: 100/100: 100%|██████████| 100/100 [00:17<00:00,  5.67it/s]\n"
          ],
          "name": "stderr"
        },
        {
          "output_type": "stream",
          "text": [
            "Processing foreground images: 4/39\n"
          ],
          "name": "stdout"
        },
        {
          "output_type": "stream",
          "text": [
            "overlaying foreground on background images: 100/100: 100%|██████████| 100/100 [00:21<00:00,  4.66it/s]\n"
          ],
          "name": "stderr"
        },
        {
          "output_type": "stream",
          "text": [
            "Processing foreground images: 5/39\n"
          ],
          "name": "stdout"
        },
        {
          "output_type": "stream",
          "text": [
            "overlaying foreground on background images: 100/100: 100%|██████████| 100/100 [00:19<00:00,  5.01it/s]\n"
          ],
          "name": "stderr"
        },
        {
          "output_type": "stream",
          "text": [
            "Processing foreground images: 6/39\n"
          ],
          "name": "stdout"
        },
        {
          "output_type": "stream",
          "text": [
            "overlaying foreground on background images: 100/100: 100%|██████████| 100/100 [00:18<00:00,  5.41it/s]\n"
          ],
          "name": "stderr"
        },
        {
          "output_type": "stream",
          "text": [
            "Processing foreground images: 7/39\n"
          ],
          "name": "stdout"
        },
        {
          "output_type": "stream",
          "text": [
            "overlaying foreground on background images: 100/100: 100%|██████████| 100/100 [00:23<00:00,  4.30it/s]\n"
          ],
          "name": "stderr"
        },
        {
          "output_type": "stream",
          "text": [
            "Processing foreground images: 8/39\n"
          ],
          "name": "stdout"
        },
        {
          "output_type": "stream",
          "text": [
            "overlaying foreground on background images: 100/100: 100%|██████████| 100/100 [00:18<00:00,  5.42it/s]\n"
          ],
          "name": "stderr"
        },
        {
          "output_type": "stream",
          "text": [
            "Processing foreground images: 9/39\n"
          ],
          "name": "stdout"
        },
        {
          "output_type": "stream",
          "text": [
            "overlaying foreground on background images: 100/100: 100%|██████████| 100/100 [00:19<00:00,  5.14it/s]\n"
          ],
          "name": "stderr"
        },
        {
          "output_type": "stream",
          "text": [
            "Processing foreground images: 10/39\n"
          ],
          "name": "stdout"
        },
        {
          "output_type": "stream",
          "text": [
            "overlaying foreground on background images: 100/100: 100%|██████████| 100/100 [00:18<00:00,  5.30it/s]\n"
          ],
          "name": "stderr"
        },
        {
          "output_type": "stream",
          "text": [
            "Processing foreground images: 11/39\n"
          ],
          "name": "stdout"
        },
        {
          "output_type": "stream",
          "text": [
            "overlaying foreground on background images: 100/100: 100%|██████████| 100/100 [00:18<00:00,  5.28it/s]\n"
          ],
          "name": "stderr"
        },
        {
          "output_type": "stream",
          "text": [
            "Processing foreground images: 12/39\n"
          ],
          "name": "stdout"
        },
        {
          "output_type": "stream",
          "text": [
            "overlaying foreground on background images: 100/100: 100%|██████████| 100/100 [00:23<00:00,  4.24it/s]\n"
          ],
          "name": "stderr"
        },
        {
          "output_type": "stream",
          "text": [
            "Processing foreground images: 13/39\n"
          ],
          "name": "stdout"
        },
        {
          "output_type": "stream",
          "text": [
            "overlaying foreground on background images: 100/100: 100%|██████████| 100/100 [00:20<00:00,  5.00it/s]\n"
          ],
          "name": "stderr"
        },
        {
          "output_type": "stream",
          "text": [
            "Processing foreground images: 14/39\n"
          ],
          "name": "stdout"
        },
        {
          "output_type": "stream",
          "text": [
            "overlaying foreground on background images: 100/100: 100%|██████████| 100/100 [00:19<00:00,  5.09it/s]\n"
          ],
          "name": "stderr"
        },
        {
          "output_type": "stream",
          "text": [
            "Processing foreground images: 15/39\n"
          ],
          "name": "stdout"
        },
        {
          "output_type": "stream",
          "text": [
            "overlaying foreground on background images: 100/100: 100%|██████████| 100/100 [00:19<00:00,  5.06it/s]\n"
          ],
          "name": "stderr"
        },
        {
          "output_type": "stream",
          "text": [
            "Processing foreground images: 16/39\n"
          ],
          "name": "stdout"
        },
        {
          "output_type": "stream",
          "text": [
            "overlaying foreground on background images: 100/100: 100%|██████████| 100/100 [00:20<00:00,  4.98it/s]\n"
          ],
          "name": "stderr"
        },
        {
          "output_type": "stream",
          "text": [
            "Processing foreground images: 17/39\n"
          ],
          "name": "stdout"
        },
        {
          "output_type": "stream",
          "text": [
            "overlaying foreground on background images: 100/100: 100%|██████████| 100/100 [00:19<00:00,  5.07it/s]\n"
          ],
          "name": "stderr"
        },
        {
          "output_type": "stream",
          "text": [
            "Processing foreground images: 18/39\n"
          ],
          "name": "stdout"
        },
        {
          "output_type": "stream",
          "text": [
            "overlaying foreground on background images: 100/100: 100%|██████████| 100/100 [00:19<00:00,  5.01it/s]\n"
          ],
          "name": "stderr"
        },
        {
          "output_type": "stream",
          "text": [
            "Processing foreground images: 19/39\n"
          ],
          "name": "stdout"
        },
        {
          "output_type": "stream",
          "text": [
            "overlaying foreground on background images: 100/100: 100%|██████████| 100/100 [00:21<00:00,  4.76it/s]\n"
          ],
          "name": "stderr"
        },
        {
          "output_type": "stream",
          "text": [
            "Processing foreground images: 20/39\n"
          ],
          "name": "stdout"
        },
        {
          "output_type": "stream",
          "text": [
            "overlaying foreground on background images: 100/100: 100%|██████████| 100/100 [00:20<00:00,  4.80it/s]\n"
          ],
          "name": "stderr"
        },
        {
          "output_type": "stream",
          "text": [
            "Processing foreground images: 21/39\n"
          ],
          "name": "stdout"
        },
        {
          "output_type": "stream",
          "text": [
            "overlaying foreground on background images: 100/100: 100%|██████████| 100/100 [00:21<00:00,  4.72it/s]\n"
          ],
          "name": "stderr"
        },
        {
          "output_type": "stream",
          "text": [
            "Processing foreground images: 22/39\n"
          ],
          "name": "stdout"
        },
        {
          "output_type": "stream",
          "text": [
            "overlaying foreground on background images: 100/100: 100%|██████████| 100/100 [00:22<00:00,  4.38it/s]\n"
          ],
          "name": "stderr"
        },
        {
          "output_type": "stream",
          "text": [
            "Processing foreground images: 23/39\n"
          ],
          "name": "stdout"
        },
        {
          "output_type": "stream",
          "text": [
            "overlaying foreground on background images: 100/100: 100%|██████████| 100/100 [00:21<00:00,  4.55it/s]\n"
          ],
          "name": "stderr"
        },
        {
          "output_type": "stream",
          "text": [
            "Processing foreground images: 24/39\n"
          ],
          "name": "stdout"
        },
        {
          "output_type": "stream",
          "text": [
            "overlaying foreground on background images: 100/100: 100%|██████████| 100/100 [00:22<00:00,  4.47it/s]\n"
          ],
          "name": "stderr"
        },
        {
          "output_type": "stream",
          "text": [
            "Processing foreground images: 25/39\n"
          ],
          "name": "stdout"
        },
        {
          "output_type": "stream",
          "text": [
            "overlaying foreground on background images: 100/100: 100%|██████████| 100/100 [00:23<00:00,  4.20it/s]\n"
          ],
          "name": "stderr"
        },
        {
          "output_type": "stream",
          "text": [
            "Processing foreground images: 26/39\n"
          ],
          "name": "stdout"
        },
        {
          "output_type": "stream",
          "text": [
            "overlaying foreground on background images: 100/100: 100%|██████████| 100/100 [00:22<00:00,  4.48it/s]\n"
          ],
          "name": "stderr"
        },
        {
          "output_type": "stream",
          "text": [
            "Processing foreground images: 27/39\n"
          ],
          "name": "stdout"
        },
        {
          "output_type": "stream",
          "text": [
            "overlaying foreground on background images: 100/100: 100%|██████████| 100/100 [00:24<00:00,  4.10it/s]\n"
          ],
          "name": "stderr"
        },
        {
          "output_type": "stream",
          "text": [
            "Processing foreground images: 28/39\n"
          ],
          "name": "stdout"
        },
        {
          "output_type": "stream",
          "text": [
            "overlaying foreground on background images: 100/100: 100%|██████████| 100/100 [00:21<00:00,  4.72it/s]\n"
          ],
          "name": "stderr"
        },
        {
          "output_type": "stream",
          "text": [
            "Processing foreground images: 29/39\n"
          ],
          "name": "stdout"
        },
        {
          "output_type": "stream",
          "text": [
            "overlaying foreground on background images: 100/100: 100%|██████████| 100/100 [00:21<00:00,  4.65it/s]\n"
          ],
          "name": "stderr"
        },
        {
          "output_type": "stream",
          "text": [
            "Processing foreground images: 30/39\n"
          ],
          "name": "stdout"
        },
        {
          "output_type": "stream",
          "text": [
            "overlaying foreground on background images: 100/100: 100%|██████████| 100/100 [00:28<00:00,  3.51it/s]\n"
          ],
          "name": "stderr"
        },
        {
          "output_type": "stream",
          "text": [
            "Processing foreground images: 31/39\n"
          ],
          "name": "stdout"
        },
        {
          "output_type": "stream",
          "text": [
            "overlaying foreground on background images: 100/100: 100%|██████████| 100/100 [00:21<00:00,  4.58it/s]\n"
          ],
          "name": "stderr"
        },
        {
          "output_type": "stream",
          "text": [
            "Processing foreground images: 32/39\n"
          ],
          "name": "stdout"
        },
        {
          "output_type": "stream",
          "text": [
            "overlaying foreground on background images: 100/100: 100%|██████████| 100/100 [00:21<00:00,  4.65it/s]\n"
          ],
          "name": "stderr"
        },
        {
          "output_type": "stream",
          "text": [
            "Processing foreground images: 33/39\n"
          ],
          "name": "stdout"
        },
        {
          "output_type": "stream",
          "text": [
            "overlaying foreground on background images: 100/100: 100%|██████████| 100/100 [00:21<00:00,  4.63it/s]\n"
          ],
          "name": "stderr"
        },
        {
          "output_type": "stream",
          "text": [
            "Processing foreground images: 34/39\n"
          ],
          "name": "stdout"
        },
        {
          "output_type": "stream",
          "text": [
            "overlaying foreground on background images: 100/100: 100%|██████████| 100/100 [00:22<00:00,  4.47it/s]\n"
          ],
          "name": "stderr"
        },
        {
          "output_type": "stream",
          "text": [
            "Processing foreground images: 35/39\n"
          ],
          "name": "stdout"
        },
        {
          "output_type": "stream",
          "text": [
            "overlaying foreground on background images: 100/100: 100%|██████████| 100/100 [00:33<00:00,  3.00it/s]\n"
          ],
          "name": "stderr"
        },
        {
          "output_type": "stream",
          "text": [
            "Processing foreground images: 36/39\n"
          ],
          "name": "stdout"
        },
        {
          "output_type": "stream",
          "text": [
            "overlaying foreground on background images: 100/100: 100%|██████████| 100/100 [00:23<00:00,  4.29it/s]\n"
          ],
          "name": "stderr"
        },
        {
          "output_type": "stream",
          "text": [
            "Processing foreground images: 37/39\n"
          ],
          "name": "stdout"
        },
        {
          "output_type": "stream",
          "text": [
            "overlaying foreground on background images: 100/100: 100%|██████████| 100/100 [00:31<00:00,  3.20it/s]\n"
          ],
          "name": "stderr"
        },
        {
          "output_type": "stream",
          "text": [
            "Processing foreground images: 38/39\n"
          ],
          "name": "stdout"
        },
        {
          "output_type": "stream",
          "text": [
            "overlaying foreground on background images: 100/100: 100%|██████████| 100/100 [00:23<00:00,  4.27it/s]\n"
          ],
          "name": "stderr"
        },
        {
          "output_type": "stream",
          "text": [
            "Processing foreground images: 39/39\n"
          ],
          "name": "stdout"
        },
        {
          "output_type": "stream",
          "text": [
            "overlaying foreground on background images: 100/100: 100%|██████████| 100/100 [00:37<00:00,  2.64it/s]\n"
          ],
          "name": "stderr"
        },
        {
          "output_type": "stream",
          "text": [
            "\n",
            "\n",
            "number of fg_bg images created: 156000\n",
            "\n",
            "number of fg_bg_mask images created: 156000\n"
          ],
          "name": "stdout"
        }
      ]
    },
    {
      "cell_type": "code",
      "metadata": {
        "id": "6mjwbD1k5Orq",
        "colab_type": "code",
        "colab": {
          "base_uri": "https://localhost:8080/",
          "height": 139
        },
        "outputId": "bb59c2e7-9b96-4ade-ee8b-26be5561c7cc"
      },
      "source": [
        "!git clone https://github.com/ialhashim/DenseDepth.git"
      ],
      "execution_count": null,
      "outputs": [
        {
          "output_type": "stream",
          "text": [
            "Cloning into 'DenseDepth'...\n",
            "remote: Enumerating objects: 3, done.\u001b[K\n",
            "remote: Counting objects:  33% (1/3)\u001b[K\rremote: Counting objects:  66% (2/3)\u001b[K\rremote: Counting objects: 100% (3/3)\u001b[K\rremote: Counting objects: 100% (3/3), done.\u001b[K\n",
            "remote: Compressing objects: 100% (3/3), done.\u001b[K\n",
            "remote: Total 238 (delta 0), reused 1 (delta 0), pack-reused 235\u001b[K\n",
            "Receiving objects: 100% (238/238), 11.80 MiB | 31.88 MiB/s, done.\n",
            "Resolving deltas: 100% (115/115), done.\n"
          ],
          "name": "stdout"
        }
      ]
    },
    {
      "cell_type": "code",
      "metadata": {
        "id": "_OXlzQSY5Po6",
        "colab_type": "code",
        "colab": {
          "base_uri": "https://localhost:8080/",
          "height": 208
        },
        "outputId": "2ee820b4-aacb-4a76-b638-74f1566871ef"
      },
      "source": [
        "!wget https://s3-eu-west-1.amazonaws.com/densedepth/nyu.h5 -O /content/DenseDepth/nyu.h5"
      ],
      "execution_count": null,
      "outputs": [
        {
          "output_type": "stream",
          "text": [
            "--2020-07-18 01:59:26--  https://s3-eu-west-1.amazonaws.com/densedepth/nyu.h5\n",
            "Resolving s3-eu-west-1.amazonaws.com (s3-eu-west-1.amazonaws.com)... 52.218.89.27\n",
            "Connecting to s3-eu-west-1.amazonaws.com (s3-eu-west-1.amazonaws.com)|52.218.89.27|:443... connected.\n",
            "HTTP request sent, awaiting response... 200 OK\n",
            "Length: 172897376 (165M) [application/h5]\n",
            "Saving to: ‘/content/DenseDepth/nyu.h5’\n",
            "\n",
            "/content/DenseDepth 100%[===================>] 164.89M  25.9MB/s    in 6.8s    \n",
            "\n",
            "2020-07-18 01:59:33 (24.2 MB/s) - ‘/content/DenseDepth/nyu.h5’ saved [172897376/172897376]\n",
            "\n"
          ],
          "name": "stdout"
        }
      ]
    },
    {
      "cell_type": "code",
      "metadata": {
        "id": "3Ai7w7Oq5SA2",
        "colab_type": "code",
        "colab": {
          "base_uri": "https://localhost:8080/",
          "height": 905
        },
        "outputId": "079e92fa-0789-49a6-a7d0-64cff1f770bc"
      },
      "source": [
        "!pip install 'tensorflow==1.15'\n"
      ],
      "execution_count": null,
      "outputs": [
        {
          "output_type": "stream",
          "text": [
            "Collecting tensorflow==1.15\n",
            "\u001b[?25l  Downloading https://files.pythonhosted.org/packages/3f/98/5a99af92fb911d7a88a0005ad55005f35b4c1ba8d75fba02df726cd936e6/tensorflow-1.15.0-cp36-cp36m-manylinux2010_x86_64.whl (412.3MB)\n",
            "\u001b[K     |████████████████████████████████| 412.3MB 33kB/s \n",
            "\u001b[?25hRequirement already satisfied: numpy<2.0,>=1.16.0 in /usr/local/lib/python3.6/dist-packages (from tensorflow==1.15) (1.18.5)\n",
            "Requirement already satisfied: astor>=0.6.0 in /usr/local/lib/python3.6/dist-packages (from tensorflow==1.15) (0.8.1)\n",
            "Requirement already satisfied: six>=1.10.0 in /usr/local/lib/python3.6/dist-packages (from tensorflow==1.15) (1.12.0)\n",
            "Requirement already satisfied: protobuf>=3.6.1 in /usr/local/lib/python3.6/dist-packages (from tensorflow==1.15) (3.12.2)\n",
            "Requirement already satisfied: termcolor>=1.1.0 in /usr/local/lib/python3.6/dist-packages (from tensorflow==1.15) (1.1.0)\n",
            "Requirement already satisfied: wheel>=0.26 in /usr/local/lib/python3.6/dist-packages (from tensorflow==1.15) (0.34.2)\n",
            "Requirement already satisfied: absl-py>=0.7.0 in /usr/local/lib/python3.6/dist-packages (from tensorflow==1.15) (0.9.0)\n",
            "Requirement already satisfied: grpcio>=1.8.6 in /usr/local/lib/python3.6/dist-packages (from tensorflow==1.15) (1.30.0)\n",
            "Requirement already satisfied: keras-applications>=1.0.8 in /usr/local/lib/python3.6/dist-packages (from tensorflow==1.15) (1.0.8)\n",
            "Collecting tensorflow-estimator==1.15.1\n",
            "\u001b[?25l  Downloading https://files.pythonhosted.org/packages/de/62/2ee9cd74c9fa2fa450877847ba560b260f5d0fb70ee0595203082dafcc9d/tensorflow_estimator-1.15.1-py2.py3-none-any.whl (503kB)\n",
            "\u001b[K     |████████████████████████████████| 512kB 38.3MB/s \n",
            "\u001b[?25hCollecting tensorboard<1.16.0,>=1.15.0\n",
            "\u001b[?25l  Downloading https://files.pythonhosted.org/packages/1e/e9/d3d747a97f7188f48aa5eda486907f3b345cd409f0a0850468ba867db246/tensorboard-1.15.0-py3-none-any.whl (3.8MB)\n",
            "\u001b[K     |████████████████████████████████| 3.8MB 34.3MB/s \n",
            "\u001b[?25hRequirement already satisfied: keras-preprocessing>=1.0.5 in /usr/local/lib/python3.6/dist-packages (from tensorflow==1.15) (1.1.2)\n",
            "Requirement already satisfied: google-pasta>=0.1.6 in /usr/local/lib/python3.6/dist-packages (from tensorflow==1.15) (0.2.0)\n",
            "Requirement already satisfied: wrapt>=1.11.1 in /usr/local/lib/python3.6/dist-packages (from tensorflow==1.15) (1.12.1)\n",
            "Requirement already satisfied: opt-einsum>=2.3.2 in /usr/local/lib/python3.6/dist-packages (from tensorflow==1.15) (3.2.1)\n",
            "Collecting gast==0.2.2\n",
            "  Downloading https://files.pythonhosted.org/packages/4e/35/11749bf99b2d4e3cceb4d55ca22590b0d7c2c62b9de38ac4a4a7f4687421/gast-0.2.2.tar.gz\n",
            "Requirement already satisfied: setuptools in /usr/local/lib/python3.6/dist-packages (from protobuf>=3.6.1->tensorflow==1.15) (49.1.0)\n",
            "Requirement already satisfied: h5py in /usr/local/lib/python3.6/dist-packages (from keras-applications>=1.0.8->tensorflow==1.15) (2.10.0)\n",
            "Requirement already satisfied: werkzeug>=0.11.15 in /usr/local/lib/python3.6/dist-packages (from tensorboard<1.16.0,>=1.15.0->tensorflow==1.15) (1.0.1)\n",
            "Requirement already satisfied: markdown>=2.6.8 in /usr/local/lib/python3.6/dist-packages (from tensorboard<1.16.0,>=1.15.0->tensorflow==1.15) (3.2.2)\n",
            "Requirement already satisfied: importlib-metadata; python_version < \"3.8\" in /usr/local/lib/python3.6/dist-packages (from markdown>=2.6.8->tensorboard<1.16.0,>=1.15.0->tensorflow==1.15) (1.7.0)\n",
            "Requirement already satisfied: zipp>=0.5 in /usr/local/lib/python3.6/dist-packages (from importlib-metadata; python_version < \"3.8\"->markdown>=2.6.8->tensorboard<1.16.0,>=1.15.0->tensorflow==1.15) (3.1.0)\n",
            "Building wheels for collected packages: gast\n",
            "  Building wheel for gast (setup.py) ... \u001b[?25l\u001b[?25hdone\n",
            "  Created wheel for gast: filename=gast-0.2.2-cp36-none-any.whl size=7540 sha256=d15828b807819c2cffeafe1c568a73d9bb996991608d7ad339533b6585f62d61\n",
            "  Stored in directory: /root/.cache/pip/wheels/5c/2e/7e/a1d4d4fcebe6c381f378ce7743a3ced3699feb89bcfbdadadd\n",
            "Successfully built gast\n",
            "\u001b[31mERROR: tensorflow-probability 0.10.0 has requirement gast>=0.3.2, but you'll have gast 0.2.2 which is incompatible.\u001b[0m\n",
            "Installing collected packages: tensorflow-estimator, tensorboard, gast, tensorflow\n",
            "  Found existing installation: tensorflow-estimator 2.2.0\n",
            "    Uninstalling tensorflow-estimator-2.2.0:\n",
            "      Successfully uninstalled tensorflow-estimator-2.2.0\n",
            "  Found existing installation: tensorboard 2.2.2\n",
            "    Uninstalling tensorboard-2.2.2:\n",
            "      Successfully uninstalled tensorboard-2.2.2\n",
            "  Found existing installation: gast 0.3.3\n",
            "    Uninstalling gast-0.3.3:\n",
            "      Successfully uninstalled gast-0.3.3\n",
            "  Found existing installation: tensorflow 2.2.0\n",
            "    Uninstalling tensorflow-2.2.0:\n",
            "      Successfully uninstalled tensorflow-2.2.0\n",
            "Successfully installed gast-0.2.2 tensorboard-1.15.0 tensorflow-1.15.0 tensorflow-estimator-1.15.1\n"
          ],
          "name": "stdout"
        }
      ]
    },
    {
      "cell_type": "code",
      "metadata": {
        "id": "yJr39iJM6lOv",
        "colab_type": "code",
        "colab": {
          "base_uri": "https://localhost:8080/",
          "height": 34
        },
        "outputId": "32f0235c-6781-41db-ed25-b567f9f08f1b"
      },
      "source": [
        "%cd /content/DenseDepth"
      ],
      "execution_count": null,
      "outputs": [
        {
          "output_type": "stream",
          "text": [
            "/content/DenseDepth\n"
          ],
          "name": "stdout"
        }
      ]
    },
    {
      "cell_type": "code",
      "metadata": {
        "id": "ZNjSU6Wv6y8O",
        "colab_type": "code",
        "colab": {
          "base_uri": "https://localhost:8080/",
          "height": 34
        },
        "outputId": "510e7591-3c85-48db-e697-d17fca53290e"
      },
      "source": [
        "import os\n",
        "import glob\n",
        "from tqdm import tqdm\n",
        "import numpy as np\n",
        "from PIL import Image\n",
        "import cv2\n",
        "from google.colab.patches import cv2_imshow\n",
        "\n",
        "import zipfile\n",
        "from io import BytesIO\n",
        "\n",
        "# Keras / TensorFlow\n",
        "os.environ['TF_CPP_MIN_LOG_LEVEL'] = '5'\n",
        "from keras.models import load_model\n",
        "from layers import BilinearUpSampling2D\n",
        "from utils import predict, display_images\n",
        "from matplotlib import pyplot as plt"
      ],
      "execution_count": null,
      "outputs": [
        {
          "output_type": "stream",
          "text": [
            "Using TensorFlow backend.\n"
          ],
          "name": "stderr"
        }
      ]
    },
    {
      "cell_type": "code",
      "metadata": {
        "id": "v_6zgVNf62DZ",
        "colab_type": "code",
        "colab": {
          "base_uri": "https://localhost:8080/",
          "height": 193
        },
        "outputId": "db0dfb2b-e6c3-4837-c294-c4ab1cdafa8e"
      },
      "source": [
        "# Custom object needed for inference and training\n",
        "custom_objects = {'BilinearUpSampling2D': BilinearUpSampling2D, 'depth_loss_function': None}\n",
        "\n",
        "# Load model into GPU / CPU\n",
        "model = load_model(\"nyu.h5\", custom_objects=custom_objects, compile=False)"
      ],
      "execution_count": null,
      "outputs": [
        {
          "output_type": "stream",
          "text": [
            "WARNING:tensorflow:From /usr/local/lib/python3.6/dist-packages/tensorflow_core/python/ops/resource_variable_ops.py:1630: calling BaseResourceVariable.__init__ (from tensorflow.python.ops.resource_variable_ops) with constraint is deprecated and will be removed in a future version.\n",
            "Instructions for updating:\n",
            "If using Keras pass *_constraint arguments to layers.\n",
            "WARNING:tensorflow:From /usr/local/lib/python3.6/dist-packages/keras/backend/tensorflow_backend.py:4070: The name tf.nn.max_pool is deprecated. Please use tf.nn.max_pool2d instead.\n",
            "\n",
            "WARNING:tensorflow:From /usr/local/lib/python3.6/dist-packages/keras/backend/tensorflow_backend.py:4074: The name tf.nn.avg_pool is deprecated. Please use tf.nn.avg_pool2d instead.\n",
            "\n",
            "WARNING:tensorflow:From /content/DenseDepth/layers.py:38: The name tf.image.resize_images is deprecated. Please use tf.image.resize instead.\n",
            "\n"
          ],
          "name": "stdout"
        }
      ]
    },
    {
      "cell_type": "code",
      "metadata": {
        "id": "wixCw9hr7HSa",
        "colab_type": "code",
        "colab": {}
      },
      "source": [
        "# initialize dataset locations\n",
        "root_dataset = \"/content/gdrive/My Drive/\"\n",
        "inp_fg_bg_zipfile_name = f'{root_dataset}/fg_bg_images.zip'   # input images location\n",
        "out_fg_bg_depth_zipfile_name = f'{root_dataset}/fg_bg_depth_all.zip'# depth map output location"
      ],
      "execution_count": null,
      "outputs": []
    },
    {
      "cell_type": "code",
      "metadata": {
        "id": "p0Ex3fj18hur",
        "colab_type": "code",
        "colab": {}
      },
      "source": [
        "'''\n",
        "save depth mask with same name as input filename in the output zip file.\n",
        "save only one channel in grey scale to save memory space. grey scale is sufficient as ground truth for depth prediction later\n",
        "outputs: list fo predicted depth mask in same order as filelist\n",
        "zf: output zipfile where depth mask images are added and stored\n",
        "'''\n",
        "def save_depth_mask(zf, outputs, filename_list):\n",
        "\n",
        "    #plasma = plt.get_cmap('plasma')\n",
        "    for idx in np.arange(len(outputs)):\n",
        "\n",
        "        # rescaled betw min and max to highlight the objects in the images\n",
        "        rescaled = outputs[idx][:,:,0]\n",
        "        rescaled = rescaled - np.min(rescaled)\n",
        "        rescaled = rescaled / np.max(rescaled)\n",
        "        rescaled = np.uint8(rescaled*255)\n",
        "        rescaled = cv2.bitwise_not(rescaled) # inverted image\n",
        "        \n",
        "        # for color depth mask\n",
        "        #p_rescaled = plasma(rescaled)[:,:,:3]\n",
        "        #p_rescaled = np.uint8(p_rescaled*255) #back to 0 to 255 scale for saving\n",
        "\n",
        "        # get file name from input file path\n",
        "        words = filename_list[idx].split(\"/\")\n",
        "        filename = words[len(words)-1]\n",
        "\n",
        "        #cv2.imwrite(\"tmp_depth_color.jpg\", np.uint8(p_rescaled*255)) # color image\n",
        "        cv2.imwrite(\"tmp_depth_gray.jpg\", rescaled) # gray scale image\n",
        "        zf.write(\"tmp_depth_gray.jpg\", filename)\n",
        "\n",
        "def load_images_from_zip(zf, im_files):\n",
        "    loaded_images = []\n",
        "    for file in im_files:\n",
        "        data = zf.read(file)\n",
        "        dataEnc = BytesIO(data)\n",
        "        im = Image.open(dataEnc)\n",
        "        x = im.resize((480,480)) # upsampling\n",
        "        x_np = np.clip(np.asarray(x, dtype=float) / 255, 0, 1)\n",
        "        loaded_images.append(x_np)\n",
        "    return np.stack(loaded_images, axis=0)\n",
        "\n",
        "# get only image file names\n",
        "def get_img_namelist(zf):\n",
        "    image_list = []\n",
        "    for name in in_zf.namelist():\n",
        "      if '.jpg' in name or '.png' in name:\n",
        "        image_list.append(name)"
      ],
      "execution_count": null,
      "outputs": []
    },
    {
      "cell_type": "code",
      "metadata": {
        "id": "6Flkgjq58k3c",
        "colab_type": "code",
        "colab": {}
      },
      "source": [
        "import zipfile\n",
        "from io import BytesIO\n",
        "\n",
        "# open input and output package\n",
        "in_zf = zipfile.ZipFile(inp_fg_bg_zipfile_name, 'r')\n",
        "out_zf = zipfile.ZipFile(out_fg_bg_depth_zipfile_name, mode='a')"
      ],
      "execution_count": null,
      "outputs": []
    },
    {
      "cell_type": "code",
      "metadata": {
        "id": "GbFDw9FR8vZr",
        "colab_type": "code",
        "colab": {
          "base_uri": "https://localhost:8080/",
          "height": 104
        },
        "outputId": "f59163f0-95ff-4b01-a521-e759ad03619e"
      },
      "source": [
        "# have a look on input zipfile content\n",
        "in_zf.namelist()[:5]"
      ],
      "execution_count": null,
      "outputs": [
        {
          "output_type": "execute_result",
          "data": {
            "text/plain": [
              "['fg001_bg15_01.jpg',\n",
              " 'fg001flip_bg15_01.jpg',\n",
              " 'fg001_bg15_02.jpg',\n",
              " 'fg001flip_bg15_02.jpg',\n",
              " 'fg001_bg15_03.jpg']"
            ]
          },
          "metadata": {
            "tags": []
          },
          "execution_count": 11
        }
      ]
    },
    {
      "cell_type": "code",
      "metadata": {
        "id": "WfCat7Pc80-Z",
        "colab_type": "code",
        "colab": {
          "base_uri": "https://localhost:8080/",
          "height": 34
        },
        "outputId": "21d9c7ed-e76f-4fa3-fd39-7e3f74a7084a"
      },
      "source": [
        "# filter only images files\n",
        "img_list = [name for name in in_zf.namelist() if '.jpg' in name and '(1)' not in name]\n",
        "print(\"number of fg_bg images: \", len(img_list))"
      ],
      "execution_count": null,
      "outputs": [
        {
          "output_type": "stream",
          "text": [
            "number of fg_bg images:  156000\n"
          ],
          "name": "stdout"
        }
      ]
    },
    {
      "cell_type": "code",
      "metadata": {
        "id": "yJQ5l3bq85CU",
        "colab_type": "code",
        "colab": {
          "base_uri": "https://localhost:8080/",
          "height": 467
        },
        "outputId": "2e65fd3e-493e-44e1-8a0c-fddcb78f4040"
      },
      "source": [
        "import tqdm\n",
        "from tqdm import tqdm\n",
        "import numpy as np\n",
        "from PIL import Image\n",
        "\n",
        "'''\n",
        "challenges:\n",
        "1. loading all 400k images at a time is not feasible due to memory limitation\n",
        "2. processing of 400k images takes 5~6 hours and it is possible that notebook execution can terminated in between.\n",
        "   we need to ensure that in next iteration it shall start from the palce it got stopped.\n",
        "\n",
        "To solve above issues \n",
        "1. depth images are created in batches. for each foreground there are 4000 images. batch is processed at foreground level.\n",
        "after every batch, memory are freed to ensure that it is avaiable for next iteration.\n",
        "2. user shall provide the proper range of images for processing. \n",
        "3. old processed depth images are retained in out zip file. \n",
        "'''\n",
        "\n",
        "f_start=1; f_end = 101 # choose the foreground image sequence for depth prediction\n",
        "fg_bar = tqdm(np.arange(f_start, f_end))\n",
        "\n",
        "for fidx in fg_bar:\n",
        "\n",
        "  #It retrieves the list of files matching the specified pattern - all files of same foreground\n",
        "  filelist = [name for name in img_list if f'fg{fidx:03d}' in name]\n",
        "\n",
        "  # there are 4000 images for each foreground. run it in batch of 400\n",
        "  b_size = 200\n",
        "  b_cnt = 4000 // b_size\n",
        "\n",
        "  for idx in np.arange(b_cnt):\n",
        "\n",
        "    subfile_list = filelist[idx*b_size:(idx+1)*b_size]\n",
        "\n",
        "    # loading all the image of specific foreground from zip file\n",
        "    inputs = load_images_from_zip(in_zf, subfile_list)\n",
        "\n",
        "    # get depth prediction\n",
        "    outputs = predict(model, inputs, batch_size=64)\n",
        "\n",
        "    # save grey scale depth prediction with same filenale as inputs under out_dir\n",
        "    save_depth_mask(out_zf, outputs, subfile_list)\n",
        "\n",
        "    # clear memory\n",
        "    del inputs\n",
        "    del outputs\n",
        "\n",
        "  fg_bar.set_description(desc=f'processing image series fg{fidx:03d}*.jpg : {fidx*len(filelist)}/{len(fg_bar)*len(filelist)}')\n",
        "  print(\"\\n\")\n",
        "\n",
        "# num of depth masks created\n",
        "print(f'\\n\\nnumber of fg_bg_depth images created: {len(out_zf.namelist())}')\n",
        "\n",
        "# close the zip file resource\n",
        "in_zf.close()\n",
        "out_zf.close()"
      ],
      "execution_count": null,
      "outputs": [
        {
          "output_type": "stream",
          "text": [
            "\n",
            "  0%|          | 0/100 [00:00<?, ?it/s]\u001b[A\n",
            "processing image series fg001*.jpg : 4000/400000:   0%|          | 0/100 [5:16:40<?, ?it/s]\u001b[A\n",
            "processing image series fg001*.jpg : 4000/400000:   1%|          | 1/100 [5:16:40<522:31:09, 19000.70s/it]\u001b[A"
          ],
          "name": "stderr"
        },
        {
          "output_type": "stream",
          "text": [
            "\n",
            "\n"
          ],
          "name": "stdout"
        },
        {
          "output_type": "error",
          "ename": "KeyboardInterrupt",
          "evalue": "ignored",
          "traceback": [
            "\u001b[0;31m---------------------------------------------------------------------------\u001b[0m",
            "\u001b[0;31mKeyboardInterrupt\u001b[0m                         Traceback (most recent call last)",
            "\u001b[0;32m<ipython-input-18-d0f289e55b59>\u001b[0m in \u001b[0;36m<module>\u001b[0;34m()\u001b[0m\n\u001b[1;32m     37\u001b[0m \u001b[0;34m\u001b[0m\u001b[0m\n\u001b[1;32m     38\u001b[0m     \u001b[0;31m# get depth prediction\u001b[0m\u001b[0;34m\u001b[0m\u001b[0;34m\u001b[0m\u001b[0;34m\u001b[0m\u001b[0m\n\u001b[0;32m---> 39\u001b[0;31m     \u001b[0moutputs\u001b[0m \u001b[0;34m=\u001b[0m \u001b[0mpredict\u001b[0m\u001b[0;34m(\u001b[0m\u001b[0mmodel\u001b[0m\u001b[0;34m,\u001b[0m \u001b[0minputs\u001b[0m\u001b[0;34m,\u001b[0m \u001b[0mbatch_size\u001b[0m\u001b[0;34m=\u001b[0m\u001b[0;36m64\u001b[0m\u001b[0;34m)\u001b[0m\u001b[0;34m\u001b[0m\u001b[0;34m\u001b[0m\u001b[0m\n\u001b[0m\u001b[1;32m     40\u001b[0m \u001b[0;34m\u001b[0m\u001b[0m\n\u001b[1;32m     41\u001b[0m     \u001b[0;31m# save grey scale depth prediction with same filenale as inputs under out_dir\u001b[0m\u001b[0;34m\u001b[0m\u001b[0;34m\u001b[0m\u001b[0;34m\u001b[0m\u001b[0m\n",
            "\u001b[0;32m/content/DenseDepth/utils.py\u001b[0m in \u001b[0;36mpredict\u001b[0;34m(model, images, minDepth, maxDepth, batch_size)\u001b[0m\n\u001b[1;32m     10\u001b[0m     \u001b[0;32mif\u001b[0m \u001b[0mlen\u001b[0m\u001b[0;34m(\u001b[0m\u001b[0mimages\u001b[0m\u001b[0;34m.\u001b[0m\u001b[0mshape\u001b[0m\u001b[0;34m)\u001b[0m \u001b[0;34m<\u001b[0m \u001b[0;36m4\u001b[0m\u001b[0;34m:\u001b[0m \u001b[0mimages\u001b[0m \u001b[0;34m=\u001b[0m \u001b[0mimages\u001b[0m\u001b[0;34m.\u001b[0m\u001b[0mreshape\u001b[0m\u001b[0;34m(\u001b[0m\u001b[0;34m(\u001b[0m\u001b[0;36m1\u001b[0m\u001b[0;34m,\u001b[0m \u001b[0mimages\u001b[0m\u001b[0;34m.\u001b[0m\u001b[0mshape\u001b[0m\u001b[0;34m[\u001b[0m\u001b[0;36m0\u001b[0m\u001b[0;34m]\u001b[0m\u001b[0;34m,\u001b[0m \u001b[0mimages\u001b[0m\u001b[0;34m.\u001b[0m\u001b[0mshape\u001b[0m\u001b[0;34m[\u001b[0m\u001b[0;36m1\u001b[0m\u001b[0;34m]\u001b[0m\u001b[0;34m,\u001b[0m \u001b[0mimages\u001b[0m\u001b[0;34m.\u001b[0m\u001b[0mshape\u001b[0m\u001b[0;34m[\u001b[0m\u001b[0;36m2\u001b[0m\u001b[0;34m]\u001b[0m\u001b[0;34m)\u001b[0m\u001b[0;34m)\u001b[0m\u001b[0;34m\u001b[0m\u001b[0;34m\u001b[0m\u001b[0m\n\u001b[1;32m     11\u001b[0m     \u001b[0;31m# Compute predictions\u001b[0m\u001b[0;34m\u001b[0m\u001b[0;34m\u001b[0m\u001b[0;34m\u001b[0m\u001b[0m\n\u001b[0;32m---> 12\u001b[0;31m     \u001b[0mpredictions\u001b[0m \u001b[0;34m=\u001b[0m \u001b[0mmodel\u001b[0m\u001b[0;34m.\u001b[0m\u001b[0mpredict\u001b[0m\u001b[0;34m(\u001b[0m\u001b[0mimages\u001b[0m\u001b[0;34m,\u001b[0m \u001b[0mbatch_size\u001b[0m\u001b[0;34m=\u001b[0m\u001b[0mbatch_size\u001b[0m\u001b[0;34m)\u001b[0m\u001b[0;34m\u001b[0m\u001b[0;34m\u001b[0m\u001b[0m\n\u001b[0m\u001b[1;32m     13\u001b[0m     \u001b[0;31m# Put in expected range\u001b[0m\u001b[0;34m\u001b[0m\u001b[0;34m\u001b[0m\u001b[0;34m\u001b[0m\u001b[0m\n\u001b[1;32m     14\u001b[0m     \u001b[0;32mreturn\u001b[0m \u001b[0mnp\u001b[0m\u001b[0;34m.\u001b[0m\u001b[0mclip\u001b[0m\u001b[0;34m(\u001b[0m\u001b[0mDepthNorm\u001b[0m\u001b[0;34m(\u001b[0m\u001b[0mpredictions\u001b[0m\u001b[0;34m,\u001b[0m \u001b[0mmaxDepth\u001b[0m\u001b[0;34m=\u001b[0m\u001b[0mmaxDepth\u001b[0m\u001b[0;34m)\u001b[0m\u001b[0;34m,\u001b[0m \u001b[0mminDepth\u001b[0m\u001b[0;34m,\u001b[0m \u001b[0mmaxDepth\u001b[0m\u001b[0;34m)\u001b[0m \u001b[0;34m/\u001b[0m \u001b[0mmaxDepth\u001b[0m\u001b[0;34m\u001b[0m\u001b[0;34m\u001b[0m\u001b[0m\n",
            "\u001b[0;32m/usr/local/lib/python3.6/dist-packages/keras/engine/training.py\u001b[0m in \u001b[0;36mpredict\u001b[0;34m(self, x, batch_size, verbose, steps, callbacks, max_queue_size, workers, use_multiprocessing)\u001b[0m\n\u001b[1;32m   1460\u001b[0m                                             \u001b[0mverbose\u001b[0m\u001b[0;34m=\u001b[0m\u001b[0mverbose\u001b[0m\u001b[0;34m,\u001b[0m\u001b[0;34m\u001b[0m\u001b[0;34m\u001b[0m\u001b[0m\n\u001b[1;32m   1461\u001b[0m                                             \u001b[0msteps\u001b[0m\u001b[0;34m=\u001b[0m\u001b[0msteps\u001b[0m\u001b[0;34m,\u001b[0m\u001b[0;34m\u001b[0m\u001b[0;34m\u001b[0m\u001b[0m\n\u001b[0;32m-> 1462\u001b[0;31m                                             callbacks=callbacks)\n\u001b[0m\u001b[1;32m   1463\u001b[0m \u001b[0;34m\u001b[0m\u001b[0m\n\u001b[1;32m   1464\u001b[0m     def train_on_batch(self, x, y,\n",
            "\u001b[0;32m/usr/local/lib/python3.6/dist-packages/keras/engine/training_arrays.py\u001b[0m in \u001b[0;36mpredict_loop\u001b[0;34m(model, f, ins, batch_size, verbose, steps, callbacks)\u001b[0m\n\u001b[1;32m    322\u001b[0m             \u001b[0mbatch_logs\u001b[0m \u001b[0;34m=\u001b[0m \u001b[0;34m{\u001b[0m\u001b[0;34m'batch'\u001b[0m\u001b[0;34m:\u001b[0m \u001b[0mbatch_index\u001b[0m\u001b[0;34m,\u001b[0m \u001b[0;34m'size'\u001b[0m\u001b[0;34m:\u001b[0m \u001b[0mlen\u001b[0m\u001b[0;34m(\u001b[0m\u001b[0mbatch_ids\u001b[0m\u001b[0;34m)\u001b[0m\u001b[0;34m}\u001b[0m\u001b[0;34m\u001b[0m\u001b[0;34m\u001b[0m\u001b[0m\n\u001b[1;32m    323\u001b[0m             \u001b[0mcallbacks\u001b[0m\u001b[0;34m.\u001b[0m\u001b[0m_call_batch_hook\u001b[0m\u001b[0;34m(\u001b[0m\u001b[0;34m'predict'\u001b[0m\u001b[0;34m,\u001b[0m \u001b[0;34m'begin'\u001b[0m\u001b[0;34m,\u001b[0m \u001b[0mbatch_index\u001b[0m\u001b[0;34m,\u001b[0m \u001b[0mbatch_logs\u001b[0m\u001b[0;34m)\u001b[0m\u001b[0;34m\u001b[0m\u001b[0;34m\u001b[0m\u001b[0m\n\u001b[0;32m--> 324\u001b[0;31m             \u001b[0mbatch_outs\u001b[0m \u001b[0;34m=\u001b[0m \u001b[0mf\u001b[0m\u001b[0;34m(\u001b[0m\u001b[0mins_batch\u001b[0m\u001b[0;34m)\u001b[0m\u001b[0;34m\u001b[0m\u001b[0;34m\u001b[0m\u001b[0m\n\u001b[0m\u001b[1;32m    325\u001b[0m             \u001b[0mbatch_outs\u001b[0m \u001b[0;34m=\u001b[0m \u001b[0mto_list\u001b[0m\u001b[0;34m(\u001b[0m\u001b[0mbatch_outs\u001b[0m\u001b[0;34m)\u001b[0m\u001b[0;34m\u001b[0m\u001b[0;34m\u001b[0m\u001b[0m\n\u001b[1;32m    326\u001b[0m             \u001b[0;32mif\u001b[0m \u001b[0mbatch_index\u001b[0m \u001b[0;34m==\u001b[0m \u001b[0;36m0\u001b[0m\u001b[0;34m:\u001b[0m\u001b[0;34m\u001b[0m\u001b[0;34m\u001b[0m\u001b[0m\n",
            "\u001b[0;32m/usr/local/lib/python3.6/dist-packages/tensorflow_core/python/keras/backend.py\u001b[0m in \u001b[0;36m__call__\u001b[0;34m(self, inputs)\u001b[0m\n\u001b[1;32m   3474\u001b[0m \u001b[0;34m\u001b[0m\u001b[0m\n\u001b[1;32m   3475\u001b[0m     fetched = self._callable_fn(*array_vals,\n\u001b[0;32m-> 3476\u001b[0;31m                                 run_metadata=self.run_metadata)\n\u001b[0m\u001b[1;32m   3477\u001b[0m     \u001b[0mself\u001b[0m\u001b[0;34m.\u001b[0m\u001b[0m_call_fetch_callbacks\u001b[0m\u001b[0;34m(\u001b[0m\u001b[0mfetched\u001b[0m\u001b[0;34m[\u001b[0m\u001b[0;34m-\u001b[0m\u001b[0mlen\u001b[0m\u001b[0;34m(\u001b[0m\u001b[0mself\u001b[0m\u001b[0;34m.\u001b[0m\u001b[0m_fetches\u001b[0m\u001b[0;34m)\u001b[0m\u001b[0;34m:\u001b[0m\u001b[0;34m]\u001b[0m\u001b[0;34m)\u001b[0m\u001b[0;34m\u001b[0m\u001b[0;34m\u001b[0m\u001b[0m\n\u001b[1;32m   3478\u001b[0m     output_structure = nest.pack_sequence_as(\n",
            "\u001b[0;32m/usr/local/lib/python3.6/dist-packages/tensorflow_core/python/client/session.py\u001b[0m in \u001b[0;36m__call__\u001b[0;34m(self, *args, **kwargs)\u001b[0m\n\u001b[1;32m   1470\u001b[0m         ret = tf_session.TF_SessionRunCallable(self._session._session,\n\u001b[1;32m   1471\u001b[0m                                                \u001b[0mself\u001b[0m\u001b[0;34m.\u001b[0m\u001b[0m_handle\u001b[0m\u001b[0;34m,\u001b[0m \u001b[0margs\u001b[0m\u001b[0;34m,\u001b[0m\u001b[0;34m\u001b[0m\u001b[0;34m\u001b[0m\u001b[0m\n\u001b[0;32m-> 1472\u001b[0;31m                                                run_metadata_ptr)\n\u001b[0m\u001b[1;32m   1473\u001b[0m         \u001b[0;32mif\u001b[0m \u001b[0mrun_metadata\u001b[0m\u001b[0;34m:\u001b[0m\u001b[0;34m\u001b[0m\u001b[0;34m\u001b[0m\u001b[0m\n\u001b[1;32m   1474\u001b[0m           \u001b[0mproto_data\u001b[0m \u001b[0;34m=\u001b[0m \u001b[0mtf_session\u001b[0m\u001b[0;34m.\u001b[0m\u001b[0mTF_GetBuffer\u001b[0m\u001b[0;34m(\u001b[0m\u001b[0mrun_metadata_ptr\u001b[0m\u001b[0;34m)\u001b[0m\u001b[0;34m\u001b[0m\u001b[0;34m\u001b[0m\u001b[0m\n",
            "\u001b[0;31mKeyboardInterrupt\u001b[0m: "
          ]
        }
      ]
    }
  ]
}