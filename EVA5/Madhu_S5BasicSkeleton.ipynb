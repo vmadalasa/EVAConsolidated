{
  "nbformat": 4,
  "nbformat_minor": 0,
  "metadata": {
    "colab": {
      "name": "Madhu-S5BasicSkeleton.ipynb",
      "provenance": [],
      "collapsed_sections": [],
      "include_colab_link": true
    },
    "kernelspec": {
      "name": "python3",
      "display_name": "Python 3"
    },
    "accelerator": "GPU"
  },
  "cells": [
    {
      "cell_type": "markdown",
      "metadata": {
        "id": "view-in-github",
        "colab_type": "text"
      },
      "source": [
        "<a href=\"https://colab.research.google.com/github/vmadalasa/EVA4S5/blob/master/Madhu_S5BasicSkeleton.ipynb\" target=\"_parent\"><img src=\"https://colab.research.google.com/assets/colab-badge.svg\" alt=\"Open In Colab\"/></a>"
      ]
    },
    {
      "cell_type": "markdown",
      "metadata": {
        "id": "La0_oYNdKBKK",
        "colab_type": "text"
      },
      "source": [
        "MODEL OBSERVATIONS\n",
        "\n",
        "Target:\n",
        "\n",
        "Get the set-up right\n",
        "Set Transforms\n",
        "Set Data Loader\n",
        "Set Basic Working Code\n",
        "Set Basic Training  & Test Loop\n",
        "GET MOST BASIC MODEL WITH LESS THAN 10K params and a reasonable accuracy of 98%\n",
        "\n",
        "\n",
        "Results:\n",
        "Parameters: 6790\n",
        "Best Training Accuracy: 99.29\n",
        "Best Test Accuracy: 98.64\n",
        "\n",
        "Analysis:\n",
        "Both test and train accuracy is not enough for our purposes\n",
        "Model efficiency can be increased using batch norm\n",
        "Maybe we are not extracting enough information, so kernels should be changed to be better?\n",
        "Model is over-fitting, so we will try to reduce overfitting\n",
        "\n",
        "#This is to get the Basic Skeleton Right\n",
        "#Since imitation is the best form of flattery, I will start with the 6K model used in class and follow the same steps\n",
        "#maybe add capacity later if it doesnt work within 10k params\n",
        "#Basic skeleton model, without batch norm and regularisation (dropouts)\n",
        "\n",
        "# Input size 28X28X1; output_size = 26X26X10; RF 3X3 - Convinput \n",
        "# Input size 26X26X10; output_size = 24X24X10; RF 5X5 - convblock1A\n",
        "# Input size 24X24X10; output_size = 22X22X10; RF 7X7 - convblock1B\n",
        "\n",
        "#Now Max pool to get this to Input size 22X22X10; output_size = 11X11X20; RF 14X14 - pool1\n",
        "# Input size 11X11X20; output_size = 11X11X10; RF 14X14 - tranblock1\n",
        "\n",
        "#Convblock 2\n",
        "# Input size 11X11X10; output_size = 9X9X10; RF 16X16 - convblock2A\n",
        "# Input size 9X9X10; output_size = 7X7X10; RF 18X18 - convblock2B\n",
        "# Input size 7X7X10; output_size = 5X5X20; RF 20X20 - convblock2C\n",
        "\n",
        "#Now we have reached only till RF of 20X20\n",
        "#We do self.gap layer at kernel size 5 - gap\n",
        "#finally transblock 1X1 for Input size 1X1X16; output_size = 1X1X10; RF 20X20 - convblockEnd\n",
        "\n",
        "BATCH SIZE = 128\n",
        "\n",
        "NO ROTATION OF IMAGES\n",
        "\n",
        "\n",
        "# OBSERVATIONS\n",
        "We find accuracy of  11%  (train accuracy) in the first epoch\n",
        "Rises to about 98.5 towards epoch 15\n",
        "in some epochs, we find overfitting. \n",
        "\n",
        "Not bad for a starting model\n",
        "We will try batch norm as next step\n",
        "\n",
        "\n"
      ]
    },
    {
      "cell_type": "code",
      "metadata": {
        "id": "0m2JWFliFfKT",
        "colab_type": "code",
        "colab": {}
      },
      "source": [
        "from __future__ import print_function\n",
        "import torch\n",
        "import torch.nn as nn\n",
        "import torch.nn.functional as F\n",
        "import torch.optim as optim\n",
        "from torchvision import datasets, transforms"
      ],
      "execution_count": 0,
      "outputs": []
    },
    {
      "cell_type": "code",
      "metadata": {
        "colab_type": "code",
        "id": "QO6KrMia6CSE",
        "colab": {}
      },
      "source": [
        "#This is to get the Basic Skeleton Right\n",
        "#Since imitation is the best form of flattery, I will start with the 6K model used in class and follow the same steps\n",
        "#maybe add capacity later if it doesnt work within 10k params\n",
        "#Basic skeleton model, without batch norm and regularisation (dropouts)\n",
        "\n",
        "# Input size 28X28X1; output_size = 26X26X10; RF 3X3 - Convinput \n",
        "# Input size 26X26X10; output_size = 24X24X10; RF 5X5 - convblock1A\n",
        "# Input size 24X24X10; output_size = 22X22X10; RF 7X7 - convblock1B\n",
        "\n",
        "#Now Max pool to get this to Input size 22X22X10; output_size = 11X11X20; RF 14X14 - pool1\n",
        "# Input size 11X11X20; output_size = 11X11X10; RF 14X14 - tranblock1\n",
        "\n",
        "#Convblock 2\n",
        "# Input size 11X11X10; output_size = 9X9X10; RF 16X16 - convblock2A\n",
        "# Input size 9X9X10; output_size = 7X7X10; RF 18X18 - convblock2B\n",
        "# Input size 7X7X10; output_size = 5X5X20; RF 20X20 - convblock2C\n",
        "\n",
        "#Now we have reached only till RF of 20X20\n",
        "#We do self.gap layer at kernel size 5 - gap\n",
        "#finally transblock 1X1 for Input size 1X1X16; output_size = 1X1X10; RF 20X20 - convblockEnd\n",
        "\n",
        "\n",
        "\n",
        "\n",
        "\n",
        "class Net(nn.Module):\n",
        "    def __init__(self):\n",
        "        super(Net, self).__init__()\n",
        "\n",
        "\n",
        "        # Input Block\n",
        "        self.convinput = nn.Sequential(\n",
        "            nn.Conv2d(in_channels=1, out_channels=10, kernel_size=(3, 3), padding=0, bias=False),\n",
        "            nn.ReLU()\n",
        "        ) # Input size 28X28X1; output_size = 26X26X10; RF 3X3\n",
        "\n",
        "       # CONVOLUTION BLOCK 1\n",
        "        self.convblock1A = nn.Sequential(\n",
        "            nn.Conv2d(in_channels=10, out_channels=10, kernel_size=(3, 3), padding=0, bias=False),\n",
        "            nn.ReLU()\n",
        "        ) # Input size 26X26X10; output_size = 24X24X10; RF 5X5\n",
        "\n",
        "        self.convblock1B = nn.Sequential(\n",
        "            nn.Conv2d(in_channels=10, out_channels=20, kernel_size=(3, 3), padding=0, bias=False),\n",
        "            nn.ReLU()\n",
        "        ) # Input size 24X24X10; output_size = 22X22X10; RF 7X7\n",
        "\n",
        "    \n",
        "\n",
        "        # TRANSITION BLOCK 1\n",
        "\n",
        "        self.pool1 = nn.MaxPool2d(2, 2) # # Input size 22X22X20; output_size = 11X11X20; RF 14X14\n",
        "        \n",
        "        self.tranblock1 = nn.Sequential(\n",
        "           nn.Conv2d(in_channels=20, out_channels=10, kernel_size=(1, 1), padding=0, bias=False),\n",
        "        ) # # Input size 11X11X20; output_size = 11X11X10; RF 14X14\n",
        "\n",
        "      # CONVOLUTION BLOCK 2\n",
        "        self.convblock2A = nn.Sequential(\n",
        "            nn.Conv2d(in_channels=10, out_channels=10, kernel_size=(3, 3), padding=0, bias=False),\n",
        "            nn.ReLU(),\n",
        "        ) # Input size 11X11X10; output_size = 9X9X10; RF 16X16\n",
        "\n",
        " \n",
        "        self.convblock2B = nn.Sequential(\n",
        "            nn.Conv2d(in_channels=10, out_channels=10, kernel_size=(3, 3), padding=0, bias=False),\n",
        "            nn.ReLU(),   \n",
        "        ) # # Input size 9X9X10; output_size = 7X7X10; RF 18X18\n",
        "\n",
        "        self.convblock2C = nn.Sequential(\n",
        "            nn.Conv2d(in_channels=10, out_channels=20, kernel_size=(3, 3), padding=0, bias=False),\n",
        "            nn.ReLU(),  \n",
        "        ) # # Input size 7X7X10; output_size = 5X5X20; RF 20X20\n",
        "\n",
        "\n",
        "      # OUTPUT BLOCK\n",
        "        self.gap = nn.Sequential(\n",
        "            nn.AvgPool2d(kernel_size=5)\n",
        "        ) # output_size = 1\n",
        "\n",
        "        self.convblockEnd = nn.Sequential(\n",
        "            nn.Conv2d(in_channels=20, out_channels=10, kernel_size=(1, 1), padding=0, bias=False),\n",
        "            # nn.BatchNorm2d(10),\n",
        "            # nn.ReLU(),\n",
        "            # nn.Dropout(dropout_value) \n",
        "\n",
        "        ) #Input size 1X1X20; output_size = 1X1X10; RF 20X20\n",
        "\n",
        "\n",
        "    def forward(self, x):\n",
        "        x = self.convinput(x)\n",
        "\n",
        "        x = self.convblock1A(x)\n",
        "        x = self.convblock1B(x)\n",
        "        \n",
        "        x = self.pool1(x)\n",
        "        #x = self.poolAlt1(x)\n",
        "        x = self.tranblock1(x)\n",
        "\n",
        "        x = self.convblock2A(x)\n",
        "        x = self.convblock2B(x)\n",
        "        x = self.convblock2C(x)\n",
        "\n",
        "        x = self.gap(x)        \n",
        "       \n",
        "        x = self.convblockEnd(x)\n",
        "        #print(x.shape)\n",
        "        x = x.view(-1, 10)\n",
        "        return F.log_softmax(x, dim=-1)\n",
        "        \n",
        "        \n",
        "     "
      ],
      "execution_count": 0,
      "outputs": []
    },
    {
      "cell_type": "code",
      "metadata": {
        "id": "ivWH1yIWNRFy",
        "colab_type": "code",
        "colab": {}
      },
      "source": [
        ""
      ],
      "execution_count": 0,
      "outputs": []
    },
    {
      "cell_type": "code",
      "metadata": {
        "colab_type": "code",
        "id": "xdydjYTZFyi3",
        "outputId": "6b73aa44-1c86-476a-86cd-062bc05d0652",
        "colab": {
          "base_uri": "https://localhost:8080/",
          "height": 527
        }
      },
      "source": [
        "!pip install torchsummary\n",
        "from torchsummary import summary\n",
        "use_cuda = torch.cuda.is_available()\n",
        "device = torch.device(\"cuda\" if use_cuda else \"cpu\")\n",
        "model = Net().to(device)\n",
        "summary(model, input_size=(1, 28, 28))"
      ],
      "execution_count": 0,
      "outputs": [
        {
          "output_type": "stream",
          "text": [
            "Requirement already satisfied: torchsummary in /usr/local/lib/python3.6/dist-packages (1.5.1)\n",
            "----------------------------------------------------------------\n",
            "        Layer (type)               Output Shape         Param #\n",
            "================================================================\n",
            "            Conv2d-1           [-1, 10, 26, 26]              90\n",
            "              ReLU-2           [-1, 10, 26, 26]               0\n",
            "            Conv2d-3           [-1, 10, 24, 24]             900\n",
            "              ReLU-4           [-1, 10, 24, 24]               0\n",
            "            Conv2d-5           [-1, 20, 22, 22]           1,800\n",
            "              ReLU-6           [-1, 20, 22, 22]               0\n",
            "         MaxPool2d-7           [-1, 20, 11, 11]               0\n",
            "            Conv2d-8           [-1, 10, 11, 11]             200\n",
            "            Conv2d-9             [-1, 10, 9, 9]             900\n",
            "             ReLU-10             [-1, 10, 9, 9]               0\n",
            "           Conv2d-11             [-1, 10, 7, 7]             900\n",
            "             ReLU-12             [-1, 10, 7, 7]               0\n",
            "           Conv2d-13             [-1, 20, 5, 5]           1,800\n",
            "             ReLU-14             [-1, 20, 5, 5]               0\n",
            "        AvgPool2d-15             [-1, 20, 1, 1]               0\n",
            "           Conv2d-16             [-1, 10, 1, 1]             200\n",
            "================================================================\n",
            "Total params: 6,790\n",
            "Trainable params: 6,790\n",
            "Non-trainable params: 0\n",
            "----------------------------------------------------------------\n",
            "Input size (MB): 0.00\n",
            "Forward/backward pass size (MB): 0.39\n",
            "Params size (MB): 0.03\n",
            "Estimated Total Size (MB): 0.42\n",
            "----------------------------------------------------------------\n"
          ],
          "name": "stdout"
        }
      ]
    },
    {
      "cell_type": "markdown",
      "metadata": {
        "id": "e22vcDxOV8vP",
        "colab_type": "text"
      },
      "source": [
        "\n"
      ]
    },
    {
      "cell_type": "code",
      "metadata": {
        "id": "DqTWLaM5GHgH",
        "colab_type": "code",
        "outputId": "dcee57f1-af60-47ff-c547-43e64dbc0d76",
        "colab": {
          "base_uri": "https://localhost:8080/",
          "height": 34
        }
      },
      "source": [
        "#WHAT WE CHANGE IN THIS BLOCK\n",
        "#BATCHSIZE = 128 IN BASIC SKELETON MODEL\n",
        "#NO ROTATION\n",
        "\n",
        "SEED = 1\n",
        "\n",
        "# CUDA?\n",
        "cuda = torch.cuda.is_available()\n",
        "print(\"CUDA Available?\", cuda)\n",
        "\n",
        "# For reproducibility\n",
        "torch.manual_seed(SEED)\n",
        "batch_size = 128\n",
        "\n",
        "kwargs = {'num_workers': 1, 'pin_memory': True} if use_cuda else {}\n",
        "train_loader = torch.utils.data.DataLoader(\n",
        "    datasets.MNIST('../data', train=True, download=True,\n",
        "                    transform=transforms.Compose([\n",
        "                        #transforms.RandomRotation((-9.0, 9.0), fill=(1,)),                    \n",
        "                        transforms.ToTensor(),\n",
        "                        transforms.Normalize((0.1307,), (0.3081,))\n",
        "                    ])),\n",
        "    batch_size=batch_size, shuffle=True, **kwargs)\n",
        "test_loader = torch.utils.data.DataLoader(\n",
        "    datasets.MNIST('../data', train=False, transform=transforms.Compose([\n",
        "                        transforms.ToTensor(),\n",
        "                        transforms.Normalize((0.1307,), (0.3081,))\n",
        "                    ])),\n",
        "    batch_size=batch_size, shuffle=True, **kwargs)\n",
        "\n",
        "\n"
      ],
      "execution_count": 0,
      "outputs": [
        {
          "output_type": "stream",
          "text": [
            "CUDA Available? True\n"
          ],
          "name": "stdout"
        }
      ]
    },
    {
      "cell_type": "code",
      "metadata": {
        "id": "8fDefDhaFlwH",
        "colab_type": "code",
        "colab": {}
      },
      "source": [
        "from tqdm import tqdm\n",
        "\n",
        "train_losses = []\n",
        "test_losses = []\n",
        "train_acc = []\n",
        "test_acc = []\n",
        "\n",
        "def train(model, device, train_loader, optimizer, epoch):\n",
        "  model.train()\n",
        "  pbar = tqdm(train_loader)\n",
        "  correct = 0\n",
        "  processed = 0\n",
        "  for batch_idx, (data, target) in enumerate(pbar):\n",
        "    # get samples\n",
        "    data, target = data.to(device), target.to(device)\n",
        "\n",
        "    # Init\n",
        "    optimizer.zero_grad()\n",
        "    # In PyTorch, we need to set the gradients to zero before starting to do backpropragation because PyTorch accumulates the gradients on subsequent backward passes. \n",
        "    # Because of this, when you start your training loop, ideally you should zero out the gradients so that you do the parameter update correctly.\n",
        "\n",
        "    # Predict\n",
        "    y_pred = model(data)\n",
        "\n",
        "    # Calculate loss\n",
        "    loss = F.nll_loss(y_pred, target)\n",
        "    train_losses.append(loss)\n",
        "\n",
        "    # Backpropagation\n",
        "    loss.backward()\n",
        "    optimizer.step()\n",
        "\n",
        "    # Update pbar-tqdm\n",
        "    \n",
        "    pred = y_pred.argmax(dim=1, keepdim=True)  # get the index of the max log-probability\n",
        "    correct += pred.eq(target.view_as(pred)).sum().item()\n",
        "    processed += len(data)\n",
        "\n",
        "    pbar.set_description(desc= f'Loss={loss.item()} Batch_id={batch_idx} Accuracy={100*correct/processed:0.2f}')\n",
        "    train_acc.append(100*correct/processed)\n",
        "\n",
        "def test(model, device, test_loader):\n",
        "    model.eval()\n",
        "    test_loss = 0\n",
        "    correct = 0\n",
        "    with torch.no_grad():\n",
        "        for data, target in test_loader:\n",
        "            data, target = data.to(device), target.to(device)\n",
        "            output = model(data)\n",
        "            test_loss += F.nll_loss(output, target, reduction='sum').item()  # sum up batch loss\n",
        "            pred = output.argmax(dim=1, keepdim=True)  # get the index of the max log-probability\n",
        "            correct += pred.eq(target.view_as(pred)).sum().item()\n",
        "\n",
        "    test_loss /= len(test_loader.dataset)\n",
        "    test_losses.append(test_loss)\n",
        "\n",
        "    print('\\nTest set: Average loss: {:.4f}, Accuracy: {}/{} ({:.2f}%)\\n'.format(\n",
        "        test_loss, correct, len(test_loader.dataset),\n",
        "        100. * correct / len(test_loader.dataset)))\n",
        "    \n",
        "    test_acc.append(100. * correct / len(test_loader.dataset))"
      ],
      "execution_count": 0,
      "outputs": []
    },
    {
      "cell_type": "code",
      "metadata": {
        "id": "MMWbLWO6FuHb",
        "colab_type": "code",
        "outputId": "a8ff82b5-e81c-4113-bed9-b198ed2d90a3",
        "colab": {
          "base_uri": "https://localhost:8080/",
          "height": 1000
        }
      },
      "source": [
        "\n",
        "model = Net().to(device)\n",
        "optimizer = optim.SGD(model.parameters(), lr=0.01, momentum=0.9)\n",
        "\n",
        "for epoch in range(1, 16):\n",
        "    print(\"EPOCH:\", epoch)\n",
        "    train(model, device, train_loader, optimizer, epoch)\n",
        "    test(model, device, test_loader)\n",
        "    print('Epoch', epoch, ' done')"
      ],
      "execution_count": 0,
      "outputs": [
        {
          "output_type": "stream",
          "text": [
            "\r  0%|          | 0/469 [00:00<?, ?it/s]"
          ],
          "name": "stderr"
        },
        {
          "output_type": "stream",
          "text": [
            "EPOCH: 1\n"
          ],
          "name": "stdout"
        },
        {
          "output_type": "stream",
          "text": [
            "Loss=2.302431344985962 Batch_id=468 Accuracy=10.40: 100%|██████████| 469/469 [00:10<00:00, 42.82it/s]\n",
            "  0%|          | 0/469 [00:00<?, ?it/s]"
          ],
          "name": "stderr"
        },
        {
          "output_type": "stream",
          "text": [
            "\n",
            "Test set: Average loss: 2.3025, Accuracy: 1193/10000 (11.93%)\n",
            "\n",
            "Epoch 1  done\n",
            "EPOCH: 2\n"
          ],
          "name": "stdout"
        },
        {
          "output_type": "stream",
          "text": [
            "Loss=2.302222728729248 Batch_id=468 Accuracy=12.64: 100%|██████████| 469/469 [00:10<00:00, 46.86it/s]\n",
            "  0%|          | 0/469 [00:00<?, ?it/s]"
          ],
          "name": "stderr"
        },
        {
          "output_type": "stream",
          "text": [
            "\n",
            "Test set: Average loss: 2.3023, Accuracy: 1210/10000 (12.10%)\n",
            "\n",
            "Epoch 2  done\n",
            "EPOCH: 3\n"
          ],
          "name": "stdout"
        },
        {
          "output_type": "stream",
          "text": [
            "Loss=1.0469337701797485 Batch_id=468 Accuracy=16.09: 100%|██████████| 469/469 [00:10<00:00, 44.48it/s]\n",
            "  0%|          | 0/469 [00:00<?, ?it/s]"
          ],
          "name": "stderr"
        },
        {
          "output_type": "stream",
          "text": [
            "\n",
            "Test set: Average loss: 1.0601, Accuracy: 6623/10000 (66.23%)\n",
            "\n",
            "Epoch 3  done\n",
            "EPOCH: 4\n"
          ],
          "name": "stdout"
        },
        {
          "output_type": "stream",
          "text": [
            "Loss=0.3033347427845001 Batch_id=468 Accuracy=86.01: 100%|██████████| 469/469 [00:10<00:00, 46.45it/s]\n",
            "  0%|          | 0/469 [00:00<?, ?it/s]"
          ],
          "name": "stderr"
        },
        {
          "output_type": "stream",
          "text": [
            "\n",
            "Test set: Average loss: 0.2315, Accuracy: 9276/10000 (92.76%)\n",
            "\n",
            "Epoch 4  done\n",
            "EPOCH: 5\n"
          ],
          "name": "stdout"
        },
        {
          "output_type": "stream",
          "text": [
            "Loss=0.047211918979883194 Batch_id=468 Accuracy=93.76: 100%|██████████| 469/469 [00:10<00:00, 45.75it/s]\n",
            "  0%|          | 0/469 [00:00<?, ?it/s]"
          ],
          "name": "stderr"
        },
        {
          "output_type": "stream",
          "text": [
            "\n",
            "Test set: Average loss: 0.1393, Accuracy: 9576/10000 (95.76%)\n",
            "\n",
            "Epoch 5  done\n",
            "EPOCH: 6\n"
          ],
          "name": "stdout"
        },
        {
          "output_type": "stream",
          "text": [
            "Loss=0.16993367671966553 Batch_id=468 Accuracy=96.05: 100%|██████████| 469/469 [00:10<00:00, 45.96it/s]\n",
            "  0%|          | 0/469 [00:00<?, ?it/s]"
          ],
          "name": "stderr"
        },
        {
          "output_type": "stream",
          "text": [
            "\n",
            "Test set: Average loss: 0.1014, Accuracy: 9704/10000 (97.04%)\n",
            "\n",
            "Epoch 6  done\n",
            "EPOCH: 7\n"
          ],
          "name": "stdout"
        },
        {
          "output_type": "stream",
          "text": [
            "Loss=0.05015810951590538 Batch_id=468 Accuracy=96.85: 100%|██████████| 469/469 [00:10<00:00, 45.15it/s]\n",
            "  0%|          | 0/469 [00:00<?, ?it/s]"
          ],
          "name": "stderr"
        },
        {
          "output_type": "stream",
          "text": [
            "\n",
            "Test set: Average loss: 0.0794, Accuracy: 9791/10000 (97.91%)\n",
            "\n",
            "Epoch 7  done\n",
            "EPOCH: 8\n"
          ],
          "name": "stdout"
        },
        {
          "output_type": "stream",
          "text": [
            "Loss=0.07431329041719437 Batch_id=468 Accuracy=97.28: 100%|██████████| 469/469 [00:10<00:00, 46.59it/s]\n",
            "  0%|          | 0/469 [00:00<?, ?it/s]"
          ],
          "name": "stderr"
        },
        {
          "output_type": "stream",
          "text": [
            "\n",
            "Test set: Average loss: 0.0736, Accuracy: 9786/10000 (97.86%)\n",
            "\n",
            "Epoch 8  done\n",
            "EPOCH: 9\n"
          ],
          "name": "stdout"
        },
        {
          "output_type": "stream",
          "text": [
            "Loss=0.13466545939445496 Batch_id=468 Accuracy=97.70: 100%|██████████| 469/469 [00:10<00:00, 45.21it/s]\n",
            "  0%|          | 0/469 [00:00<?, ?it/s]"
          ],
          "name": "stderr"
        },
        {
          "output_type": "stream",
          "text": [
            "\n",
            "Test set: Average loss: 0.0602, Accuracy: 9806/10000 (98.06%)\n",
            "\n",
            "Epoch 9  done\n",
            "EPOCH: 10\n"
          ],
          "name": "stdout"
        },
        {
          "output_type": "stream",
          "text": [
            "Loss=0.12213965505361557 Batch_id=468 Accuracy=97.85: 100%|██████████| 469/469 [00:10<00:00, 45.35it/s]\n",
            "  0%|          | 0/469 [00:00<?, ?it/s]"
          ],
          "name": "stderr"
        },
        {
          "output_type": "stream",
          "text": [
            "\n",
            "Test set: Average loss: 0.0509, Accuracy: 9840/10000 (98.40%)\n",
            "\n",
            "Epoch 10  done\n",
            "EPOCH: 11\n"
          ],
          "name": "stdout"
        },
        {
          "output_type": "stream",
          "text": [
            "Loss=0.050079282373189926 Batch_id=468 Accuracy=98.05: 100%|██████████| 469/469 [00:10<00:00, 44.05it/s]\n",
            "  0%|          | 0/469 [00:00<?, ?it/s]"
          ],
          "name": "stderr"
        },
        {
          "output_type": "stream",
          "text": [
            "\n",
            "Test set: Average loss: 0.0551, Accuracy: 9825/10000 (98.25%)\n",
            "\n",
            "Epoch 11  done\n",
            "EPOCH: 12\n"
          ],
          "name": "stdout"
        },
        {
          "output_type": "stream",
          "text": [
            "Loss=0.0737246572971344 Batch_id=468 Accuracy=98.11: 100%|██████████| 469/469 [00:10<00:00, 44.06it/s]\n",
            "  0%|          | 0/469 [00:00<?, ?it/s]"
          ],
          "name": "stderr"
        },
        {
          "output_type": "stream",
          "text": [
            "\n",
            "Test set: Average loss: 0.0509, Accuracy: 9838/10000 (98.38%)\n",
            "\n",
            "Epoch 12  done\n",
            "EPOCH: 13\n"
          ],
          "name": "stdout"
        },
        {
          "output_type": "stream",
          "text": [
            "Loss=0.15269316732883453 Batch_id=468 Accuracy=98.29: 100%|██████████| 469/469 [00:10<00:00, 45.49it/s]\n",
            "  0%|          | 0/469 [00:00<?, ?it/s]"
          ],
          "name": "stderr"
        },
        {
          "output_type": "stream",
          "text": [
            "\n",
            "Test set: Average loss: 0.0465, Accuracy: 9852/10000 (98.52%)\n",
            "\n",
            "Epoch 13  done\n",
            "EPOCH: 14\n"
          ],
          "name": "stdout"
        },
        {
          "output_type": "stream",
          "text": [
            "Loss=0.08633055537939072 Batch_id=468 Accuracy=98.41: 100%|██████████| 469/469 [00:10<00:00, 43.82it/s]\n",
            "  0%|          | 0/469 [00:00<?, ?it/s]"
          ],
          "name": "stderr"
        },
        {
          "output_type": "stream",
          "text": [
            "\n",
            "Test set: Average loss: 0.0491, Accuracy: 9842/10000 (98.42%)\n",
            "\n",
            "Epoch 14  done\n",
            "EPOCH: 15\n"
          ],
          "name": "stdout"
        },
        {
          "output_type": "stream",
          "text": [
            "Loss=0.05298151075839996 Batch_id=468 Accuracy=98.50: 100%|██████████| 469/469 [00:10<00:00, 45.26it/s]\n"
          ],
          "name": "stderr"
        },
        {
          "output_type": "stream",
          "text": [
            "\n",
            "Test set: Average loss: 0.0400, Accuracy: 9869/10000 (98.69%)\n",
            "\n",
            "Epoch 15  done\n"
          ],
          "name": "stdout"
        }
      ]
    },
    {
      "cell_type": "code",
      "metadata": {
        "id": "So5uk4EkHW6R",
        "colab_type": "code",
        "outputId": "a4a442da-7874-4b76-c7d1-498e2baa1d4d",
        "colab": {
          "base_uri": "https://localhost:8080/",
          "height": 624
        }
      },
      "source": [
        "%matplotlib inline\n",
        "import matplotlib.pyplot as plt\n",
        "fig, axs = plt.subplots(2,2,figsize=(15,10))\n",
        "axs[0, 0].plot(train_losses)\n",
        "axs[0, 0].set_title(\"Training Loss\")\n",
        "axs[1, 0].plot(train_acc[4000:])\n",
        "axs[1, 0].set_title(\"Training Accuracy\")\n",
        "axs[0, 1].plot(test_losses)\n",
        "axs[0, 1].set_title(\"Test Loss\")\n",
        "axs[1, 1].plot(test_acc)\n",
        "axs[1, 1].set_title(\"Test Accuracy\")"
      ],
      "execution_count": 0,
      "outputs": [
        {
          "output_type": "execute_result",
          "data": {
            "text/plain": [
              "Text(0.5, 1.0, 'Test Accuracy')"
            ]
          },
          "metadata": {
            "tags": []
          },
          "execution_count": 23
        },
        {
          "output_type": "display_data",
          "data": {
            "image/png": "[encoded data removed]",
            "text/plain": [
              "<Figure size 1080x720 with 4 Axes>"
            ]
          },
          "metadata": {
            "tags": [],
            "needs_background": "light"
          }
        }
      ]
    },
    {
      "cell_type": "code",
      "metadata": {
        "id": "3tN0DTopFtVj",
        "colab_type": "code",
        "colab": {}
      },
      "source": [
        ""
      ],
      "execution_count": 0,
      "outputs": []
    }
  ]
}
