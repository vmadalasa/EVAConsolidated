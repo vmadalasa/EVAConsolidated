{
  "nbformat": 4,
  "nbformat_minor": 0,
  "metadata": {
    "colab": {
      "name": "Madhu_S5Model4_with dropout_trial1.ipynb",
      "provenance": [],
      "collapsed_sections": [],
      "include_colab_link": true
    },
    "kernelspec": {
      "name": "python3",
      "display_name": "Python 3"
    },
    "accelerator": "GPU"
  },
  "cells": [
    {
      "cell_type": "markdown",
      "metadata": {
        "id": "view-in-github",
        "colab_type": "text"
      },
      "source": [
        "<a href=\"https://colab.research.google.com/github/vmadalasa/EVA4S5/blob/master/Madhu_S5Model4_with_dropout_trial1.ipynb\" target=\"_parent\"><img src=\"https://colab.research.google.com/assets/colab-badge.svg\" alt=\"Open In Colab\"/></a>"
      ]
    },
    {
      "cell_type": "markdown",
      "metadata": {
        "id": "La0_oYNdKBKK",
        "colab_type": "text"
      },
      "source": [
        "#MODEL OBSERVATIONS\n",
        "\n",
        "\n",
        "#Target:\n",
        "\n",
        "In this trial, we want to reduce overfitting by doing a dropout \n",
        "\n",
        "\n",
        "\n",
        "#Results:\n",
        "Parameters: 9468\n",
        "\n",
        "I tried with different dropout values\n",
        "As per Jason Brownlee in https://machinelearningmastery.com/dropout-for-regularizing-deep-neural-networks/; we could have different dropout values in higher and lower layers and these impact differently. \n",
        "So, obviously, i have to try it here.\n",
        "\n",
        "Dropout value 0.1 across all layers\n",
        "Best Training Accuracy: 98.96\n",
        "Best Test Accuracy: 99.22\n",
        "\n",
        "then i tried dropout of 0.25 across all layers. this is a disaster. \n",
        "Overfitting did not reduce (train, 98.4, test 98.3) but more importantly accuracy went for a toss. \n",
        "\n",
        "So tried now with differential dropouts.\n",
        "in first set of conv layers, drop only 0.1, but in deeper layers, drop 0.2.\n",
        "This yielded best train accuracy of 98.67 and best test accuracy of 99.2\n",
        "\n",
        "So the 0.1 dropout seems to be best\n",
        "\n",
        "#Analysis:\n",
        "Model overfit has decreased\n",
        "0.1 dropout seems to be the best\n",
        "Let's now see if we can add some capacity in the next section\n",
        "\n",
        "\n",
        "\n",
        "\n",
        "#Second Skeleton model with batch norm and without regularisation (dropouts)\n",
        "\n",
        "Input size 28X28X1; output_size = 26X26X12; RF 3X3 - Convinput - with batchnorm and dropout\n",
        "\n",
        "Input size 26X26X12; output_size = 24X24X12; RF 5X5 - convblock1A- with batchnorm and dropout\n",
        "Input size 24X24X12; output_size = 22X22X20; RF 7X7 - convblock1B- with batchnorm and dropout\n",
        "\n",
        "Now Max pool to get this to Input size 22X22X20; output_size = 11X11X20; RF 14X14 - pool1\n",
        "Input size 11X11X20 output_size = 11X11X12; RF 14X14 - tranblock1\n",
        "\n",
        "Convblock 2\n",
        "Input size 11X11X12; output_size = 9X9X12; RF 16X16 - convblock2A- with batchnorm and dropout\n",
        "Input size 9X9X12; output_size = 7X7X16; RF 18X18 convblock2B- with batchnorm and dropout\n",
        "Input size 7X7X16; output_size = 5X5X16; RF 20X20 convblock2C- with batchnorm and dropout\n",
        "\n",
        "Now we have reached only till RF of 20X20\n",
        "We do self.gap layer at kernel size 5 - gap\n",
        "finally transblock 1X1 for Input size 1X1X16; output_size = 1X1X10; RF 20X20 - convblockEnd WITHOUT batch norm here\n",
        "\n",
        "#BATCH SIZE = 128\n",
        "\n",
        "#NO ROTATION OF IMAGES\n",
        "\n",
        "\n",
        "# OBSERVATIONS\n",
        " \n",
        "\n",
        "\n",
        "\n"
      ]
    },
    {
      "cell_type": "code",
      "metadata": {
        "id": "0m2JWFliFfKT",
        "colab_type": "code",
        "colab": {}
      },
      "source": [
        "from __future__ import print_function\n",
        "import torch\n",
        "import torch.nn as nn\n",
        "import torch.nn.functional as F\n",
        "import torch.optim as optim\n",
        "from torchvision import datasets, transforms"
      ],
      "execution_count": 0,
      "outputs": []
    },
    {
      "cell_type": "code",
      "metadata": {
        "colab_type": "code",
        "id": "QO6KrMia6CSE",
        "colab": {}
      },
      "source": [
        "#Model with batchnorm and dropout\n",
        "\n",
        "# Input size 28X28X1; output_size = 26X26X12; RF 3X3 - Convinput \n",
        "# Input size 26X26X12; output_size = 24X24X12; RF 5X5 - convblock1A\n",
        "# Input size 24X24X12; output_size = 22X22X20; RF 7X7 - convblock1B\n",
        "\n",
        "#Now Max pool to get this to Input size 22X22X20; output_size = 11X11X20; RF 14X14 - pool1\n",
        "# Input size 11X11X20 output_size = 11X11X12; RF 14X14 - tranblock1\n",
        "\n",
        "#Convblock 2\n",
        "# Input size 11X11X12; output_size = 9X9X12; RF 16X16 - convblock2A\n",
        "# Input size 9X9X12; output_size = 7X7X16; RF 18X18 - convblock2B\n",
        "# Input size 7X7X16; output_size = 5X5X16; RF 20X20 - convblock2C\n",
        "\n",
        "#We do self.gap layer at kernel size 5 - gap\n",
        "#finally transblock 1X1 for Input size 1X1X16; output_size = 1X1X10; RF 20X20 - convblockEnd WITHOUT batch norm here\n",
        "\n",
        "\n",
        "dropout_value2 = 0.1\n",
        "dropout_value1 = 0.2\n",
        "\n",
        "class Net(nn.Module):\n",
        "    def __init__(self):\n",
        "        super(Net, self).__init__()\n",
        "\n",
        "\n",
        "        # Input Block\n",
        "        self.convinput = nn.Sequential(\n",
        "            nn.Conv2d(in_channels=1, out_channels=12, kernel_size=(3, 3), padding=0, bias=False),\n",
        "            nn.BatchNorm2d(12),\n",
        "            nn.ReLU(),\n",
        "            nn.Dropout(dropout_value2)\n",
        "        ) # Input size 28X28X1; output_size = 26X26X12; RF 3X3\n",
        "\n",
        "\n",
        "       # CONVOLUTION BLOCK 1\n",
        "        self.convblock1A = nn.Sequential(\n",
        "            nn.Conv2d(in_channels=12, out_channels=12, kernel_size=(3, 3), padding=0, bias=False),\n",
        "            nn.BatchNorm2d(12),\n",
        "            nn.ReLU(),\n",
        "            nn.Dropout(dropout_value2)\n",
        "        ) # Input size 26X26X12; output_size = 24X24X12; RF 5X5\n",
        "\n",
        "        self.convblock1B = nn.Sequential(\n",
        "            nn.Conv2d(in_channels=12, out_channels=20, kernel_size=(3, 3), padding=0, bias=False),\n",
        "            nn.BatchNorm2d(20),\n",
        "            nn.ReLU(),\n",
        "            nn.Dropout(dropout_value2)\n",
        "        ) # Input size 24X24X12; output_size = 22X22X12; RF 7X7\n",
        "\n",
        "    \n",
        "\n",
        "        # TRANSITION BLOCK 1\n",
        "\n",
        "        self.pool1 = nn.MaxPool2d(2, 2) # # # Input size 22X22X12; output_size = 11X11X12; RF 14X14\n",
        "        \n",
        "        self.tranblock1 = nn.Sequential(\n",
        "           nn.Conv2d(in_channels=20, out_channels=12, kernel_size=(1, 1), padding=0, bias=False),\n",
        "        ) # # # Input size 11X11X16; output_size = 11X11X12; RF 14X14\n",
        "\n",
        "      # CONVOLUTION BLOCK 2\n",
        "        self.convblock2A = nn.Sequential(\n",
        "            nn.Conv2d(in_channels=12, out_channels=12, kernel_size=(3, 3), padding=0, bias=False),\n",
        "            nn.BatchNorm2d(12),\n",
        "            nn.ReLU(),\n",
        "            nn.Dropout(dropout_value1)\n",
        "        ) # Input size 11X11X12; output_size = 9X9X12; RF 16X16\n",
        "\n",
        "\n",
        " \n",
        "        self.convblock2B = nn.Sequential(\n",
        "            nn.Conv2d(in_channels=12, out_channels=16, kernel_size=(3, 3), padding=0, bias=False),\n",
        "            nn.BatchNorm2d(16),\n",
        "            nn.ReLU(), \n",
        "            nn.Dropout(dropout_value1)  \n",
        "        ) # # Input size 9X9X12; output_size = 7X7X16; RF 18X18\n",
        "\n",
        "        self.convblock2C = nn.Sequential(\n",
        "            nn.Conv2d(in_channels=16, out_channels=16, kernel_size=(3, 3), padding=0, bias=False),\n",
        "            nn.BatchNorm2d(16),\n",
        "            nn.ReLU(), \n",
        "            nn.Dropout(dropout_value1) \n",
        "        ) # # Input size 7X7X16; output_size = 5X5X16; RF 20X20\n",
        "\n",
        "\n",
        "      # OUTPUT BLOCK\n",
        "        self.gap = nn.Sequential(\n",
        "            nn.AvgPool2d(kernel_size=5)\n",
        "        ) # output_size = 1\n",
        "\n",
        "        self.convblockEnd = nn.Sequential(\n",
        "            nn.Conv2d(in_channels=16, out_channels=10, kernel_size=(1, 1), padding=0, bias=False),\n",
        "            # nn.BatchNorm2d(10),\n",
        "            # nn.ReLU(),\n",
        "            # nn.Dropout(dropout_value) \n",
        "\n",
        "        ) #Input size 1X1X16; output_size = 1X1X10; RF 20X20\n",
        "\n",
        "\n",
        "    def forward(self, x):\n",
        "        x = self.convinput(x)\n",
        "\n",
        "        x = self.convblock1A(x)\n",
        "        x = self.convblock1B(x)\n",
        "        \n",
        "        x = self.pool1(x)\n",
        "        #x = self.poolAlt1(x)\n",
        "        x = self.tranblock1(x)\n",
        "\n",
        "        x = self.convblock2A(x)\n",
        "        x = self.convblock2B(x)\n",
        "        x = self.convblock2C(x)\n",
        "\n",
        "        x = self.gap(x)        \n",
        "       \n",
        "        x = self.convblockEnd(x)\n",
        "        #print(x.shape)\n",
        "        x = x.view(-1, 10)\n",
        "        return F.log_softmax(x, dim=-1)\n",
        "        \n",
        "        \n",
        "     "
      ],
      "execution_count": 0,
      "outputs": []
    },
    {
      "cell_type": "code",
      "metadata": {
        "id": "ivWH1yIWNRFy",
        "colab_type": "code",
        "colab": {}
      },
      "source": [
        ""
      ],
      "execution_count": 0,
      "outputs": []
    },
    {
      "cell_type": "code",
      "metadata": {
        "colab_type": "code",
        "id": "xdydjYTZFyi3",
        "outputId": "ef8aa95c-b54e-41ff-c03f-96c7952cdb11",
        "colab": {
          "base_uri": "https://localhost:8080/",
          "height": 731
        }
      },
      "source": [
        "!pip install torchsummary\n",
        "from torchsummary import summary\n",
        "use_cuda = torch.cuda.is_available()\n",
        "device = torch.device(\"cuda\" if use_cuda else \"cpu\")\n",
        "model = Net().to(device)\n",
        "summary(model, input_size=(1, 28, 28))"
      ],
      "execution_count": 0,
      "outputs": [
        {
          "output_type": "stream",
          "text": [
            "Requirement already satisfied: torchsummary in /usr/local/lib/python3.6/dist-packages (1.5.1)\n",
            "----------------------------------------------------------------\n",
            "        Layer (type)               Output Shape         Param #\n",
            "================================================================\n",
            "            Conv2d-1           [-1, 12, 26, 26]             108\n",
            "       BatchNorm2d-2           [-1, 12, 26, 26]              24\n",
            "              ReLU-3           [-1, 12, 26, 26]               0\n",
            "           Dropout-4           [-1, 12, 26, 26]               0\n",
            "            Conv2d-5           [-1, 12, 24, 24]           1,296\n",
            "       BatchNorm2d-6           [-1, 12, 24, 24]              24\n",
            "              ReLU-7           [-1, 12, 24, 24]               0\n",
            "           Dropout-8           [-1, 12, 24, 24]               0\n",
            "            Conv2d-9           [-1, 20, 22, 22]           2,160\n",
            "      BatchNorm2d-10           [-1, 20, 22, 22]              40\n",
            "             ReLU-11           [-1, 20, 22, 22]               0\n",
            "          Dropout-12           [-1, 20, 22, 22]               0\n",
            "        MaxPool2d-13           [-1, 20, 11, 11]               0\n",
            "           Conv2d-14           [-1, 12, 11, 11]             240\n",
            "           Conv2d-15             [-1, 12, 9, 9]           1,296\n",
            "      BatchNorm2d-16             [-1, 12, 9, 9]              24\n",
            "             ReLU-17             [-1, 12, 9, 9]               0\n",
            "          Dropout-18             [-1, 12, 9, 9]               0\n",
            "           Conv2d-19             [-1, 16, 7, 7]           1,728\n",
            "      BatchNorm2d-20             [-1, 16, 7, 7]              32\n",
            "             ReLU-21             [-1, 16, 7, 7]               0\n",
            "          Dropout-22             [-1, 16, 7, 7]               0\n",
            "           Conv2d-23             [-1, 16, 5, 5]           2,304\n",
            "      BatchNorm2d-24             [-1, 16, 5, 5]              32\n",
            "             ReLU-25             [-1, 16, 5, 5]               0\n",
            "          Dropout-26             [-1, 16, 5, 5]               0\n",
            "        AvgPool2d-27             [-1, 16, 1, 1]               0\n",
            "           Conv2d-28             [-1, 10, 1, 1]             160\n",
            "================================================================\n",
            "Total params: 9,468\n",
            "Trainable params: 9,468\n",
            "Non-trainable params: 0\n",
            "----------------------------------------------------------------\n",
            "Input size (MB): 0.00\n",
            "Forward/backward pass size (MB): 0.85\n",
            "Params size (MB): 0.04\n",
            "Estimated Total Size (MB): 0.89\n",
            "----------------------------------------------------------------\n"
          ],
          "name": "stdout"
        }
      ]
    },
    {
      "cell_type": "markdown",
      "metadata": {
        "id": "e22vcDxOV8vP",
        "colab_type": "text"
      },
      "source": [
        "\n"
      ]
    },
    {
      "cell_type": "code",
      "metadata": {
        "id": "DqTWLaM5GHgH",
        "colab_type": "code",
        "outputId": "6192c202-bbfa-42f4-e068-07656189d44a",
        "colab": {
          "base_uri": "https://localhost:8080/",
          "height": 34
        }
      },
      "source": [
        "#WHAT WE CHANGE IN THIS BLOCK\n",
        "#BATCHSIZE = 128 IN BASIC SKELETON MODEL\n",
        "#NO ROTATION\n",
        "\n",
        "SEED = 1\n",
        "\n",
        "# CUDA?\n",
        "cuda = torch.cuda.is_available()\n",
        "print(\"CUDA Available?\", cuda)\n",
        "\n",
        "# For reproducibility\n",
        "torch.manual_seed(SEED)\n",
        "batch_size = 128\n",
        "\n",
        "kwargs = {'num_workers': 1, 'pin_memory': True} if use_cuda else {}\n",
        "train_loader = torch.utils.data.DataLoader(\n",
        "    datasets.MNIST('../data', train=True, download=True,\n",
        "                    transform=transforms.Compose([\n",
        "                        #transforms.RandomRotation((-9.0, 9.0), fill=(1,)),                    \n",
        "                        transforms.ToTensor(),\n",
        "                        transforms.Normalize((0.1307,), (0.3081,))\n",
        "                    ])),\n",
        "    batch_size=batch_size, shuffle=True, **kwargs)\n",
        "test_loader = torch.utils.data.DataLoader(\n",
        "    datasets.MNIST('../data', train=False, transform=transforms.Compose([\n",
        "                        transforms.ToTensor(),\n",
        "                        transforms.Normalize((0.1307,), (0.3081,))\n",
        "                    ])),\n",
        "    batch_size=batch_size, shuffle=True, **kwargs)\n",
        "\n",
        "\n"
      ],
      "execution_count": 0,
      "outputs": [
        {
          "output_type": "stream",
          "text": [
            "CUDA Available? True\n"
          ],
          "name": "stdout"
        }
      ]
    },
    {
      "cell_type": "code",
      "metadata": {
        "id": "8fDefDhaFlwH",
        "colab_type": "code",
        "colab": {}
      },
      "source": [
        "from tqdm import tqdm\n",
        "\n",
        "train_losses = []\n",
        "test_losses = []\n",
        "train_acc = []\n",
        "test_acc = []\n",
        "\n",
        "def train(model, device, train_loader, optimizer, epoch):\n",
        "  model.train()\n",
        "  pbar = tqdm(train_loader)\n",
        "  correct = 0\n",
        "  processed = 0\n",
        "  for batch_idx, (data, target) in enumerate(pbar):\n",
        "    # get samples\n",
        "    data, target = data.to(device), target.to(device)\n",
        "\n",
        "    # Init\n",
        "    optimizer.zero_grad()\n",
        "    # In PyTorch, we need to set the gradients to zero before starting to do backpropragation because PyTorch accumulates the gradients on subsequent backward passes. \n",
        "    # Because of this, when you start your training loop, ideally you should zero out the gradients so that you do the parameter update correctly.\n",
        "\n",
        "    # Predict\n",
        "    y_pred = model(data)\n",
        "\n",
        "    # Calculate loss\n",
        "    loss = F.nll_loss(y_pred, target)\n",
        "    train_losses.append(loss)\n",
        "\n",
        "    # Backpropagation\n",
        "    loss.backward()\n",
        "    optimizer.step()\n",
        "\n",
        "    # Update pbar-tqdm\n",
        "    \n",
        "    pred = y_pred.argmax(dim=1, keepdim=True)  # get the index of the max log-probability\n",
        "    correct += pred.eq(target.view_as(pred)).sum().item()\n",
        "    processed += len(data)\n",
        "\n",
        "    pbar.set_description(desc= f'Loss={loss.item()} Batch_id={batch_idx} Accuracy={100*correct/processed:0.2f}')\n",
        "    train_acc.append(100*correct/processed)\n",
        "\n",
        "def test(model, device, test_loader):\n",
        "    model.eval()\n",
        "    test_loss = 0\n",
        "    correct = 0\n",
        "    with torch.no_grad():\n",
        "        for data, target in test_loader:\n",
        "            data, target = data.to(device), target.to(device)\n",
        "            output = model(data)\n",
        "            test_loss += F.nll_loss(output, target, reduction='sum').item()  # sum up batch loss\n",
        "            pred = output.argmax(dim=1, keepdim=True)  # get the index of the max log-probability\n",
        "            correct += pred.eq(target.view_as(pred)).sum().item()\n",
        "\n",
        "    test_loss /= len(test_loader.dataset)\n",
        "    test_losses.append(test_loss)\n",
        "\n",
        "    print('\\nTest set: Average loss: {:.4f}, Accuracy: {}/{} ({:.2f}%)\\n'.format(\n",
        "        test_loss, correct, len(test_loader.dataset),\n",
        "        100. * correct / len(test_loader.dataset)))\n",
        "    \n",
        "    test_acc.append(100. * correct / len(test_loader.dataset))"
      ],
      "execution_count": 0,
      "outputs": []
    },
    {
      "cell_type": "code",
      "metadata": {
        "id": "MMWbLWO6FuHb",
        "colab_type": "code",
        "outputId": "a0fc0cb9-80da-4eae-e839-ee4e1a0d89b6",
        "colab": {
          "base_uri": "https://localhost:8080/",
          "height": 1000
        }
      },
      "source": [
        "\n",
        "model = Net().to(device)\n",
        "optimizer = optim.SGD(model.parameters(), lr=0.01, momentum=0.9)\n",
        "\n",
        "for epoch in range(1, 16):\n",
        "    print(\"EPOCH:\", epoch)\n",
        "    train(model, device, train_loader, optimizer, epoch)\n",
        "    test(model, device, test_loader)\n",
        "    print('Epoch', epoch, ' done')"
      ],
      "execution_count": 0,
      "outputs": [
        {
          "output_type": "stream",
          "text": [
            "\r  0%|          | 0/469 [00:00<?, ?it/s]"
          ],
          "name": "stderr"
        },
        {
          "output_type": "stream",
          "text": [
            "EPOCH: 1\n"
          ],
          "name": "stdout"
        },
        {
          "output_type": "stream",
          "text": [
            "Loss=0.17386691272258759 Batch_id=468 Accuracy=76.69: 100%|██████████| 469/469 [00:14<00:00, 31.46it/s]\n",
            "  0%|          | 0/469 [00:00<?, ?it/s]"
          ],
          "name": "stderr"
        },
        {
          "output_type": "stream",
          "text": [
            "\n",
            "Test set: Average loss: 0.2923, Accuracy: 9178/10000 (91.78%)\n",
            "\n",
            "Epoch 1  done\n",
            "EPOCH: 2\n"
          ],
          "name": "stdout"
        },
        {
          "output_type": "stream",
          "text": [
            "Loss=0.10843674093484879 Batch_id=468 Accuracy=96.36: 100%|██████████| 469/469 [00:14<00:00, 31.60it/s]\n",
            "  0%|          | 0/469 [00:00<?, ?it/s]"
          ],
          "name": "stderr"
        },
        {
          "output_type": "stream",
          "text": [
            "\n",
            "Test set: Average loss: 0.0959, Accuracy: 9720/10000 (97.20%)\n",
            "\n",
            "Epoch 2  done\n",
            "EPOCH: 3\n"
          ],
          "name": "stdout"
        },
        {
          "output_type": "stream",
          "text": [
            "Loss=0.07916603982448578 Batch_id=468 Accuracy=97.28: 100%|██████████| 469/469 [00:14<00:00, 31.52it/s]\n",
            "  0%|          | 0/469 [00:00<?, ?it/s]"
          ],
          "name": "stderr"
        },
        {
          "output_type": "stream",
          "text": [
            "\n",
            "Test set: Average loss: 0.0832, Accuracy: 9748/10000 (97.48%)\n",
            "\n",
            "Epoch 3  done\n",
            "EPOCH: 4\n"
          ],
          "name": "stdout"
        },
        {
          "output_type": "stream",
          "text": [
            "Loss=0.1491168588399887 Batch_id=468 Accuracy=97.77: 100%|██████████| 469/469 [00:14<00:00, 32.02it/s]\n",
            "  0%|          | 0/469 [00:00<?, ?it/s]"
          ],
          "name": "stderr"
        },
        {
          "output_type": "stream",
          "text": [
            "\n",
            "Test set: Average loss: 0.0722, Accuracy: 9789/10000 (97.89%)\n",
            "\n",
            "Epoch 4  done\n",
            "EPOCH: 5\n"
          ],
          "name": "stdout"
        },
        {
          "output_type": "stream",
          "text": [
            "Loss=0.1007818803191185 Batch_id=468 Accuracy=97.98: 100%|██████████| 469/469 [00:14<00:00, 32.25it/s]\n",
            "  0%|          | 0/469 [00:00<?, ?it/s]"
          ],
          "name": "stderr"
        },
        {
          "output_type": "stream",
          "text": [
            "\n",
            "Test set: Average loss: 0.0567, Accuracy: 9823/10000 (98.23%)\n",
            "\n",
            "Epoch 5  done\n",
            "EPOCH: 6\n"
          ],
          "name": "stdout"
        },
        {
          "output_type": "stream",
          "text": [
            "Loss=0.06819498538970947 Batch_id=468 Accuracy=98.16: 100%|██████████| 469/469 [00:14<00:00, 32.37it/s]\n",
            "  0%|          | 0/469 [00:00<?, ?it/s]"
          ],
          "name": "stderr"
        },
        {
          "output_type": "stream",
          "text": [
            "\n",
            "Test set: Average loss: 0.0394, Accuracy: 9892/10000 (98.92%)\n",
            "\n",
            "Epoch 6  done\n",
            "EPOCH: 7\n"
          ],
          "name": "stdout"
        },
        {
          "output_type": "stream",
          "text": [
            "Loss=0.10549235343933105 Batch_id=468 Accuracy=98.24: 100%|██████████| 469/469 [00:14<00:00, 32.68it/s]\n",
            "  0%|          | 0/469 [00:00<?, ?it/s]"
          ],
          "name": "stderr"
        },
        {
          "output_type": "stream",
          "text": [
            "\n",
            "Test set: Average loss: 0.0454, Accuracy: 9868/10000 (98.68%)\n",
            "\n",
            "Epoch 7  done\n",
            "EPOCH: 8\n"
          ],
          "name": "stdout"
        },
        {
          "output_type": "stream",
          "text": [
            "Loss=0.05674971640110016 Batch_id=468 Accuracy=98.37: 100%|██████████| 469/469 [00:14<00:00, 32.29it/s]\n",
            "  0%|          | 0/469 [00:00<?, ?it/s]"
          ],
          "name": "stderr"
        },
        {
          "output_type": "stream",
          "text": [
            "\n",
            "Test set: Average loss: 0.0407, Accuracy: 9876/10000 (98.76%)\n",
            "\n",
            "Epoch 8  done\n",
            "EPOCH: 9\n"
          ],
          "name": "stdout"
        },
        {
          "output_type": "stream",
          "text": [
            "Loss=0.12041569501161575 Batch_id=468 Accuracy=98.44: 100%|██████████| 469/469 [00:14<00:00, 32.09it/s]\n",
            "  0%|          | 0/469 [00:00<?, ?it/s]"
          ],
          "name": "stderr"
        },
        {
          "output_type": "stream",
          "text": [
            "\n",
            "Test set: Average loss: 0.0377, Accuracy: 9887/10000 (98.87%)\n",
            "\n",
            "Epoch 9  done\n",
            "EPOCH: 10\n"
          ],
          "name": "stdout"
        },
        {
          "output_type": "stream",
          "text": [
            "Loss=0.09492161124944687 Batch_id=468 Accuracy=98.54: 100%|██████████| 469/469 [00:14<00:00, 32.54it/s]\n",
            "  0%|          | 0/469 [00:00<?, ?it/s]"
          ],
          "name": "stderr"
        },
        {
          "output_type": "stream",
          "text": [
            "\n",
            "Test set: Average loss: 0.0408, Accuracy: 9877/10000 (98.77%)\n",
            "\n",
            "Epoch 10  done\n",
            "EPOCH: 11\n"
          ],
          "name": "stdout"
        },
        {
          "output_type": "stream",
          "text": [
            "Loss=0.007760514970868826 Batch_id=468 Accuracy=98.63: 100%|██████████| 469/469 [00:14<00:00, 32.77it/s]\n",
            "  0%|          | 0/469 [00:00<?, ?it/s]"
          ],
          "name": "stderr"
        },
        {
          "output_type": "stream",
          "text": [
            "\n",
            "Test set: Average loss: 0.0338, Accuracy: 9901/10000 (99.01%)\n",
            "\n",
            "Epoch 11  done\n",
            "EPOCH: 12\n"
          ],
          "name": "stdout"
        },
        {
          "output_type": "stream",
          "text": [
            "Loss=0.05818244442343712 Batch_id=468 Accuracy=98.56: 100%|██████████| 469/469 [00:14<00:00, 32.32it/s]\n",
            "  0%|          | 0/469 [00:00<?, ?it/s]"
          ],
          "name": "stderr"
        },
        {
          "output_type": "stream",
          "text": [
            "\n",
            "Test set: Average loss: 0.0323, Accuracy: 9901/10000 (99.01%)\n",
            "\n",
            "Epoch 12  done\n",
            "EPOCH: 13\n"
          ],
          "name": "stdout"
        },
        {
          "output_type": "stream",
          "text": [
            "Loss=0.010234460234642029 Batch_id=468 Accuracy=98.69: 100%|██████████| 469/469 [00:14<00:00, 32.76it/s]\n",
            "  0%|          | 0/469 [00:00<?, ?it/s]"
          ],
          "name": "stderr"
        },
        {
          "output_type": "stream",
          "text": [
            "\n",
            "Test set: Average loss: 0.0387, Accuracy: 9886/10000 (98.86%)\n",
            "\n",
            "Epoch 13  done\n",
            "EPOCH: 14\n"
          ],
          "name": "stdout"
        },
        {
          "output_type": "stream",
          "text": [
            "Loss=0.017079511657357216 Batch_id=468 Accuracy=98.66: 100%|██████████| 469/469 [00:14<00:00, 32.82it/s]\n",
            "  0%|          | 0/469 [00:00<?, ?it/s]"
          ],
          "name": "stderr"
        },
        {
          "output_type": "stream",
          "text": [
            "\n",
            "Test set: Average loss: 0.0403, Accuracy: 9889/10000 (98.89%)\n",
            "\n",
            "Epoch 14  done\n",
            "EPOCH: 15\n"
          ],
          "name": "stdout"
        },
        {
          "output_type": "stream",
          "text": [
            "Loss=0.022781237959861755 Batch_id=468 Accuracy=98.67: 100%|██████████| 469/469 [00:14<00:00, 32.57it/s]\n"
          ],
          "name": "stderr"
        },
        {
          "output_type": "stream",
          "text": [
            "\n",
            "Test set: Average loss: 0.0262, Accuracy: 9920/10000 (99.20%)\n",
            "\n",
            "Epoch 15  done\n"
          ],
          "name": "stdout"
        }
      ]
    },
    {
      "cell_type": "code",
      "metadata": {
        "id": "So5uk4EkHW6R",
        "colab_type": "code",
        "outputId": "82f62fb5-7c60-4346-dff8-e2270c4ccee7",
        "colab": {
          "base_uri": "https://localhost:8080/",
          "height": 624
        }
      },
      "source": [
        "%matplotlib inline\n",
        "import matplotlib.pyplot as plt\n",
        "fig, axs = plt.subplots(2,2,figsize=(15,10))\n",
        "axs[0, 0].plot(train_losses)\n",
        "axs[0, 0].set_title(\"Training Loss\")\n",
        "axs[1, 0].plot(train_acc[4000:])\n",
        "axs[1, 0].set_title(\"Training Accuracy\")\n",
        "axs[0, 1].plot(test_losses)\n",
        "axs[0, 1].set_title(\"Test Loss\")\n",
        "axs[1, 1].plot(test_acc)\n",
        "axs[1, 1].set_title(\"Test Accuracy\")"
      ],
      "execution_count": 0,
      "outputs": [
        {
          "output_type": "execute_result",
          "data": {
            "text/plain": [
              "Text(0.5, 1.0, 'Test Accuracy')"
            ]
          },
          "metadata": {
            "tags": []
          },
          "execution_count": 17
        },
        {
          "output_type": "display_data",
          "data": {
            "image/png": "[encoded data removed]",
            "text/plain": [
              "<Figure size 1080x720 with 4 Axes>"
            ]
          },
          "metadata": {
            "tags": [],
            "needs_background": "light"
          }
        }
      ]
    },
    {
      "cell_type": "code",
      "metadata": {
        "id": "3tN0DTopFtVj",
        "colab_type": "code",
        "colab": {}
      },
      "source": [
        ""
      ],
      "execution_count": 0,
      "outputs": []
    }
  ]
}
