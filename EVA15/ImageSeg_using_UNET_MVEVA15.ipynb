{
  "nbformat": 4,
  "nbformat_minor": 0,
  "metadata": {
    "colab": {
      "name": "ImageSeg_using_UNET_MVEVA15.ipynb",
      "provenance": [],
      "collapsed_sections": [],
      "include_colab_link": true
    },
    "kernelspec": {
      "name": "python3",
      "display_name": "Python 3"
    },
    "accelerator": "GPU"
  },
  "cells": [
    {
      "cell_type": "markdown",
      "metadata": {
        "id": "view-in-github",
        "colab_type": "text"
      },
      "source": [
        "<a href=\"https://colab.research.google.com/github/vmadalasa/EVAConsolidated/blob/master/EVA15/ImageSeg_using_UNET_MVEVA15.ipynb\" target=\"_parent\"><img src=\"https://colab.research.google.com/assets/colab-badge.svg\" alt=\"Open In Colab\"/></a>"
      ]
    },
    {
      "cell_type": "code",
      "metadata": {
        "id": "0APNZN0iTQLo",
        "colab_type": "code",
        "colab": {
          "base_uri": "https://localhost:8080/",
          "height": 104
        },
        "outputId": "b685a47f-d03a-4a68-9b34-34b3f47c02ad"
      },
      "source": [
        "import psutil\n",
        "def get_size(bytes, suffix=\"B\"):\n",
        "    factor = 1024\n",
        "    for unit in [\"\", \"K\", \"M\", \"G\", \"T\", \"P\"]:\n",
        "        if bytes < factor:\n",
        "            return f\"{bytes:.2f}{unit}{suffix}\"\n",
        "        bytes /= factor\n",
        "print(\"=\"*40, \"Memory Information\", \"=\"*40)\n",
        "svmem = psutil.virtual_memory()\n",
        "print(f\"Total: {get_size(svmem.total)}\") ; print(f\"Available: {get_size(svmem.available)}\")\n",
        "print(f\"Used: {get_size(svmem.used)}\") ; print(f\"Percentage: {svmem.percent}%\")"
      ],
      "execution_count": null,
      "outputs": [
        {
          "output_type": "stream",
          "text": [
            "======================================== Memory Information ========================================\n",
            "Total: 12.72GB\n",
            "Available: 11.93GB\n",
            "Used: 533.57MB\n",
            "Percentage: 6.2%\n"
          ],
          "name": "stdout"
        }
      ]
    },
    {
      "cell_type": "code",
      "metadata": {
        "id": "TNS5Iabxiasy",
        "colab_type": "code",
        "colab": {
          "base_uri": "https://localhost:8080/",
          "height": 364
        },
        "outputId": "f1f79f4f-0445-4751-839a-02d9f55592a2"
      },
      "source": [
        "!nvidia-smi"
      ],
      "execution_count": null,
      "outputs": [
        {
          "output_type": "stream",
          "text": [
            "Sat Aug  8 14:47:33 2020       \n",
            "+-----------------------------------------------------------------------------+\n",
            "| NVIDIA-SMI 450.57       Driver Version: 418.67       CUDA Version: 10.1     |\n",
            "|-------------------------------+----------------------+----------------------+\n",
            "| GPU  Name        Persistence-M| Bus-Id        Disp.A | Volatile Uncorr. ECC |\n",
            "| Fan  Temp  Perf  Pwr:Usage/Cap|         Memory-Usage | GPU-Util  Compute M. |\n",
            "|                               |                      |               MIG M. |\n",
            "|===============================+======================+======================|\n",
            "|   0  Tesla K80           Off  | 00000000:00:04.0 Off |                    0 |\n",
            "| N/A   49C    P8    29W / 149W |      0MiB / 11441MiB |      0%      Default |\n",
            "|                               |                      |                 ERR! |\n",
            "+-------------------------------+----------------------+----------------------+\n",
            "                                                                               \n",
            "+-----------------------------------------------------------------------------+\n",
            "| Processes:                                                                  |\n",
            "|  GPU   GI   CI        PID   Type   Process name                  GPU Memory |\n",
            "|        ID   ID                                                   Usage      |\n",
            "|=============================================================================|\n",
            "|  No running processes found                                                 |\n",
            "+-----------------------------------------------------------------------------+\n"
          ],
          "name": "stdout"
        }
      ]
    },
    {
      "cell_type": "code",
      "metadata": {
        "id": "Bw83rdszP-Xa",
        "colab_type": "code",
        "colab": {}
      },
      "source": [
        "%matplotlib inline"
      ],
      "execution_count": null,
      "outputs": []
    },
    {
      "cell_type": "code",
      "metadata": {
        "id": "Btvv_AEjjnKg",
        "colab_type": "code",
        "colab": {
          "base_uri": "https://localhost:8080/",
          "height": 124
        },
        "outputId": "5a14eddc-7d8d-4929-f6d3-0741c8340691"
      },
      "source": [
        "from google.colab import drive\n",
        "drive.mount('/content/gdrive', force_remount=True)"
      ],
      "execution_count": null,
      "outputs": [
        {
          "output_type": "stream",
          "text": [
            "Go to this URL in a browser: https://accounts.google.com/o/oauth2/auth?client_id=947318989803-6bn6qk8qdgf4n4g3pfee6491hc0brc4i.apps.googleusercontent.com&redirect_uri=urn%3aietf%3awg%3aoauth%3a2.0%3aoob&response_type=code&scope=email%20https%3a%2f%2fwww.googleapis.com%2fauth%2fdocs.test%20https%3a%2f%2fwww.googleapis.com%2fauth%2fdrive%20https%3a%2f%2fwww.googleapis.com%2fauth%2fdrive.photos.readonly%20https%3a%2f%2fwww.googleapis.com%2fauth%2fpeopleapi.readonly\n",
            "\n",
            "Enter your authorization code:\n",
            "··········\n",
            "Mounted at /content/gdrive\n"
          ],
          "name": "stdout"
        }
      ]
    },
    {
      "cell_type": "code",
      "metadata": {
        "id": "Ylo9QlDyjzQB",
        "colab_type": "code",
        "colab": {}
      },
      "source": [
        "import sys\n",
        "sys.path.append('/content/gdrive/My Drive/EVA4/Assignment_15/15A/files/')\n",
        "from imports.imports_eva import *\n",
        "\n",
        "from overlay import overlay\n",
        "\n",
        "from dataloaders.custom_data_loader import custom_data_loader\n",
        "\n",
        "from models.UNet import UNet\n"
      ],
      "execution_count": null,
      "outputs": []
    },
    {
      "cell_type": "code",
      "metadata": {
        "id": "UdoOt-3oW-jK",
        "colab_type": "code",
        "colab": {}
      },
      "source": [
        "DO ALL IMPORTS HERE"
      ],
      "execution_count": null,
      "outputs": []
    },
    {
      "cell_type": "code",
      "metadata": {
        "id": "55E7o_6Qj3_e",
        "colab_type": "code",
        "colab": {
          "base_uri": "https://localhost:8080/",
          "height": 35
        },
        "outputId": "17f08cc5-8b82-449f-dc77-162499b268b8"
      },
      "source": [
        "import time\n",
        "import glob\n",
        "import torch\n",
        "import os\n",
        "import cv2\n",
        "import numpy as np\n",
        "from google.colab.patches import cv2_imshow\n",
        "\n",
        "from IPython.display import Image, clear_output \n",
        "print('PyTorch %s %s' % (torch.__version__, torch.cuda.get_device_properties(0) if torch.cuda.is_available() else 'CPU'))"
      ],
      "execution_count": null,
      "outputs": [
        {
          "output_type": "stream",
          "text": [
            "PyTorch 1.5.0+cu101 _CudaDeviceProperties(name='Tesla P100-PCIE-16GB', major=6, minor=0, total_memory=16280MB, multi_processor_count=56)\n"
          ],
          "name": "stdout"
        }
      ]
    },
    {
      "cell_type": "code",
      "metadata": {
        "id": "uB56NjBUVnU-",
        "colab_type": "code",
        "colab": {}
      },
      "source": [
        "from models.Net import Net"
      ],
      "execution_count": null,
      "outputs": []
    },
    {
      "cell_type": "code",
      "metadata": {
        "id": "FJXuQ0cUXBTY",
        "colab_type": "code",
        "colab": {}
      },
      "source": [
        "CHECK THE DATA TO MAKE SURE FOLDERS ARE IN PLACE IN GDRIVE. \n",
        "ACROSS MULTIPLE GDRIVES, so sharing options shlud bec checked\n",
        "check number of images for all base images and zipfile contents for depth images"
      ],
      "execution_count": null,
      "outputs": []
    },
    {
      "cell_type": "code",
      "metadata": {
        "id": "x2DG2i4gir9Y",
        "colab_type": "code",
        "colab": {
          "base_uri": "https://localhost:8080/",
          "height": 34
        },
        "outputId": "b54cc02f-03b3-4bf6-c40c-bb238155337c"
      },
      "source": [
        "cd /content/gdrive/My Drive/Assignment15A/mv_data/EVA4_Custom_Data/"
      ],
      "execution_count": null,
      "outputs": [
        {
          "output_type": "stream",
          "text": [
            "/content/gdrive/My Drive/Assignment15A/mv_data/EVA4_Custom_Data\n"
          ],
          "name": "stdout"
        }
      ]
    },
    {
      "cell_type": "code",
      "metadata": {
        "id": "o6gHcz3XVqXo",
        "colab_type": "code",
        "colab": {}
      },
      "source": [
        "from models.CustomNet import CustomNet"
      ],
      "execution_count": null,
      "outputs": []
    },
    {
      "cell_type": "code",
      "metadata": {
        "id": "bhuUCHBHC9a6",
        "colab_type": "code",
        "colab": {}
      },
      "source": [
        "!ls '/content/gdrive/My Drive/Assignment15data/assignment15/FGMASK_OVERLAY' | wc -l"
      ],
      "execution_count": null,
      "outputs": []
    },
    {
      "cell_type": "code",
      "metadata": {
        "id": "_MaSVOrvQhpV",
        "colab_type": "code",
        "colab": {}
      },
      "source": [
        "classes = []\n",
        "\n",
        "\n",
        "train_losses = []\n",
        "test_losses = []\n",
        "train_acc = []\n",
        "test_acc = []"
      ],
      "execution_count": null,
      "outputs": []
    },
    {
      "cell_type": "code",
      "metadata": {
        "id": "1FoM9ty3Xq8E",
        "colab_type": "code",
        "colab": {}
      },
      "source": [
        "FIRST WE USE THE UNET MODEL which is pretty standard for this type of depth estimation\n",
        "research for Unet - \n",
        "http://deeplearning.net/tutorial/unet.html#:~:text=U%2DNet%20is%20a%20Fully,for%20classification%20and%20segmentation%20tasks.\n",
        "\n",
        "The U-Net architecture is built upon the Fully Convolutional Network and modified in a way that it yields better segmentation. \n",
        "Compared to FCN-8, the two main differences are (1) U-net is symmetric and (2) the skip connections between the downsampling path and the upsampling path apply a concatenation operator instead of a sum. \n",
        "Unet follows the architecture conv_layer1 -> conv_layer2 -> max_pooling -> dropout(optional) for contractive path and \n",
        "conv_2d_transpose -> concatenate -> conv_layer1 -> conv_layer2 for expansive path. \n",
        "Hsd to make  changes to take in_channels as 6 channels in this architecture\n"
      ],
      "execution_count": null,
      "outputs": []
    },
    {
      "cell_type": "code",
      "metadata": {
        "id": "KzXhi1ej5xYK",
        "colab_type": "code",
        "colab": {
          "base_uri": "https://localhost:8080/",
          "height": 1000
        },
        "outputId": "c054b1c3-15b5-42a2-80a0-4a4f80c2abd4"
      },
      "source": [
        "!pip install torchsummary\n",
        "from torchsummary import summary\n",
        "\n",
        "use_cuda = torch.cuda.is_available()\n",
        "device = torch.device(\"cuda\" if use_cuda else \"cpu\")\n",
        "print (device)\n",
        "\n",
        "model = UNet(in_channels=6, out_channels=1).to(device)\n",
        "summary (model, input_size=(6, 224, 224))\n",
        "print (model)"
      ],
      "execution_count": null,
      "outputs": [
        {
          "output_type": "stream",
          "text": [
            "Requirement already satisfied: torchsummary in /usr/local/lib/python3.6/dist-packages (1.5.1)\n",
            "cuda\n",
            "----------------------------------------------------------------\n",
            "        Layer (type)               Output Shape         Param #\n",
            "================================================================\n",
            "            Conv2d-1         [-1, 64, 224, 224]           3,456\n",
            "       BatchNorm2d-2         [-1, 64, 224, 224]             128\n",
            "              ReLU-3         [-1, 64, 224, 224]               0\n",
            "            Conv2d-4         [-1, 64, 224, 224]          36,864\n",
            "       BatchNorm2d-5         [-1, 64, 224, 224]             128\n",
            "              ReLU-6         [-1, 64, 224, 224]               0\n",
            "         MaxPool2d-7         [-1, 64, 112, 112]               0\n",
            "            Conv2d-8        [-1, 128, 112, 112]          73,728\n",
            "       BatchNorm2d-9        [-1, 128, 112, 112]             256\n",
            "             ReLU-10        [-1, 128, 112, 112]               0\n",
            "           Conv2d-11        [-1, 128, 112, 112]         147,456\n",
            "      BatchNorm2d-12        [-1, 128, 112, 112]             256\n",
            "             ReLU-13        [-1, 128, 112, 112]               0\n",
            "        MaxPool2d-14          [-1, 128, 56, 56]               0\n",
            "           Conv2d-15          [-1, 256, 56, 56]         294,912\n",
            "      BatchNorm2d-16          [-1, 256, 56, 56]             512\n",
            "             ReLU-17          [-1, 256, 56, 56]               0\n",
            "           Conv2d-18          [-1, 256, 56, 56]         589,824\n",
            "      BatchNorm2d-19          [-1, 256, 56, 56]             512\n",
            "             ReLU-20          [-1, 256, 56, 56]               0\n",
            "        MaxPool2d-21          [-1, 256, 28, 28]               0\n",
            "           Conv2d-22          [-1, 512, 28, 28]       1,179,648\n",
            "      BatchNorm2d-23          [-1, 512, 28, 28]           1,024\n",
            "             ReLU-24          [-1, 512, 28, 28]               0\n",
            "           Conv2d-25          [-1, 512, 28, 28]       2,359,296\n",
            "      BatchNorm2d-26          [-1, 512, 28, 28]           1,024\n",
            "             ReLU-27          [-1, 512, 28, 28]               0\n",
            "        MaxPool2d-28          [-1, 512, 14, 14]               0\n",
            "           Conv2d-29         [-1, 1024, 12, 12]       4,718,592\n",
            "      BatchNorm2d-30         [-1, 1024, 12, 12]           2,048\n",
            "             ReLU-31         [-1, 1024, 12, 12]               0\n",
            "           Conv2d-32         [-1, 1024, 10, 10]       9,437,184\n",
            "      BatchNorm2d-33         [-1, 1024, 10, 10]           2,048\n",
            "             ReLU-34         [-1, 1024, 10, 10]               0\n",
            "  ConvTranspose2d-35          [-1, 512, 20, 20]       4,718,592\n",
            "           Conv2d-36          [-1, 512, 18, 18]       4,718,592\n",
            "      BatchNorm2d-37          [-1, 512, 18, 18]           1,024\n",
            "             ReLU-38          [-1, 512, 18, 18]               0\n",
            "           Conv2d-39          [-1, 512, 16, 16]       2,359,296\n",
            "      BatchNorm2d-40          [-1, 512, 16, 16]           1,024\n",
            "             ReLU-41          [-1, 512, 16, 16]               0\n",
            "  ConvTranspose2d-42          [-1, 256, 32, 32]       1,179,648\n",
            "           Conv2d-43          [-1, 256, 30, 30]       1,179,648\n",
            "      BatchNorm2d-44          [-1, 256, 30, 30]             512\n",
            "             ReLU-45          [-1, 256, 30, 30]               0\n",
            "           Conv2d-46          [-1, 256, 28, 28]         589,824\n",
            "      BatchNorm2d-47          [-1, 256, 28, 28]             512\n",
            "             ReLU-48          [-1, 256, 28, 28]               0\n",
            "  ConvTranspose2d-49          [-1, 128, 56, 56]         294,912\n",
            "           Conv2d-50          [-1, 128, 54, 54]         294,912\n",
            "      BatchNorm2d-51          [-1, 128, 54, 54]             256\n",
            "             ReLU-52          [-1, 128, 54, 54]               0\n",
            "           Conv2d-53          [-1, 128, 52, 52]         147,456\n",
            "      BatchNorm2d-54          [-1, 128, 52, 52]             256\n",
            "             ReLU-55          [-1, 128, 52, 52]               0\n",
            "  ConvTranspose2d-56         [-1, 64, 104, 104]          73,728\n",
            "           Conv2d-57         [-1, 64, 102, 102]          73,728\n",
            "      BatchNorm2d-58         [-1, 64, 102, 102]             128\n",
            "             ReLU-59         [-1, 64, 102, 102]               0\n",
            "           Conv2d-60         [-1, 64, 100, 100]          36,864\n",
            "      BatchNorm2d-61         [-1, 64, 100, 100]             128\n",
            "             ReLU-62         [-1, 64, 100, 100]               0\n",
            "           Conv2d-63            [-1, 1, 98, 98]             576\n",
            "      BatchNorm2d-64            [-1, 1, 98, 98]               2\n",
            "             ReLU-65            [-1, 1, 98, 98]               0\n",
            "================================================================\n",
            "Total params: 34,520,514\n",
            "Trainable params: 34,520,514\n",
            "Non-trainable params: 0\n",
            "----------------------------------------------------------------\n",
            "Input size (MB): 1.15\n",
            "Forward/backward pass size (MB): 367.97\n",
            "Params size (MB): 131.69\n",
            "Estimated Total Size (MB): 500.81\n",
            "----------------------------------------------------------------\n",
            "UNet(\n",
            "  (convblock1): Sequential(\n",
            "    (0): Conv2d(6, 64, kernel_size=(3, 3), stride=(1, 1), padding=(1, 1), bias=False)\n",
            "    (1): BatchNorm2d(64, eps=1e-05, momentum=0.1, affine=True, track_running_stats=True)\n",
            "    (2): ReLU()\n",
            "    (3): Conv2d(64, 64, kernel_size=(3, 3), stride=(1, 1), padding=(1, 1), bias=False)\n",
            "    (4): BatchNorm2d(64, eps=1e-05, momentum=0.1, affine=True, track_running_stats=True)\n",
            "    (5): ReLU()\n",
            "  )\n",
            "  (pool1): MaxPool2d(kernel_size=2, stride=2, padding=0, dilation=1, ceil_mode=False)\n",
            "  (convblock2): Sequential(\n",
            "    (0): Conv2d(64, 128, kernel_size=(3, 3), stride=(1, 1), padding=(1, 1), bias=False)\n",
            "    (1): BatchNorm2d(128, eps=1e-05, momentum=0.1, affine=True, track_running_stats=True)\n",
            "    (2): ReLU()\n",
            "    (3): Conv2d(128, 128, kernel_size=(3, 3), stride=(1, 1), padding=(1, 1), bias=False)\n",
            "    (4): BatchNorm2d(128, eps=1e-05, momentum=0.1, affine=True, track_running_stats=True)\n",
            "    (5): ReLU()\n",
            "  )\n",
            "  (pool2): MaxPool2d(kernel_size=2, stride=2, padding=0, dilation=1, ceil_mode=False)\n",
            "  (convblock3): Sequential(\n",
            "    (0): Conv2d(128, 256, kernel_size=(3, 3), stride=(1, 1), padding=(1, 1), bias=False)\n",
            "    (1): BatchNorm2d(256, eps=1e-05, momentum=0.1, affine=True, track_running_stats=True)\n",
            "    (2): ReLU()\n",
            "    (3): Conv2d(256, 256, kernel_size=(3, 3), stride=(1, 1), padding=(1, 1), bias=False)\n",
            "    (4): BatchNorm2d(256, eps=1e-05, momentum=0.1, affine=True, track_running_stats=True)\n",
            "    (5): ReLU()\n",
            "  )\n",
            "  (pool3): MaxPool2d(kernel_size=2, stride=2, padding=0, dilation=1, ceil_mode=False)\n",
            "  (convblock4): Sequential(\n",
            "    (0): Conv2d(256, 512, kernel_size=(3, 3), stride=(1, 1), padding=(1, 1), bias=False)\n",
            "    (1): BatchNorm2d(512, eps=1e-05, momentum=0.1, affine=True, track_running_stats=True)\n",
            "    (2): ReLU()\n",
            "    (3): Conv2d(512, 512, kernel_size=(3, 3), stride=(1, 1), padding=(1, 1), bias=False)\n",
            "    (4): BatchNorm2d(512, eps=1e-05, momentum=0.1, affine=True, track_running_stats=True)\n",
            "    (5): ReLU()\n",
            "  )\n",
            "  (pool4): MaxPool2d(kernel_size=2, stride=2, padding=0, dilation=1, ceil_mode=False)\n",
            "  (base): Sequential(\n",
            "    (0): Conv2d(512, 1024, kernel_size=(3, 3), stride=(1, 1), bias=False)\n",
            "    (1): BatchNorm2d(1024, eps=1e-05, momentum=0.1, affine=True, track_running_stats=True)\n",
            "    (2): ReLU()\n",
            "    (3): Conv2d(1024, 1024, kernel_size=(3, 3), stride=(1, 1), bias=False)\n",
            "    (4): BatchNorm2d(1024, eps=1e-05, momentum=0.1, affine=True, track_running_stats=True)\n",
            "    (5): ReLU()\n",
            "    (6): ConvTranspose2d(1024, 512, kernel_size=(3, 3), stride=(2, 2), padding=(1, 1), output_padding=(1, 1), bias=False)\n",
            "  )\n",
            "  (convblock5): Sequential(\n",
            "    (0): Conv2d(1024, 512, kernel_size=(3, 3), stride=(1, 1), bias=False)\n",
            "    (1): BatchNorm2d(512, eps=1e-05, momentum=0.1, affine=True, track_running_stats=True)\n",
            "    (2): ReLU()\n",
            "    (3): Conv2d(512, 512, kernel_size=(3, 3), stride=(1, 1), bias=False)\n",
            "    (4): BatchNorm2d(512, eps=1e-05, momentum=0.1, affine=True, track_running_stats=True)\n",
            "    (5): ReLU()\n",
            "    (6): ConvTranspose2d(512, 256, kernel_size=(3, 3), stride=(2, 2), padding=(1, 1), output_padding=(1, 1), bias=False)\n",
            "  )\n",
            "  (convblock6): Sequential(\n",
            "    (0): Conv2d(512, 256, kernel_size=(3, 3), stride=(1, 1), bias=False)\n",
            "    (1): BatchNorm2d(256, eps=1e-05, momentum=0.1, affine=True, track_running_stats=True)\n",
            "    (2): ReLU()\n",
            "    (3): Conv2d(256, 256, kernel_size=(3, 3), stride=(1, 1), bias=False)\n",
            "    (4): BatchNorm2d(256, eps=1e-05, momentum=0.1, affine=True, track_running_stats=True)\n",
            "    (5): ReLU()\n",
            "    (6): ConvTranspose2d(256, 128, kernel_size=(3, 3), stride=(2, 2), padding=(1, 1), output_padding=(1, 1), bias=False)\n",
            "  )\n",
            "  (convblock7): Sequential(\n",
            "    (0): Conv2d(256, 128, kernel_size=(3, 3), stride=(1, 1), bias=False)\n",
            "    (1): BatchNorm2d(128, eps=1e-05, momentum=0.1, affine=True, track_running_stats=True)\n",
            "    (2): ReLU()\n",
            "    (3): Conv2d(128, 128, kernel_size=(3, 3), stride=(1, 1), bias=False)\n",
            "    (4): BatchNorm2d(128, eps=1e-05, momentum=0.1, affine=True, track_running_stats=True)\n",
            "    (5): ReLU()\n",
            "    (6): ConvTranspose2d(128, 64, kernel_size=(3, 3), stride=(2, 2), padding=(1, 1), output_padding=(1, 1), bias=False)\n",
            "  )\n",
            "  (convblock_final): Sequential(\n",
            "    (0): Conv2d(128, 64, kernel_size=(3, 3), stride=(1, 1), bias=False)\n",
            "    (1): BatchNorm2d(64, eps=1e-05, momentum=0.1, affine=True, track_running_stats=True)\n",
            "    (2): ReLU()\n",
            "    (3): Conv2d(64, 64, kernel_size=(3, 3), stride=(1, 1), bias=False)\n",
            "    (4): BatchNorm2d(64, eps=1e-05, momentum=0.1, affine=True, track_running_stats=True)\n",
            "    (5): ReLU()\n",
            "    (6): Conv2d(64, 1, kernel_size=(3, 3), stride=(1, 1), bias=False)\n",
            "    (7): BatchNorm2d(1, eps=1e-05, momentum=0.1, affine=True, track_running_stats=True)\n",
            "    (8): ReLU()\n",
            "  )\n",
            ")\n"
          ],
          "name": "stdout"
        }
      ]
    },
    {
      "cell_type": "code",
      "metadata": {
        "id": "RCexgoxHclgw",
        "colab_type": "code",
        "colab": {}
      },
      "source": [
        "data_transform = custom_data_loader.get_def_data_transform()"
      ],
      "execution_count": null,
      "outputs": []
    },
    {
      "cell_type": "code",
      "metadata": {
        "id": "MmbEJbiF436M",
        "colab_type": "code",
        "colab": {}
      },
      "source": [
        "dataset = custom_data_loader.custom_data_set(root_path = '/content/EVA4_Custom_Data/', folder = 'images', transform = data_transform)\n",
        "dataset_test = custom_data_loader.custom_data_set(root_path = '/content/EVA4_Custom_Data/', folder = 'images', transform = data_transform)\n"
      ],
      "execution_count": null,
      "outputs": []
    },
    {
      "cell_type": "code",
      "metadata": {
        "id": "gS8gIpoC40V-",
        "colab_type": "code",
        "colab": {}
      },
      "source": [
        "dataset_loader = custom_data_loader.custom_data_loader (dataset, batch_size=128, num_workers=4, shuffle=True)\n",
        "test_dataset_loader = custom_data_loader.custom_data_loader (dataset_test, batch_size=128, num_workers=4, shuffle=False)"
      ],
      "execution_count": null,
      "outputs": []
    },
    {
      "cell_type": "code",
      "metadata": {
        "id": "poJNxBVTeo7D",
        "colab_type": "code",
        "colab": {}
      },
      "source": [
        "PATH = '/content/gdrive/My Drive/EVA4/Assignment_15/15A/files/Model_UNet_14_06.pth'"
      ],
      "execution_count": null,
      "outputs": []
    },
    {
      "cell_type": "code",
      "metadata": {
        "id": "a1Jwwy_94D-W",
        "colab_type": "code",
        "colab": {}
      },
      "source": [
        "#BCE with Logitsloss tested\n",
        "\n",
        "#criterion = nn.L1Loss().cuda()\n",
        "#criterion = nn.MSELoss().cuda()\n",
        "#criterion = nn.CrossEntropyLoss().cuda()\n",
        "criterion = nn.BCEWithLogitsLoss().cuda()"
      ],
      "execution_count": null,
      "outputs": []
    },
    {
      "cell_type": "code",
      "metadata": {
        "id": "vU3ZIKXyBrED",
        "colab_type": "code",
        "colab": {}
      },
      "source": [
        "def train(model, device, train_loader, optimizer, epoch, criterion):\n",
        "  train_losses = []\n",
        "  train_acc = []\n",
        "  model.train()\n",
        "  pbar = tqdm(train_loader)\n",
        "  correct = 0\n",
        "  processed = 0\n",
        "\n",
        "  for batch_idx, (data) in enumerate(pbar):\n",
        "    idx = 0\n",
        "    # get samples\n",
        "    images = data[\"Image\"].to(device) \n",
        "    image_bgs = data[\"Image_Bg\"].to(device) \n",
        "    masks = data[\"Mask\"].to(device)\n",
        "\n",
        "    image_and_bg = torch.cat ((images,image_bgs), dim = 1)\n",
        "\n",
        "    # Init\n",
        "    optimizer.zero_grad()\n",
        "\n",
        "    # Predict\n",
        "    y_pred = model(image_and_bg)\n",
        "\n",
        "    # Calculate loss\n",
        "    criterion = criterion\n",
        "    loss = criterion(y_pred, masks)\n",
        "    train_losses.append(loss)\n",
        "\n",
        "    # Backpropagation\n",
        "    loss.backward()\n",
        "    optimizer.step()\n",
        "\n",
        "    if batch_idx % 1500 == 0:\n",
        "      torch.save(model.state_dict(), PATH)\n",
        "\n",
        "    pbar.set_description(desc= f'Loss={loss.item():0.3f} Batch_id={batch_idx} ')\n",
        "    train_acc.append(loss)\n",
        "\n",
        "  return train_losses, train_acc\n",
        "\n",
        "def test(model, device, test_loader):\n",
        "  model.eval()\n",
        "  test_losses = []\n",
        "  test_acc = []\n",
        "  test_loss = 0\n",
        "  correct = 0\n",
        "\n",
        "  with torch.no_grad():\n",
        "      for idx, data in enumerate(test_loader):\n",
        "        images = data[\"Image\"].to(device) \n",
        "        image_bgs = data[\"Image_Bg\"].to(device)   \n",
        "        masks = data[\"Mask\"].to(device)\n",
        "\n",
        "        image_and_bg = torch.cat ((images,image_bgs), dim = 1)\n",
        "\n",
        "        output = model(image_and_bg)\n",
        "        criterion = nn.BCEWithLogitsLoss().cuda()\n",
        "        test_loss += criterion(output, masks).item()  # sum up batch loss\n",
        "\n",
        "\n",
        "  test_loss /= len(test_loader.dataset)\n",
        "  test_losses.append(test_loss)\n",
        "\n",
        "  print('\\nTest set: Average loss: {:.4f}, Accuracy: /{} \\n'.format(\n",
        "      test_loss, len(test_loader.dataset)))\n",
        "  \n",
        "  test_acc.append(test_loss)\n",
        "  return test_losses, test_acc"
      ],
      "execution_count": null,
      "outputs": []
    },
    {
      "cell_type": "code",
      "metadata": {
        "id": "CR_4pPl6CL1z",
        "colab_type": "code",
        "colab": {}
      },
      "source": [
        "model = CustomNet().to(device)\n",
        "optimizer = optim.SGD(model.parameters(), lr=0.1, momentum=0.9, weight_decay=0.000001)  # Removed Weight Decay\n",
        "scheduler = StepLR(optimizer, step_size=1, gamma=0.01)"
      ],
      "execution_count": null,
      "outputs": []
    },
    {
      "cell_type": "code",
      "metadata": {
        "id": "1khYH8TbCQ-5",
        "colab_type": "code",
        "colab": {}
      },
      "source": [
        "from tqdm.notebook import tqdm\n",
        "\n",
        "EPOCHS = 1\n",
        "for epoch in range(EPOCHS):\n",
        "    print(\"EPOCH:\", epoch+1)\n",
        "    a,b = train(model, device, dataset_loader, optimizer, epoch)\n",
        "    train_losses.extend(a)\n",
        "    train_acc.extend(b)\n",
        "\n",
        "    scheduler.step()\n",
        "    print('')"
      ],
      "execution_count": null,
      "outputs": []
    },
    {
      "cell_type": "code",
      "metadata": {
        "id": "s_tfwK_iNlww",
        "colab_type": "code",
        "colab": {}
      },
      "source": [
        "PATH = '/content/gdrive/My Drive/EVA4/Assignment_15/15A/files/Model_CustomNet_14_06.pth'"
      ],
      "execution_count": null,
      "outputs": []
    },
    {
      "cell_type": "code",
      "metadata": {
        "id": "vw8deAJrXU4X",
        "colab_type": "code",
        "colab": {
          "base_uri": "https://localhost:8080/",
          "height": 468
        },
        "outputId": "4fc01b32-5524-4c15-eb51-f8a12f45cbab"
      },
      "source": [
        "model = CustomNet().to(device)\n",
        "model.load_state_dict(torch.load(PATH))\n",
        "model.eval()"
      ],
      "execution_count": null,
      "outputs": [
        {
          "output_type": "execute_result",
          "data": {
            "text/plain": [
              "CustomNet(\n",
              "  (conv_block_1): Sequential(\n",
              "    (0): Conv2d(6, 64, kernel_size=(3, 3), stride=(1, 1), bias=False)\n",
              "    (1): BatchNorm2d(64, eps=1e-05, momentum=0.1, affine=True, track_running_stats=True)\n",
              "    (2): ReLU()\n",
              "  )\n",
              "  (conv_block_2): Sequential(\n",
              "    (0): Conv2d(64, 128, kernel_size=(3, 3), stride=(1, 1))\n",
              "    (1): BatchNorm2d(128, eps=1e-05, momentum=0.1, affine=True, track_running_stats=True)\n",
              "    (2): ReLU()\n",
              "  )\n",
              "  (pool1): MaxPool2d(kernel_size=2, stride=2, padding=0, dilation=1, ceil_mode=False)\n",
              "  (conv_block_3): Sequential(\n",
              "    (0): Conv2d(128, 128, kernel_size=(3, 3), stride=(1, 1))\n",
              "    (1): BatchNorm2d(128, eps=1e-05, momentum=0.1, affine=True, track_running_stats=True)\n",
              "    (2): ReLU()\n",
              "  )\n",
              "  (conv_block_4): Sequential(\n",
              "    (0): Conv2d(128, 256, kernel_size=(3, 3), stride=(1, 1))\n",
              "    (1): BatchNorm2d(256, eps=1e-05, momentum=0.1, affine=True, track_running_stats=True)\n",
              "    (2): ReLU()\n",
              "  )\n",
              "  (conv_block_5): Sequential(\n",
              "    (0): Conv2d(256, 1, kernel_size=(3, 3), stride=(1, 1))\n",
              "  )\n",
              ")"
            ]
          },
          "metadata": {
            "tags": []
          },
          "execution_count": 30
        }
      ]
    },
    {
      "cell_type": "code",
      "metadata": {
        "id": "5VlAoiVO_Dup",
        "colab_type": "code",
        "colab": {}
      },
      "source": [
        "images = iter(dataset_loader).next()\n",
        "\n",
        "image = images[\"Image\"].to(device)\n",
        "image_bg = images[\"Image_Bg\"].to(device)\n",
        "masks = images[\"Mask\"].to(device)\n",
        "\n",
        "image_and_bg = torch.cat ((image, image_bg), dim = 1)\n",
        "\n",
        "y_pred = model(image_and_bg)"
      ],
      "execution_count": null,
      "outputs": []
    },
    {
      "cell_type": "code",
      "metadata": {
        "id": "budNjPJFS6BQ",
        "colab_type": "code",
        "colab": {}
      },
      "source": [
        "def show_image(inp, n_row=8, title=None, mean=None, std=None):\n",
        "\n",
        "    inp = torchvision.utils.make_grid(inp.detach().cpu(), n_row)\n",
        "    inp = inp.numpy().transpose((1, 2, 0))\n",
        "    if mean:\n",
        "        mean = np.array(mean)\n",
        "        std = np.array(std)\n",
        "        inp = std * inp + mean\n",
        "        inp = np.clip(inp, 0, 1)\n",
        "    plt.figure(figsize=(10, 10))\n",
        "    plt.savefig('/content/EVA4_Custom_Data/mask_images',inp)\n",
        "    plt.axis('off')\n",
        "    if title is not None:\n",
        "        plt.title(title)\n",
        "    plt.pause(0.001)  "
      ],
      "execution_count": null,
      "outputs": []
    },
    {
      "cell_type": "code",
      "metadata": {
        "id": "VVsLg8DfTEvC",
        "colab_type": "code",
        "colab": {}
      },
      "source": [
        "show_image(y_pred[::4], n_row=8, title='Predicted (Mask)')"
      ],
      "execution_count": null,
      "outputs": []
    },
    {
      "cell_type": "code",
      "metadata": {
        "id": "DRAjzuU4YsS4",
        "colab_type": "code",
        "colab": {}
      },
      "source": [
        "show_image(unet_pred[::4].cpu(), n_row=8, title='Predicted (Mask)')"
      ],
      "execution_count": null,
      "outputs": []
    },
    {
      "cell_type": "code",
      "metadata": {
        "id": "dMbdAEyHKb95",
        "colab_type": "code",
        "colab": {
          "base_uri": "https://localhost:8080/",
          "height": 780
        },
        "outputId": "cb77da67-8883-44ac-f6e1-74c332907868"
      },
      "source": [
        "!pip install torchsummary\n",
        "from torchsummary import summary\n",
        "\n",
        "use_cuda = torch.cuda.is_available()\n",
        "device = torch.device(\"cuda\" if use_cuda else \"cpu\")\n",
        "print (device)\n",
        "\n",
        "model = Net().to(device)\n",
        "print (model)"
      ],
      "execution_count": null,
      "outputs": [
        {
          "output_type": "stream",
          "text": [
            "Requirement already satisfied: torchsummary in /usr/local/lib/python3.6/dist-packages (1.5.1)\n",
            "cuda\n",
            "Net(\n",
            "  (convblock1_1): Sequential(\n",
            "    (0): Conv2d(3, 32, kernel_size=(3, 3), stride=(1, 1), padding=(1, 1), bias=False)\n",
            "    (1): BatchNorm2d(32, eps=1e-05, momentum=0.1, affine=True, track_running_stats=True)\n",
            "    (2): ReLU()\n",
            "  )\n",
            "  (convblock1_2): Sequential(\n",
            "    (0): Conv2d(32, 32, kernel_size=(3, 3), stride=(1, 1), padding=(1, 1), groups=32, bias=False)\n",
            "    (1): Conv2d(32, 64, kernel_size=(1, 1), stride=(1, 1), bias=False)\n",
            "    (2): BatchNorm2d(64, eps=1e-05, momentum=0.1, affine=True, track_running_stats=True)\n",
            "    (3): ReLU()\n",
            "  )\n",
            "  (convblock2_1): Sequential(\n",
            "    (0): Conv2d(3, 32, kernel_size=(3, 3), stride=(1, 1), padding=(1, 1), bias=False)\n",
            "    (1): BatchNorm2d(32, eps=1e-05, momentum=0.1, affine=True, track_running_stats=True)\n",
            "    (2): ReLU()\n",
            "  )\n",
            "  (convblock2_2): Sequential(\n",
            "    (0): Conv2d(32, 32, kernel_size=(3, 3), stride=(1, 1), padding=(1, 1), groups=32, bias=False)\n",
            "    (1): Conv2d(32, 64, kernel_size=(1, 1), stride=(1, 1), bias=False)\n",
            "    (2): BatchNorm2d(64, eps=1e-05, momentum=0.1, affine=True, track_running_stats=True)\n",
            "    (3): ReLU()\n",
            "  )\n",
            "  (convblock3): Sequential(\n",
            "    (0): Conv2d(128, 64, kernel_size=(1, 1), stride=(1, 1), bias=False)\n",
            "    (1): BatchNorm2d(64, eps=1e-05, momentum=0.1, affine=True, track_running_stats=True)\n",
            "    (2): ReLU()\n",
            "  )\n",
            "  (convblock4): Sequential(\n",
            "    (0): Conv2d(64, 128, kernel_size=(3, 3), stride=(1, 1), padding=(1, 1), bias=False)\n",
            "    (1): BatchNorm2d(128, eps=1e-05, momentum=0.1, affine=True, track_running_stats=True)\n",
            "    (2): ReLU()\n",
            "  )\n",
            "  (convblock5): Sequential(\n",
            "    (0): Conv2d(128, 256, kernel_size=(3, 3), stride=(1, 1), padding=(1, 1), bias=False)\n",
            "    (1): BatchNorm2d(256, eps=1e-05, momentum=0.1, affine=True, track_running_stats=True)\n",
            "    (2): ReLU()\n",
            "  )\n",
            "  (convblock6): Sequential(\n",
            "    (0): Conv2d(256, 1, kernel_size=(3, 3), stride=(1, 1), padding=(1, 1), bias=False)\n",
            "  )\n",
            ")\n"
          ],
          "name": "stdout"
        }
      ]
    },
    {
      "cell_type": "code",
      "metadata": {
        "id": "YVBiYZVbJ5HO",
        "colab_type": "code",
        "colab": {
          "base_uri": "https://localhost:8080/",
          "height": 971
        },
        "outputId": "bfa3e3ad-9b28-49ea-d592-8862e338a3bb"
      },
      "source": [
        "!pip install torchsummary\n",
        "from torchsummary import summary\n",
        "\n",
        "use_cuda = torch.cuda.is_available()\n",
        "device = torch.device(\"cuda\" if use_cuda else \"cpu\")\n",
        "print (device)\n",
        "\n",
        "model = CustomNet().to(device)\n",
        "summary (model, input_size=(6, 64, 64))\n",
        "print (model)"
      ],
      "execution_count": null,
      "outputs": [
        {
          "output_type": "stream",
          "text": [
            "Requirement already satisfied: torchsummary in /usr/local/lib/python3.6/dist-packages (1.5.1)\n",
            "cuda\n",
            "----------------------------------------------------------------\n",
            "        Layer (type)               Output Shape         Param #\n",
            "================================================================\n",
            "            Conv2d-1           [-1, 64, 62, 62]           3,456\n",
            "       BatchNorm2d-2           [-1, 64, 62, 62]             128\n",
            "              ReLU-3           [-1, 64, 62, 62]               0\n",
            "            Conv2d-4          [-1, 128, 60, 60]          73,856\n",
            "       BatchNorm2d-5          [-1, 128, 60, 60]             256\n",
            "              ReLU-6          [-1, 128, 60, 60]               0\n",
            "         MaxPool2d-7          [-1, 128, 30, 30]               0\n",
            "            Conv2d-8          [-1, 128, 28, 28]         147,584\n",
            "       BatchNorm2d-9          [-1, 128, 28, 28]             256\n",
            "             ReLU-10          [-1, 128, 28, 28]               0\n",
            "           Conv2d-11          [-1, 256, 26, 26]         295,168\n",
            "      BatchNorm2d-12          [-1, 256, 26, 26]             512\n",
            "             ReLU-13          [-1, 256, 26, 26]               0\n",
            "           Conv2d-14            [-1, 1, 24, 24]           2,305\n",
            "================================================================\n",
            "Total params: 523,521\n",
            "Trainable params: 523,521\n",
            "Non-trainable params: 0\n",
            "----------------------------------------------------------------\n",
            "Input size (MB): 0.09\n",
            "Forward/backward pass size (MB): 23.32\n",
            "Params size (MB): 2.00\n",
            "Estimated Total Size (MB): 25.41\n",
            "----------------------------------------------------------------\n",
            "CustomNet(\n",
            "  (conv_block_1): Sequential(\n",
            "    (0): Conv2d(6, 64, kernel_size=(3, 3), stride=(1, 1), bias=False)\n",
            "    (1): BatchNorm2d(64, eps=1e-05, momentum=0.1, affine=True, track_running_stats=True)\n",
            "    (2): ReLU()\n",
            "  )\n",
            "  (conv_block_2): Sequential(\n",
            "    (0): Conv2d(64, 128, kernel_size=(3, 3), stride=(1, 1))\n",
            "    (1): BatchNorm2d(128, eps=1e-05, momentum=0.1, affine=True, track_running_stats=True)\n",
            "    (2): ReLU()\n",
            "  )\n",
            "  (pool1): MaxPool2d(kernel_size=2, stride=2, padding=0, dilation=1, ceil_mode=False)\n",
            "  (conv_block_3): Sequential(\n",
            "    (0): Conv2d(128, 128, kernel_size=(3, 3), stride=(1, 1))\n",
            "    (1): BatchNorm2d(128, eps=1e-05, momentum=0.1, affine=True, track_running_stats=True)\n",
            "    (2): ReLU()\n",
            "  )\n",
            "  (conv_block_4): Sequential(\n",
            "    (0): Conv2d(128, 256, kernel_size=(3, 3), stride=(1, 1))\n",
            "    (1): BatchNorm2d(256, eps=1e-05, momentum=0.1, affine=True, track_running_stats=True)\n",
            "    (2): ReLU()\n",
            "  )\n",
            "  (conv_block_5): Sequential(\n",
            "    (0): Conv2d(256, 1, kernel_size=(3, 3), stride=(1, 1))\n",
            "  )\n",
            ")\n"
          ],
          "name": "stdout"
        }
      ]
    }
  ]
}